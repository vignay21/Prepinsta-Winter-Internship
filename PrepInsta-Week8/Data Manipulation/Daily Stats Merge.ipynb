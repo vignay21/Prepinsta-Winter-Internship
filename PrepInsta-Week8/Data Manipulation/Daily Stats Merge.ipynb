{
 "cells": [
  {
   "cell_type": "markdown",
   "metadata": {
    "id": "KiLLSNdpjHEc"
   },
   "source": [
    "#**Week-8 Assignment**\n",
    "##**`Daily` Stats Merge**\n",
    "---\n",
    "Respondents generated this dataset to a distributed survey via Amazon Mechanical Turk between 03.12.2016 and 05.12.2016. Thirty eligible Fitbit users consented to submit personal tracker data, including minute-level output for physical activity, heart rate, and sleep monitoring. Individual reports can be parsed by export session ID (column A) or timestamp (column B). Variation between output represents the use of different Fitbit trackers and individual tracking behaviors/preferences.\n",
    "\n",
    "---\n",
    "This Notebook contains:\n",
    "### `Dataset : Daily Stats Merge`"
   ]
  },
  {
   "cell_type": "markdown",
   "metadata": {
    "id": "K3SATOGI__z2"
   },
   "source": [
    "# **Importing Libraries**\n"
   ]
  },
  {
   "cell_type": "markdown",
   "metadata": {
    "id": "Ykg2gY4AkVbC"
   },
   "source": [
    "So, inorder to perform anything on the data we must require to import the librarires first and set the diplay view of the dataset."
   ]
  },
  {
   "cell_type": "markdown",
   "metadata": {
    "id": "eEs5zg10hGYG"
   },
   "source": [
    "This code snippet imports necessary Python libraries, `sets display options for Pandas`, and prepares the environment for data analysis and visualization."
   ]
  },
  {
   "cell_type": "code",
   "execution_count": 1,
   "metadata": {
    "executionInfo": {
     "elapsed": 440,
     "status": "ok",
     "timestamp": 1706261944708,
     "user": {
      "displayName": "Arijit Dhali",
      "userId": "14418585997030962243"
     },
     "user_tz": -330
    },
    "id": "TqP4bPp_HXqC"
   },
   "outputs": [],
   "source": [
    "# Importing required libraries for data analysis and visualization\n",
    "import pandas as pd                       # Pandas for data manipulation and analysis\n",
    "import numpy as np                        # NumPy for numerical operations\n",
    "import matplotlib.pyplot as plt           # Matplotlib for basic plotting\n",
    "import seaborn as sns                     # Seaborn for statistical data visualization\n",
    "import plotly.express as px               # Plotly Express for interactive visualizations\n",
    "import re                                 # Import the regular expression module\n",
    "import warnings\n",
    "warnings.filterwarnings('ignore')\n",
    "warnings.simplefilter('ignore')\n",
    "\n",
    "# Setting display options for Pandas to show three decimal places for floating-point numbers\n",
    "pd.set_option('display.float_format', lambda x: '%.2f' % x)"
   ]
  },
  {
   "cell_type": "markdown",
   "metadata": {
    "id": "65tz03JMALF8"
   },
   "source": [
    "# **Loading Dataset**"
   ]
  },
  {
   "cell_type": "markdown",
   "metadata": {
    "id": "0jb30hwtk_ZX"
   },
   "source": [
    "After importing librarires, we will import the data using `GitHub` link of raw file"
   ]
  },
  {
   "cell_type": "markdown",
   "metadata": {
    "id": "HFu3qPXYiBDs"
   },
   "source": [
    "Continuing the setup for data analysis by adjusting `Pandas display options` and then loads a dataset from a `URL` into a `Pandas` DataFrame."
   ]
  },
  {
   "cell_type": "code",
   "execution_count": 2,
   "metadata": {
    "executionInfo": {
     "elapsed": 933,
     "status": "ok",
     "timestamp": 1706261946114,
     "user": {
      "displayName": "Arijit Dhali",
      "userId": "14418585997030962243"
     },
     "user_tz": -330
    },
    "id": "EH77-yMG5Ra4"
   },
   "outputs": [],
   "source": [
    "# Display all columns without truncation\n",
    "pd.set_option('display.max_columns', None)\n",
    "\n",
    "# Load related dataset from URL into multiple DataFrame\n",
    "url_1 = 'https://raw.githubusercontent.com/vignay21/Prepinsta-Winter-Internship/main/PrepInsta-Week8/Clean%20CSV/daily_activity_cleaned.csv'\n",
    "activity = pd.read_csv(url_1, encoding='unicode_escape')\n",
    "#url_2 = 'https://raw.githubusercontent.com/vignay21/Prepinsta-Winter-Internship/main/PrepInsta-Week8/Clean%20CSV/daily_calories_cleaned.csv'\n",
    "#calories = pd.read_csv(url_2, encoding='unicode_escape')\n",
    "#url_3 = 'https://raw.githubusercontent.com/vignay21/Prepinsta-Winter-Internship/main/PrepInsta-Week8/Clean%20CSV/daily_intensities_cleaned.csv'\n",
    "#intensity = pd.read_csv(url_3, encoding='unicode_escape')\n",
    "#url_4 = 'https://raw.githubusercontent.com/vignay21/Prepinsta-Winter-Internship/main/PrepInsta-Week8/Clean%20CSV/daily_steps_cleaned.csv'\n",
    "#steps = pd.read_csv(url_4, encoding='unicode_escape')\n",
    "url_5 = 'https://raw.githubusercontent.com/vignay21/Prepinsta-Winter-Internship/main/PrepInsta-Week8/Clean%20CSV/heart_rate_cleaned.csv'\n",
    "heart = pd.read_csv(url_5, encoding='unicode_escape')\n",
    "url_6 = 'https://raw.githubusercontent.com/vignay21/Prepinsta-Winter-Internship/main/PrepInsta-Week8/Clean%20CSV/sleep_day_data_cleaned.csv'\n",
    "sleep = pd.read_csv(url_6, encoding='unicode_escape')\n",
    "url_7 = 'https://raw.githubusercontent.com/vignay21/Prepinsta-Winter-Internship/main/PrepInsta-Week8/Clean%20CSV/weight_log_info_data_cleaned.csv'\n",
    "weight = pd.read_csv(url_7, encoding='unicode_escape')\n",
    "\n",
    "\n",
    "# Display first two rows of the loaded DataFrame\n",
    "#df.sample(5)"
   ]
  },
  {
   "cell_type": "markdown",
   "metadata": {
    "id": "Ia5MJgv91UaD"
   },
   "source": [
    "Inspecting the columns present in every dataset."
   ]
  },
  {
   "cell_type": "code",
   "execution_count": 3,
   "metadata": {
    "colab": {
     "base_uri": "https://localhost:8080/"
    },
    "executionInfo": {
     "elapsed": 18,
     "status": "ok",
     "timestamp": 1706261946115,
     "user": {
      "displayName": "Arijit Dhali",
      "userId": "14418585997030962243"
     },
     "user_tz": -330
    },
    "id": "SM3jS22Y1KE_",
    "outputId": "baa008af-afbe-44ad-de93-bd5cfd5ce74b"
   },
   "outputs": [
    {
     "name": "stdout",
     "output_type": "stream",
     "text": [
      "             Id ActivityDate  TotalSteps  TotalDistance  TrackerDistance  \\\n",
      "845  8378563200   2016-05-09        8382           6.65             6.65   \n",
      "\n",
      "     LoggedActivitiesDistance  VeryActiveDistance  ModeratelyActiveDistance  \\\n",
      "845                      2.09                1.27                      0.66   \n",
      "\n",
      "     LightActiveDistance  SedentaryActiveDistance  VeryActiveMinutes  \\\n",
      "845                 4.72                     0.00                 71   \n",
      "\n",
      "     FairlyActiveMinutes  LightlyActiveMinutes  SedentaryMinutes  Calories  \n",
      "845                   13                   171               772      3721  \n",
      "               Id         Day   Time  Heartrate  DailyMeanHeartrate\n",
      "33077  2347167796  2016-04-21  08:46         85               71.58\n",
      "             Id    SleepDay  TotalMinutesAsleep  TotalSleepRecords  \\\n",
      "157  4388161847  2016-05-01                 547                  1   \n",
      "\n",
      "     TotalTimeInBed  \n",
      "157             597  \n",
      "            Id Date Weight   BMI  WeightKg  WeightPounds\n",
      "15  6962181067  2016-04-14 24.10     61.70        136.03\n"
     ]
    }
   ],
   "source": [
    "# Display random row from each dataframe\n",
    "print(activity.sample())\n",
    "print(heart.sample())\n",
    "print(sleep.sample())\n",
    "print(weight.sample())"
   ]
  },
  {
   "cell_type": "markdown",
   "metadata": {
    "id": "bedlEdMtWiGF"
   },
   "source": [
    "# **Processing & Merging Dataset**"
   ]
  },
  {
   "cell_type": "markdown",
   "metadata": {
    "id": "0MEt3Ubo-AF0"
   },
   "source": [
    "###1. Heart Rate Dataframe"
   ]
  },
  {
   "cell_type": "code",
   "execution_count": 4,
   "metadata": {
    "colab": {
     "base_uri": "https://localhost:8080/",
     "height": 226
    },
    "executionInfo": {
     "elapsed": 12,
     "status": "ok",
     "timestamp": 1706261946115,
     "user": {
      "displayName": "Arijit Dhali",
      "userId": "14418585997030962243"
     },
     "user_tz": -330
    },
    "id": "W4YP83S8WrKZ",
    "outputId": "88ad6b3b-5b4a-4f13-859c-23f0b05ad282"
   },
   "outputs": [
    {
     "data": {
      "text/html": [
       "<div>\n",
       "<style scoped>\n",
       "    .dataframe tbody tr th:only-of-type {\n",
       "        vertical-align: middle;\n",
       "    }\n",
       "\n",
       "    .dataframe tbody tr th {\n",
       "        vertical-align: top;\n",
       "    }\n",
       "\n",
       "    .dataframe thead th {\n",
       "        text-align: right;\n",
       "    }\n",
       "</style>\n",
       "<table border=\"1\" class=\"dataframe\">\n",
       "  <thead>\n",
       "    <tr style=\"text-align: right;\">\n",
       "      <th></th>\n",
       "      <th>Id</th>\n",
       "      <th>Day</th>\n",
       "      <th>DailyMeanHeartrate</th>\n",
       "    </tr>\n",
       "  </thead>\n",
       "  <tbody>\n",
       "    <tr>\n",
       "      <th>0</th>\n",
       "      <td>2022484408</td>\n",
       "      <td>2016-04-12</td>\n",
       "      <td>74.05</td>\n",
       "    </tr>\n",
       "    <tr>\n",
       "      <th>718</th>\n",
       "      <td>2022484408</td>\n",
       "      <td>2016-04-13</td>\n",
       "      <td>78.64</td>\n",
       "    </tr>\n",
       "    <tr>\n",
       "      <th>1474</th>\n",
       "      <td>2022484408</td>\n",
       "      <td>2016-04-14</td>\n",
       "      <td>70.55</td>\n",
       "    </tr>\n",
       "    <tr>\n",
       "      <th>2244</th>\n",
       "      <td>2022484408</td>\n",
       "      <td>2016-04-15</td>\n",
       "      <td>78.63</td>\n",
       "    </tr>\n",
       "    <tr>\n",
       "      <th>2954</th>\n",
       "      <td>2022484408</td>\n",
       "      <td>2016-04-16</td>\n",
       "      <td>74.50</td>\n",
       "    </tr>\n",
       "  </tbody>\n",
       "</table>\n",
       "</div>"
      ],
      "text/plain": [
       "              Id         Day  DailyMeanHeartrate\n",
       "0     2022484408  2016-04-12               74.05\n",
       "718   2022484408  2016-04-13               78.64\n",
       "1474  2022484408  2016-04-14               70.55\n",
       "2244  2022484408  2016-04-15               78.63\n",
       "2954  2022484408  2016-04-16               74.50"
      ]
     },
     "execution_count": 4,
     "metadata": {},
     "output_type": "execute_result"
    }
   ],
   "source": [
    "# Specify column names to drop\n",
    "columns_to_drop = ['Heartrate', 'Time']\n",
    "\n",
    "# Drop the specified columns from the DataFrame\n",
    "heart = heart.drop(columns=columns_to_drop)\n",
    "\n",
    "# Drop duplicate rows based on all columns\n",
    "heart = heart.drop_duplicates()\n",
    "\n",
    "heart.head(5)"
   ]
  },
  {
   "cell_type": "code",
   "execution_count": 5,
   "metadata": {
    "colab": {
     "base_uri": "https://localhost:8080/",
     "height": 226
    },
    "executionInfo": {
     "elapsed": 1108,
     "status": "ok",
     "timestamp": 1706261947218,
     "user": {
      "displayName": "Arijit Dhali",
      "userId": "14418585997030962243"
     },
     "user_tz": -330
    },
    "id": "IduwwJgdXBrU",
    "outputId": "7af91726-17fa-4935-a745-7da740a2e8d0"
   },
   "outputs": [
    {
     "data": {
      "text/html": [
       "<div>\n",
       "<style scoped>\n",
       "    .dataframe tbody tr th:only-of-type {\n",
       "        vertical-align: middle;\n",
       "    }\n",
       "\n",
       "    .dataframe tbody tr th {\n",
       "        vertical-align: top;\n",
       "    }\n",
       "\n",
       "    .dataframe thead th {\n",
       "        text-align: right;\n",
       "    }\n",
       "</style>\n",
       "<table border=\"1\" class=\"dataframe\">\n",
       "  <thead>\n",
       "    <tr style=\"text-align: right;\">\n",
       "      <th></th>\n",
       "      <th>Id</th>\n",
       "      <th>ActivityDate</th>\n",
       "      <th>DailyAverageHeartrate</th>\n",
       "      <th>TotalSteps</th>\n",
       "      <th>TotalDistance</th>\n",
       "      <th>TrackerDistance</th>\n",
       "      <th>LoggedActivitiesDistance</th>\n",
       "      <th>VeryActiveDistance</th>\n",
       "      <th>ModeratelyActiveDistance</th>\n",
       "      <th>LightActiveDistance</th>\n",
       "      <th>SedentaryActiveDistance</th>\n",
       "      <th>VeryActiveMinutes</th>\n",
       "      <th>FairlyActiveMinutes</th>\n",
       "      <th>LightlyActiveMinutes</th>\n",
       "      <th>SedentaryMinutes</th>\n",
       "      <th>Calories</th>\n",
       "      <th>Day</th>\n",
       "    </tr>\n",
       "  </thead>\n",
       "  <tbody>\n",
       "    <tr>\n",
       "      <th>0</th>\n",
       "      <td>1503960366</td>\n",
       "      <td>2016-04-12</td>\n",
       "      <td>NaN</td>\n",
       "      <td>13162</td>\n",
       "      <td>8.50</td>\n",
       "      <td>8.50</td>\n",
       "      <td>0.00</td>\n",
       "      <td>1.88</td>\n",
       "      <td>0.55</td>\n",
       "      <td>6.06</td>\n",
       "      <td>0.00</td>\n",
       "      <td>25</td>\n",
       "      <td>13</td>\n",
       "      <td>328</td>\n",
       "      <td>728</td>\n",
       "      <td>1985</td>\n",
       "      <td>NaN</td>\n",
       "    </tr>\n",
       "    <tr>\n",
       "      <th>1</th>\n",
       "      <td>1503960366</td>\n",
       "      <td>2016-04-13</td>\n",
       "      <td>NaN</td>\n",
       "      <td>10735</td>\n",
       "      <td>6.97</td>\n",
       "      <td>6.97</td>\n",
       "      <td>0.00</td>\n",
       "      <td>1.57</td>\n",
       "      <td>0.69</td>\n",
       "      <td>4.71</td>\n",
       "      <td>0.00</td>\n",
       "      <td>21</td>\n",
       "      <td>19</td>\n",
       "      <td>217</td>\n",
       "      <td>776</td>\n",
       "      <td>1797</td>\n",
       "      <td>NaN</td>\n",
       "    </tr>\n",
       "    <tr>\n",
       "      <th>2</th>\n",
       "      <td>1503960366</td>\n",
       "      <td>2016-04-14</td>\n",
       "      <td>NaN</td>\n",
       "      <td>10460</td>\n",
       "      <td>6.74</td>\n",
       "      <td>6.74</td>\n",
       "      <td>0.00</td>\n",
       "      <td>2.44</td>\n",
       "      <td>0.40</td>\n",
       "      <td>3.91</td>\n",
       "      <td>0.00</td>\n",
       "      <td>30</td>\n",
       "      <td>11</td>\n",
       "      <td>181</td>\n",
       "      <td>1218</td>\n",
       "      <td>1776</td>\n",
       "      <td>NaN</td>\n",
       "    </tr>\n",
       "    <tr>\n",
       "      <th>3</th>\n",
       "      <td>1503960366</td>\n",
       "      <td>2016-04-15</td>\n",
       "      <td>NaN</td>\n",
       "      <td>9762</td>\n",
       "      <td>6.28</td>\n",
       "      <td>6.28</td>\n",
       "      <td>0.00</td>\n",
       "      <td>2.14</td>\n",
       "      <td>1.26</td>\n",
       "      <td>2.83</td>\n",
       "      <td>0.00</td>\n",
       "      <td>29</td>\n",
       "      <td>34</td>\n",
       "      <td>209</td>\n",
       "      <td>726</td>\n",
       "      <td>1745</td>\n",
       "      <td>NaN</td>\n",
       "    </tr>\n",
       "    <tr>\n",
       "      <th>4</th>\n",
       "      <td>1503960366</td>\n",
       "      <td>2016-04-16</td>\n",
       "      <td>NaN</td>\n",
       "      <td>12669</td>\n",
       "      <td>8.16</td>\n",
       "      <td>8.16</td>\n",
       "      <td>0.00</td>\n",
       "      <td>2.71</td>\n",
       "      <td>0.41</td>\n",
       "      <td>5.04</td>\n",
       "      <td>0.00</td>\n",
       "      <td>36</td>\n",
       "      <td>10</td>\n",
       "      <td>221</td>\n",
       "      <td>773</td>\n",
       "      <td>1863</td>\n",
       "      <td>NaN</td>\n",
       "    </tr>\n",
       "  </tbody>\n",
       "</table>\n",
       "</div>"
      ],
      "text/plain": [
       "           Id ActivityDate  DailyAverageHeartrate  TotalSteps  TotalDistance  \\\n",
       "0  1503960366   2016-04-12                    NaN       13162           8.50   \n",
       "1  1503960366   2016-04-13                    NaN       10735           6.97   \n",
       "2  1503960366   2016-04-14                    NaN       10460           6.74   \n",
       "3  1503960366   2016-04-15                    NaN        9762           6.28   \n",
       "4  1503960366   2016-04-16                    NaN       12669           8.16   \n",
       "\n",
       "   TrackerDistance  LoggedActivitiesDistance  VeryActiveDistance  \\\n",
       "0             8.50                      0.00                1.88   \n",
       "1             6.97                      0.00                1.57   \n",
       "2             6.74                      0.00                2.44   \n",
       "3             6.28                      0.00                2.14   \n",
       "4             8.16                      0.00                2.71   \n",
       "\n",
       "   ModeratelyActiveDistance  LightActiveDistance  SedentaryActiveDistance  \\\n",
       "0                      0.55                 6.06                     0.00   \n",
       "1                      0.69                 4.71                     0.00   \n",
       "2                      0.40                 3.91                     0.00   \n",
       "3                      1.26                 2.83                     0.00   \n",
       "4                      0.41                 5.04                     0.00   \n",
       "\n",
       "   VeryActiveMinutes  FairlyActiveMinutes  LightlyActiveMinutes  \\\n",
       "0                 25                   13                   328   \n",
       "1                 21                   19                   217   \n",
       "2                 30                   11                   181   \n",
       "3                 29                   34                   209   \n",
       "4                 36                   10                   221   \n",
       "\n",
       "   SedentaryMinutes  Calories  Day  \n",
       "0               728      1985  NaN  \n",
       "1               776      1797  NaN  \n",
       "2              1218      1776  NaN  \n",
       "3               726      1745  NaN  \n",
       "4               773      1863  NaN  "
      ]
     },
     "execution_count": 5,
     "metadata": {},
     "output_type": "execute_result"
    }
   ],
   "source": [
    "# Merge DataFrames on specified columns\n",
    "activity_heart = pd.merge(activity, heart, left_on=['Id', 'ActivityDate'], right_on=['Id', 'Day'], how='left')\n",
    "\n",
    "# Move the 'Date Weight' column\n",
    "moving_column = activity_heart.pop('DailyMeanHeartrate')\n",
    "activity_heart.insert(2, 'DailyMeanHeartrate', moving_column)\n",
    "\n",
    "# Rename the 'Value' column to 'Heartrate'\n",
    "activity_heart.rename(columns={'DailyMeanHeartrate': 'DailyAverageHeartrate'}, inplace=True)\n",
    "\n",
    "activity_heart.head(5)"
   ]
  },
  {
   "cell_type": "markdown",
   "metadata": {
    "id": "KsjcE8B9fppI"
   },
   "source": [
    "###2. Sleep Day Dataframe"
   ]
  },
  {
   "cell_type": "code",
   "execution_count": 6,
   "metadata": {
    "colab": {
     "base_uri": "https://localhost:8080/",
     "height": 226
    },
    "executionInfo": {
     "elapsed": 86,
     "status": "ok",
     "timestamp": 1706261947220,
     "user": {
      "displayName": "Arijit Dhali",
      "userId": "14418585997030962243"
     },
     "user_tz": -330
    },
    "id": "slZISUVCf3Yw",
    "outputId": "da2642d5-04f7-4ffb-dcd9-8a2c42f37ff9"
   },
   "outputs": [
    {
     "data": {
      "text/html": [
       "<div>\n",
       "<style scoped>\n",
       "    .dataframe tbody tr th:only-of-type {\n",
       "        vertical-align: middle;\n",
       "    }\n",
       "\n",
       "    .dataframe tbody tr th {\n",
       "        vertical-align: top;\n",
       "    }\n",
       "\n",
       "    .dataframe thead th {\n",
       "        text-align: right;\n",
       "    }\n",
       "</style>\n",
       "<table border=\"1\" class=\"dataframe\">\n",
       "  <thead>\n",
       "    <tr style=\"text-align: right;\">\n",
       "      <th></th>\n",
       "      <th>Id</th>\n",
       "      <th>ActivityDate</th>\n",
       "      <th>DailyAverageHeartrate</th>\n",
       "      <th>TotalSteps</th>\n",
       "      <th>TotalDistance</th>\n",
       "      <th>TrackerDistance</th>\n",
       "      <th>LoggedActivitiesDistance</th>\n",
       "      <th>VeryActiveDistance</th>\n",
       "      <th>ModeratelyActiveDistance</th>\n",
       "      <th>LightActiveDistance</th>\n",
       "      <th>SedentaryActiveDistance</th>\n",
       "      <th>VeryActiveMinutes</th>\n",
       "      <th>FairlyActiveMinutes</th>\n",
       "      <th>LightlyActiveMinutes</th>\n",
       "      <th>SedentaryMinutes</th>\n",
       "      <th>Calories</th>\n",
       "      <th>Day</th>\n",
       "      <th>SleepDay</th>\n",
       "      <th>TotalMinutesAsleep</th>\n",
       "      <th>TotalSleepRecords</th>\n",
       "      <th>TotalTimeInBed</th>\n",
       "    </tr>\n",
       "  </thead>\n",
       "  <tbody>\n",
       "    <tr>\n",
       "      <th>0</th>\n",
       "      <td>1503960366</td>\n",
       "      <td>2016-04-12</td>\n",
       "      <td>NaN</td>\n",
       "      <td>13162</td>\n",
       "      <td>8.50</td>\n",
       "      <td>8.50</td>\n",
       "      <td>0.00</td>\n",
       "      <td>1.88</td>\n",
       "      <td>0.55</td>\n",
       "      <td>6.06</td>\n",
       "      <td>0.00</td>\n",
       "      <td>25</td>\n",
       "      <td>13</td>\n",
       "      <td>328</td>\n",
       "      <td>728</td>\n",
       "      <td>1985</td>\n",
       "      <td>NaN</td>\n",
       "      <td>2016-04-12</td>\n",
       "      <td>327.00</td>\n",
       "      <td>1.00</td>\n",
       "      <td>346.00</td>\n",
       "    </tr>\n",
       "    <tr>\n",
       "      <th>1</th>\n",
       "      <td>1503960366</td>\n",
       "      <td>2016-04-13</td>\n",
       "      <td>NaN</td>\n",
       "      <td>10735</td>\n",
       "      <td>6.97</td>\n",
       "      <td>6.97</td>\n",
       "      <td>0.00</td>\n",
       "      <td>1.57</td>\n",
       "      <td>0.69</td>\n",
       "      <td>4.71</td>\n",
       "      <td>0.00</td>\n",
       "      <td>21</td>\n",
       "      <td>19</td>\n",
       "      <td>217</td>\n",
       "      <td>776</td>\n",
       "      <td>1797</td>\n",
       "      <td>NaN</td>\n",
       "      <td>2016-04-13</td>\n",
       "      <td>384.00</td>\n",
       "      <td>2.00</td>\n",
       "      <td>407.00</td>\n",
       "    </tr>\n",
       "    <tr>\n",
       "      <th>2</th>\n",
       "      <td>1503960366</td>\n",
       "      <td>2016-04-14</td>\n",
       "      <td>NaN</td>\n",
       "      <td>10460</td>\n",
       "      <td>6.74</td>\n",
       "      <td>6.74</td>\n",
       "      <td>0.00</td>\n",
       "      <td>2.44</td>\n",
       "      <td>0.40</td>\n",
       "      <td>3.91</td>\n",
       "      <td>0.00</td>\n",
       "      <td>30</td>\n",
       "      <td>11</td>\n",
       "      <td>181</td>\n",
       "      <td>1218</td>\n",
       "      <td>1776</td>\n",
       "      <td>NaN</td>\n",
       "      <td>NaN</td>\n",
       "      <td>NaN</td>\n",
       "      <td>NaN</td>\n",
       "      <td>NaN</td>\n",
       "    </tr>\n",
       "    <tr>\n",
       "      <th>3</th>\n",
       "      <td>1503960366</td>\n",
       "      <td>2016-04-15</td>\n",
       "      <td>NaN</td>\n",
       "      <td>9762</td>\n",
       "      <td>6.28</td>\n",
       "      <td>6.28</td>\n",
       "      <td>0.00</td>\n",
       "      <td>2.14</td>\n",
       "      <td>1.26</td>\n",
       "      <td>2.83</td>\n",
       "      <td>0.00</td>\n",
       "      <td>29</td>\n",
       "      <td>34</td>\n",
       "      <td>209</td>\n",
       "      <td>726</td>\n",
       "      <td>1745</td>\n",
       "      <td>NaN</td>\n",
       "      <td>2016-04-15</td>\n",
       "      <td>412.00</td>\n",
       "      <td>1.00</td>\n",
       "      <td>442.00</td>\n",
       "    </tr>\n",
       "    <tr>\n",
       "      <th>4</th>\n",
       "      <td>1503960366</td>\n",
       "      <td>2016-04-16</td>\n",
       "      <td>NaN</td>\n",
       "      <td>12669</td>\n",
       "      <td>8.16</td>\n",
       "      <td>8.16</td>\n",
       "      <td>0.00</td>\n",
       "      <td>2.71</td>\n",
       "      <td>0.41</td>\n",
       "      <td>5.04</td>\n",
       "      <td>0.00</td>\n",
       "      <td>36</td>\n",
       "      <td>10</td>\n",
       "      <td>221</td>\n",
       "      <td>773</td>\n",
       "      <td>1863</td>\n",
       "      <td>NaN</td>\n",
       "      <td>2016-04-16</td>\n",
       "      <td>340.00</td>\n",
       "      <td>2.00</td>\n",
       "      <td>367.00</td>\n",
       "    </tr>\n",
       "  </tbody>\n",
       "</table>\n",
       "</div>"
      ],
      "text/plain": [
       "           Id ActivityDate  DailyAverageHeartrate  TotalSteps  TotalDistance  \\\n",
       "0  1503960366   2016-04-12                    NaN       13162           8.50   \n",
       "1  1503960366   2016-04-13                    NaN       10735           6.97   \n",
       "2  1503960366   2016-04-14                    NaN       10460           6.74   \n",
       "3  1503960366   2016-04-15                    NaN        9762           6.28   \n",
       "4  1503960366   2016-04-16                    NaN       12669           8.16   \n",
       "\n",
       "   TrackerDistance  LoggedActivitiesDistance  VeryActiveDistance  \\\n",
       "0             8.50                      0.00                1.88   \n",
       "1             6.97                      0.00                1.57   \n",
       "2             6.74                      0.00                2.44   \n",
       "3             6.28                      0.00                2.14   \n",
       "4             8.16                      0.00                2.71   \n",
       "\n",
       "   ModeratelyActiveDistance  LightActiveDistance  SedentaryActiveDistance  \\\n",
       "0                      0.55                 6.06                     0.00   \n",
       "1                      0.69                 4.71                     0.00   \n",
       "2                      0.40                 3.91                     0.00   \n",
       "3                      1.26                 2.83                     0.00   \n",
       "4                      0.41                 5.04                     0.00   \n",
       "\n",
       "   VeryActiveMinutes  FairlyActiveMinutes  LightlyActiveMinutes  \\\n",
       "0                 25                   13                   328   \n",
       "1                 21                   19                   217   \n",
       "2                 30                   11                   181   \n",
       "3                 29                   34                   209   \n",
       "4                 36                   10                   221   \n",
       "\n",
       "   SedentaryMinutes  Calories  Day    SleepDay  TotalMinutesAsleep  \\\n",
       "0               728      1985  NaN  2016-04-12              327.00   \n",
       "1               776      1797  NaN  2016-04-13              384.00   \n",
       "2              1218      1776  NaN         NaN                 NaN   \n",
       "3               726      1745  NaN  2016-04-15              412.00   \n",
       "4               773      1863  NaN  2016-04-16              340.00   \n",
       "\n",
       "   TotalSleepRecords  TotalTimeInBed  \n",
       "0               1.00          346.00  \n",
       "1               2.00          407.00  \n",
       "2                NaN             NaN  \n",
       "3               1.00          442.00  \n",
       "4               2.00          367.00  "
      ]
     },
     "execution_count": 6,
     "metadata": {},
     "output_type": "execute_result"
    }
   ],
   "source": [
    "# Merge DataFrames on specified columns\n",
    "activity_heart_sleep = pd.merge(activity_heart, sleep, left_on=['Id', 'ActivityDate'], right_on=['Id', 'SleepDay'], how='left')\n",
    "activity_heart_sleep.head(5)"
   ]
  },
  {
   "cell_type": "markdown",
   "metadata": {
    "id": "KH9fsAYkhBOL"
   },
   "source": [
    "###3. Weight Dataframe"
   ]
  },
  {
   "cell_type": "code",
   "execution_count": 7,
   "metadata": {
    "colab": {
     "base_uri": "https://localhost:8080/",
     "height": 244
    },
    "executionInfo": {
     "elapsed": 94,
     "status": "ok",
     "timestamp": 1706261947231,
     "user": {
      "displayName": "Arijit Dhali",
      "userId": "14418585997030962243"
     },
     "user_tz": -330
    },
    "id": "ZsPIchcChBON",
    "outputId": "ef13c6af-b5bc-4bea-97b9-61cf53bb22fa"
   },
   "outputs": [
    {
     "data": {
      "text/html": [
       "<div>\n",
       "<style scoped>\n",
       "    .dataframe tbody tr th:only-of-type {\n",
       "        vertical-align: middle;\n",
       "    }\n",
       "\n",
       "    .dataframe tbody tr th {\n",
       "        vertical-align: top;\n",
       "    }\n",
       "\n",
       "    .dataframe thead th {\n",
       "        text-align: right;\n",
       "    }\n",
       "</style>\n",
       "<table border=\"1\" class=\"dataframe\">\n",
       "  <thead>\n",
       "    <tr style=\"text-align: right;\">\n",
       "      <th></th>\n",
       "      <th>Id</th>\n",
       "      <th>ActivityDate</th>\n",
       "      <th>DailyAverageHeartrate</th>\n",
       "      <th>TotalSteps</th>\n",
       "      <th>TotalDistance</th>\n",
       "      <th>TrackerDistance</th>\n",
       "      <th>LoggedActivitiesDistance</th>\n",
       "      <th>VeryActiveDistance</th>\n",
       "      <th>ModeratelyActiveDistance</th>\n",
       "      <th>LightActiveDistance</th>\n",
       "      <th>SedentaryActiveDistance</th>\n",
       "      <th>VeryActiveMinutes</th>\n",
       "      <th>FairlyActiveMinutes</th>\n",
       "      <th>LightlyActiveMinutes</th>\n",
       "      <th>SedentaryMinutes</th>\n",
       "      <th>Calories</th>\n",
       "      <th>Day</th>\n",
       "      <th>SleepDay</th>\n",
       "      <th>TotalMinutesAsleep</th>\n",
       "      <th>TotalSleepRecords</th>\n",
       "      <th>TotalTimeInBed</th>\n",
       "      <th>Date Weight</th>\n",
       "      <th>BMI</th>\n",
       "      <th>WeightKg</th>\n",
       "      <th>WeightPounds</th>\n",
       "    </tr>\n",
       "  </thead>\n",
       "  <tbody>\n",
       "    <tr>\n",
       "      <th>0</th>\n",
       "      <td>1503960366</td>\n",
       "      <td>2016-04-12</td>\n",
       "      <td>NaN</td>\n",
       "      <td>13162</td>\n",
       "      <td>8.50</td>\n",
       "      <td>8.50</td>\n",
       "      <td>0.00</td>\n",
       "      <td>1.88</td>\n",
       "      <td>0.55</td>\n",
       "      <td>6.06</td>\n",
       "      <td>0.00</td>\n",
       "      <td>25</td>\n",
       "      <td>13</td>\n",
       "      <td>328</td>\n",
       "      <td>728</td>\n",
       "      <td>1985</td>\n",
       "      <td>NaN</td>\n",
       "      <td>2016-04-12</td>\n",
       "      <td>327.00</td>\n",
       "      <td>1.00</td>\n",
       "      <td>346.00</td>\n",
       "      <td>NaN</td>\n",
       "      <td>NaN</td>\n",
       "      <td>NaN</td>\n",
       "      <td>NaN</td>\n",
       "    </tr>\n",
       "    <tr>\n",
       "      <th>1</th>\n",
       "      <td>1503960366</td>\n",
       "      <td>2016-04-13</td>\n",
       "      <td>NaN</td>\n",
       "      <td>10735</td>\n",
       "      <td>6.97</td>\n",
       "      <td>6.97</td>\n",
       "      <td>0.00</td>\n",
       "      <td>1.57</td>\n",
       "      <td>0.69</td>\n",
       "      <td>4.71</td>\n",
       "      <td>0.00</td>\n",
       "      <td>21</td>\n",
       "      <td>19</td>\n",
       "      <td>217</td>\n",
       "      <td>776</td>\n",
       "      <td>1797</td>\n",
       "      <td>NaN</td>\n",
       "      <td>2016-04-13</td>\n",
       "      <td>384.00</td>\n",
       "      <td>2.00</td>\n",
       "      <td>407.00</td>\n",
       "      <td>NaN</td>\n",
       "      <td>NaN</td>\n",
       "      <td>NaN</td>\n",
       "      <td>NaN</td>\n",
       "    </tr>\n",
       "    <tr>\n",
       "      <th>2</th>\n",
       "      <td>1503960366</td>\n",
       "      <td>2016-04-14</td>\n",
       "      <td>NaN</td>\n",
       "      <td>10460</td>\n",
       "      <td>6.74</td>\n",
       "      <td>6.74</td>\n",
       "      <td>0.00</td>\n",
       "      <td>2.44</td>\n",
       "      <td>0.40</td>\n",
       "      <td>3.91</td>\n",
       "      <td>0.00</td>\n",
       "      <td>30</td>\n",
       "      <td>11</td>\n",
       "      <td>181</td>\n",
       "      <td>1218</td>\n",
       "      <td>1776</td>\n",
       "      <td>NaN</td>\n",
       "      <td>NaN</td>\n",
       "      <td>NaN</td>\n",
       "      <td>NaN</td>\n",
       "      <td>NaN</td>\n",
       "      <td>NaN</td>\n",
       "      <td>NaN</td>\n",
       "      <td>NaN</td>\n",
       "      <td>NaN</td>\n",
       "    </tr>\n",
       "    <tr>\n",
       "      <th>3</th>\n",
       "      <td>1503960366</td>\n",
       "      <td>2016-04-15</td>\n",
       "      <td>NaN</td>\n",
       "      <td>9762</td>\n",
       "      <td>6.28</td>\n",
       "      <td>6.28</td>\n",
       "      <td>0.00</td>\n",
       "      <td>2.14</td>\n",
       "      <td>1.26</td>\n",
       "      <td>2.83</td>\n",
       "      <td>0.00</td>\n",
       "      <td>29</td>\n",
       "      <td>34</td>\n",
       "      <td>209</td>\n",
       "      <td>726</td>\n",
       "      <td>1745</td>\n",
       "      <td>NaN</td>\n",
       "      <td>2016-04-15</td>\n",
       "      <td>412.00</td>\n",
       "      <td>1.00</td>\n",
       "      <td>442.00</td>\n",
       "      <td>NaN</td>\n",
       "      <td>NaN</td>\n",
       "      <td>NaN</td>\n",
       "      <td>NaN</td>\n",
       "    </tr>\n",
       "    <tr>\n",
       "      <th>4</th>\n",
       "      <td>1503960366</td>\n",
       "      <td>2016-04-16</td>\n",
       "      <td>NaN</td>\n",
       "      <td>12669</td>\n",
       "      <td>8.16</td>\n",
       "      <td>8.16</td>\n",
       "      <td>0.00</td>\n",
       "      <td>2.71</td>\n",
       "      <td>0.41</td>\n",
       "      <td>5.04</td>\n",
       "      <td>0.00</td>\n",
       "      <td>36</td>\n",
       "      <td>10</td>\n",
       "      <td>221</td>\n",
       "      <td>773</td>\n",
       "      <td>1863</td>\n",
       "      <td>NaN</td>\n",
       "      <td>2016-04-16</td>\n",
       "      <td>340.00</td>\n",
       "      <td>2.00</td>\n",
       "      <td>367.00</td>\n",
       "      <td>NaN</td>\n",
       "      <td>NaN</td>\n",
       "      <td>NaN</td>\n",
       "      <td>NaN</td>\n",
       "    </tr>\n",
       "  </tbody>\n",
       "</table>\n",
       "</div>"
      ],
      "text/plain": [
       "           Id ActivityDate  DailyAverageHeartrate  TotalSteps  TotalDistance  \\\n",
       "0  1503960366   2016-04-12                    NaN       13162           8.50   \n",
       "1  1503960366   2016-04-13                    NaN       10735           6.97   \n",
       "2  1503960366   2016-04-14                    NaN       10460           6.74   \n",
       "3  1503960366   2016-04-15                    NaN        9762           6.28   \n",
       "4  1503960366   2016-04-16                    NaN       12669           8.16   \n",
       "\n",
       "   TrackerDistance  LoggedActivitiesDistance  VeryActiveDistance  \\\n",
       "0             8.50                      0.00                1.88   \n",
       "1             6.97                      0.00                1.57   \n",
       "2             6.74                      0.00                2.44   \n",
       "3             6.28                      0.00                2.14   \n",
       "4             8.16                      0.00                2.71   \n",
       "\n",
       "   ModeratelyActiveDistance  LightActiveDistance  SedentaryActiveDistance  \\\n",
       "0                      0.55                 6.06                     0.00   \n",
       "1                      0.69                 4.71                     0.00   \n",
       "2                      0.40                 3.91                     0.00   \n",
       "3                      1.26                 2.83                     0.00   \n",
       "4                      0.41                 5.04                     0.00   \n",
       "\n",
       "   VeryActiveMinutes  FairlyActiveMinutes  LightlyActiveMinutes  \\\n",
       "0                 25                   13                   328   \n",
       "1                 21                   19                   217   \n",
       "2                 30                   11                   181   \n",
       "3                 29                   34                   209   \n",
       "4                 36                   10                   221   \n",
       "\n",
       "   SedentaryMinutes  Calories  Day    SleepDay  TotalMinutesAsleep  \\\n",
       "0               728      1985  NaN  2016-04-12              327.00   \n",
       "1               776      1797  NaN  2016-04-13              384.00   \n",
       "2              1218      1776  NaN         NaN                 NaN   \n",
       "3               726      1745  NaN  2016-04-15              412.00   \n",
       "4               773      1863  NaN  2016-04-16              340.00   \n",
       "\n",
       "   TotalSleepRecords  TotalTimeInBed Date Weight  BMI  WeightKg  WeightPounds  \n",
       "0               1.00          346.00         NaN  NaN       NaN           NaN  \n",
       "1               2.00          407.00         NaN  NaN       NaN           NaN  \n",
       "2                NaN             NaN         NaN  NaN       NaN           NaN  \n",
       "3               1.00          442.00         NaN  NaN       NaN           NaN  \n",
       "4               2.00          367.00         NaN  NaN       NaN           NaN  "
      ]
     },
     "execution_count": 7,
     "metadata": {},
     "output_type": "execute_result"
    }
   ],
   "source": [
    "# Merge DataFrames on specified columns\n",
    "final = pd.merge(activity_heart_sleep, weight, left_on=['Id', 'ActivityDate'], right_on=['Id', 'Date Weight'], how='left')\n",
    "final.head(5)"
   ]
  },
  {
   "cell_type": "code",
   "execution_count": 8,
   "metadata": {
    "colab": {
     "base_uri": "https://localhost:8080/"
    },
    "executionInfo": {
     "elapsed": 92,
     "status": "ok",
     "timestamp": 1706261947233,
     "user": {
      "displayName": "Arijit Dhali",
      "userId": "14418585997030962243"
     },
     "user_tz": -330
    },
    "id": "tww0zGGIF7KH",
    "outputId": "f6b98726-1dc8-400a-fa65-9d4c07da89d6"
   },
   "outputs": [
    {
     "data": {
      "text/plain": [
       "(940, 25)"
      ]
     },
     "execution_count": 8,
     "metadata": {},
     "output_type": "execute_result"
    }
   ],
   "source": [
    "final.shape"
   ]
  },
  {
   "cell_type": "markdown",
   "metadata": {
    "id": "__XhhOfpG2oO"
   },
   "source": [
    "##**Final DataFrame Process**"
   ]
  },
  {
   "cell_type": "code",
   "execution_count": 9,
   "metadata": {
    "colab": {
     "base_uri": "https://localhost:8080/"
    },
    "executionInfo": {
     "elapsed": 91,
     "status": "ok",
     "timestamp": 1706261947235,
     "user": {
      "displayName": "Arijit Dhali",
      "userId": "14418585997030962243"
     },
     "user_tz": -330
    },
    "id": "GKu6SgrXH1O4",
    "outputId": "ce748931-0c17-4738-e4f1-91bcfa59f9de"
   },
   "outputs": [
    {
     "name": "stdout",
     "output_type": "stream",
     "text": [
      "<class 'pandas.core.frame.DataFrame'>\n",
      "RangeIndex: 940 entries, 0 to 939\n",
      "Data columns (total 22 columns):\n",
      " #   Column                    Non-Null Count  Dtype  \n",
      "---  ------                    --------------  -----  \n",
      " 0   Id                        940 non-null    int64  \n",
      " 1   ActivityDate              940 non-null    object \n",
      " 2   DailyAverageHeartrate     334 non-null    float64\n",
      " 3   TotalSteps                940 non-null    int64  \n",
      " 4   TotalDistance             940 non-null    float64\n",
      " 5   TrackerDistance           940 non-null    float64\n",
      " 6   LoggedActivitiesDistance  940 non-null    float64\n",
      " 7   VeryActiveDistance        940 non-null    float64\n",
      " 8   ModeratelyActiveDistance  940 non-null    float64\n",
      " 9   LightActiveDistance       940 non-null    float64\n",
      " 10  SedentaryActiveDistance   940 non-null    float64\n",
      " 11  VeryActiveMinutes         940 non-null    int64  \n",
      " 12  FairlyActiveMinutes       940 non-null    int64  \n",
      " 13  LightlyActiveMinutes      940 non-null    int64  \n",
      " 14  SedentaryMinutes          940 non-null    int64  \n",
      " 15  Calories                  940 non-null    int64  \n",
      " 16  TotalMinutesAsleep        410 non-null    float64\n",
      " 17  TotalSleepRecords         410 non-null    float64\n",
      " 18  TotalTimeInBed            410 non-null    float64\n",
      " 19  BMI                       67 non-null     float64\n",
      " 20  WeightKg                  67 non-null     float64\n",
      " 21  WeightPounds              67 non-null     float64\n",
      "dtypes: float64(14), int64(7), object(1)\n",
      "memory usage: 161.7+ KB\n"
     ]
    }
   ],
   "source": [
    "# Replace the column names with the ones you want to drop\n",
    "columns_to_drop = ['Date Weight', 'SleepDay', 'Day']\n",
    "\n",
    "# Drop the specified columns\n",
    "final = final.drop(columns=columns_to_drop)\n",
    "final.info()"
   ]
  },
  {
   "cell_type": "markdown",
   "metadata": {
    "id": "DbOVKkfJAdZE"
   },
   "source": [
    "Here we count the number of duplicate rows in the '`final`' DataFrame using the `duplicated()` method."
   ]
  },
  {
   "cell_type": "code",
   "execution_count": 10,
   "metadata": {
    "colab": {
     "base_uri": "https://localhost:8080/"
    },
    "executionInfo": {
     "elapsed": 88,
     "status": "ok",
     "timestamp": 1706261947235,
     "user": {
      "displayName": "Arijit Dhali",
      "userId": "14418585997030962243"
     },
     "user_tz": -330
    },
    "id": "c9bKM-qFix6t",
    "outputId": "68d32dc2-9111-44c9-cd96-66f3a6bdba3e"
   },
   "outputs": [
    {
     "data": {
      "text/plain": [
       "0"
      ]
     },
     "execution_count": 10,
     "metadata": {},
     "output_type": "execute_result"
    }
   ],
   "source": [
    "# Count the number of duplicate rows in the 'final' DataFrame\n",
    "final.duplicated().sum()"
   ]
  },
  {
   "cell_type": "markdown",
   "metadata": {
    "id": "f4lU53pXAwQn"
   },
   "source": [
    "Here we count the number of null values in each column of the '`final`' DataFrame using the `isnull()` method."
   ]
  },
  {
   "cell_type": "code",
   "execution_count": 11,
   "metadata": {
    "colab": {
     "base_uri": "https://localhost:8080/"
    },
    "executionInfo": {
     "elapsed": 88,
     "status": "ok",
     "timestamp": 1706261947236,
     "user": {
      "displayName": "Arijit Dhali",
      "userId": "14418585997030962243"
     },
     "user_tz": -330
    },
    "id": "4IsYIgJmiEqb",
    "outputId": "ff18def7-8c97-4447-fa1b-68938ddaaa97"
   },
   "outputs": [
    {
     "data": {
      "text/plain": [
       "Id                            0\n",
       "ActivityDate                  0\n",
       "DailyAverageHeartrate       606\n",
       "TotalSteps                    0\n",
       "TotalDistance                 0\n",
       "TrackerDistance               0\n",
       "LoggedActivitiesDistance      0\n",
       "VeryActiveDistance            0\n",
       "ModeratelyActiveDistance      0\n",
       "LightActiveDistance           0\n",
       "SedentaryActiveDistance       0\n",
       "VeryActiveMinutes             0\n",
       "FairlyActiveMinutes           0\n",
       "LightlyActiveMinutes          0\n",
       "SedentaryMinutes              0\n",
       "Calories                      0\n",
       "TotalMinutesAsleep          530\n",
       "TotalSleepRecords           530\n",
       "TotalTimeInBed              530\n",
       "BMI                         873\n",
       "WeightKg                    873\n",
       "WeightPounds                873\n",
       "dtype: int64"
      ]
     },
     "execution_count": 11,
     "metadata": {},
     "output_type": "execute_result"
    }
   ],
   "source": [
    "# Count the number of null values in each column of the 'final' DataFrame\n",
    "final.isnull().sum()"
   ]
  },
  {
   "cell_type": "markdown",
   "metadata": {
    "id": "_pdr86feBRAX"
   },
   "source": [
    "Here we convert all numeric columns in the '`final`' DataFrame to two decimal places. Then, we standardize column names by converting camel case to snake case using a regular expression."
   ]
  },
  {
   "cell_type": "code",
   "execution_count": 12,
   "metadata": {
    "colab": {
     "base_uri": "https://localhost:8080/",
     "height": 226
    },
    "executionInfo": {
     "elapsed": 88,
     "status": "ok",
     "timestamp": 1706261947237,
     "user": {
      "displayName": "Arijit Dhali",
      "userId": "14418585997030962243"
     },
     "user_tz": -330
    },
    "id": "ytdj41VNh1XR",
    "outputId": "2ac34855-7925-46a0-d005-774f817aad23"
   },
   "outputs": [
    {
     "data": {
      "text/html": [
       "<div>\n",
       "<style scoped>\n",
       "    .dataframe tbody tr th:only-of-type {\n",
       "        vertical-align: middle;\n",
       "    }\n",
       "\n",
       "    .dataframe tbody tr th {\n",
       "        vertical-align: top;\n",
       "    }\n",
       "\n",
       "    .dataframe thead th {\n",
       "        text-align: right;\n",
       "    }\n",
       "</style>\n",
       "<table border=\"1\" class=\"dataframe\">\n",
       "  <thead>\n",
       "    <tr style=\"text-align: right;\">\n",
       "      <th></th>\n",
       "      <th>id</th>\n",
       "      <th>activity_date</th>\n",
       "      <th>daily_average_heartrate</th>\n",
       "      <th>total_steps</th>\n",
       "      <th>total_distance</th>\n",
       "      <th>tracker_distance</th>\n",
       "      <th>logged_activities_distance</th>\n",
       "      <th>very_active_distance</th>\n",
       "      <th>moderately_active_distance</th>\n",
       "      <th>light_active_distance</th>\n",
       "      <th>sedentary_active_distance</th>\n",
       "      <th>very_active_minutes</th>\n",
       "      <th>fairly_active_minutes</th>\n",
       "      <th>lightly_active_minutes</th>\n",
       "      <th>sedentary_minutes</th>\n",
       "      <th>calories</th>\n",
       "      <th>total_minutes_asleep</th>\n",
       "      <th>total_sleep_records</th>\n",
       "      <th>total_time_in_bed</th>\n",
       "      <th>bmi</th>\n",
       "      <th>weight_kg</th>\n",
       "      <th>weight_pounds</th>\n",
       "    </tr>\n",
       "  </thead>\n",
       "  <tbody>\n",
       "    <tr>\n",
       "      <th>0</th>\n",
       "      <td>1503960366</td>\n",
       "      <td>2016-04-12</td>\n",
       "      <td>NaN</td>\n",
       "      <td>13162</td>\n",
       "      <td>8.50</td>\n",
       "      <td>8.50</td>\n",
       "      <td>0.00</td>\n",
       "      <td>1.88</td>\n",
       "      <td>0.55</td>\n",
       "      <td>6.06</td>\n",
       "      <td>0.00</td>\n",
       "      <td>25</td>\n",
       "      <td>13</td>\n",
       "      <td>328</td>\n",
       "      <td>728</td>\n",
       "      <td>1985</td>\n",
       "      <td>327.00</td>\n",
       "      <td>1.00</td>\n",
       "      <td>346.00</td>\n",
       "      <td>NaN</td>\n",
       "      <td>NaN</td>\n",
       "      <td>NaN</td>\n",
       "    </tr>\n",
       "    <tr>\n",
       "      <th>1</th>\n",
       "      <td>1503960366</td>\n",
       "      <td>2016-04-13</td>\n",
       "      <td>NaN</td>\n",
       "      <td>10735</td>\n",
       "      <td>6.97</td>\n",
       "      <td>6.97</td>\n",
       "      <td>0.00</td>\n",
       "      <td>1.57</td>\n",
       "      <td>0.69</td>\n",
       "      <td>4.71</td>\n",
       "      <td>0.00</td>\n",
       "      <td>21</td>\n",
       "      <td>19</td>\n",
       "      <td>217</td>\n",
       "      <td>776</td>\n",
       "      <td>1797</td>\n",
       "      <td>384.00</td>\n",
       "      <td>2.00</td>\n",
       "      <td>407.00</td>\n",
       "      <td>NaN</td>\n",
       "      <td>NaN</td>\n",
       "      <td>NaN</td>\n",
       "    </tr>\n",
       "    <tr>\n",
       "      <th>2</th>\n",
       "      <td>1503960366</td>\n",
       "      <td>2016-04-14</td>\n",
       "      <td>NaN</td>\n",
       "      <td>10460</td>\n",
       "      <td>6.74</td>\n",
       "      <td>6.74</td>\n",
       "      <td>0.00</td>\n",
       "      <td>2.44</td>\n",
       "      <td>0.40</td>\n",
       "      <td>3.91</td>\n",
       "      <td>0.00</td>\n",
       "      <td>30</td>\n",
       "      <td>11</td>\n",
       "      <td>181</td>\n",
       "      <td>1218</td>\n",
       "      <td>1776</td>\n",
       "      <td>NaN</td>\n",
       "      <td>NaN</td>\n",
       "      <td>NaN</td>\n",
       "      <td>NaN</td>\n",
       "      <td>NaN</td>\n",
       "      <td>NaN</td>\n",
       "    </tr>\n",
       "    <tr>\n",
       "      <th>3</th>\n",
       "      <td>1503960366</td>\n",
       "      <td>2016-04-15</td>\n",
       "      <td>NaN</td>\n",
       "      <td>9762</td>\n",
       "      <td>6.28</td>\n",
       "      <td>6.28</td>\n",
       "      <td>0.00</td>\n",
       "      <td>2.14</td>\n",
       "      <td>1.26</td>\n",
       "      <td>2.83</td>\n",
       "      <td>0.00</td>\n",
       "      <td>29</td>\n",
       "      <td>34</td>\n",
       "      <td>209</td>\n",
       "      <td>726</td>\n",
       "      <td>1745</td>\n",
       "      <td>412.00</td>\n",
       "      <td>1.00</td>\n",
       "      <td>442.00</td>\n",
       "      <td>NaN</td>\n",
       "      <td>NaN</td>\n",
       "      <td>NaN</td>\n",
       "    </tr>\n",
       "    <tr>\n",
       "      <th>4</th>\n",
       "      <td>1503960366</td>\n",
       "      <td>2016-04-16</td>\n",
       "      <td>NaN</td>\n",
       "      <td>12669</td>\n",
       "      <td>8.16</td>\n",
       "      <td>8.16</td>\n",
       "      <td>0.00</td>\n",
       "      <td>2.71</td>\n",
       "      <td>0.41</td>\n",
       "      <td>5.04</td>\n",
       "      <td>0.00</td>\n",
       "      <td>36</td>\n",
       "      <td>10</td>\n",
       "      <td>221</td>\n",
       "      <td>773</td>\n",
       "      <td>1863</td>\n",
       "      <td>340.00</td>\n",
       "      <td>2.00</td>\n",
       "      <td>367.00</td>\n",
       "      <td>NaN</td>\n",
       "      <td>NaN</td>\n",
       "      <td>NaN</td>\n",
       "    </tr>\n",
       "  </tbody>\n",
       "</table>\n",
       "</div>"
      ],
      "text/plain": [
       "           id activity_date  daily_average_heartrate  total_steps  \\\n",
       "0  1503960366    2016-04-12                      NaN        13162   \n",
       "1  1503960366    2016-04-13                      NaN        10735   \n",
       "2  1503960366    2016-04-14                      NaN        10460   \n",
       "3  1503960366    2016-04-15                      NaN         9762   \n",
       "4  1503960366    2016-04-16                      NaN        12669   \n",
       "\n",
       "   total_distance  tracker_distance  logged_activities_distance  \\\n",
       "0            8.50              8.50                        0.00   \n",
       "1            6.97              6.97                        0.00   \n",
       "2            6.74              6.74                        0.00   \n",
       "3            6.28              6.28                        0.00   \n",
       "4            8.16              8.16                        0.00   \n",
       "\n",
       "   very_active_distance  moderately_active_distance  light_active_distance  \\\n",
       "0                  1.88                        0.55                   6.06   \n",
       "1                  1.57                        0.69                   4.71   \n",
       "2                  2.44                        0.40                   3.91   \n",
       "3                  2.14                        1.26                   2.83   \n",
       "4                  2.71                        0.41                   5.04   \n",
       "\n",
       "   sedentary_active_distance  very_active_minutes  fairly_active_minutes  \\\n",
       "0                       0.00                   25                     13   \n",
       "1                       0.00                   21                     19   \n",
       "2                       0.00                   30                     11   \n",
       "3                       0.00                   29                     34   \n",
       "4                       0.00                   36                     10   \n",
       "\n",
       "   lightly_active_minutes  sedentary_minutes  calories  total_minutes_asleep  \\\n",
       "0                     328                728      1985                327.00   \n",
       "1                     217                776      1797                384.00   \n",
       "2                     181               1218      1776                   NaN   \n",
       "3                     209                726      1745                412.00   \n",
       "4                     221                773      1863                340.00   \n",
       "\n",
       "   total_sleep_records  total_time_in_bed  bmi  weight_kg  weight_pounds  \n",
       "0                 1.00             346.00  NaN        NaN            NaN  \n",
       "1                 2.00             407.00  NaN        NaN            NaN  \n",
       "2                  NaN                NaN  NaN        NaN            NaN  \n",
       "3                 1.00             442.00  NaN        NaN            NaN  \n",
       "4                 2.00             367.00  NaN        NaN            NaN  "
      ]
     },
     "execution_count": 12,
     "metadata": {},
     "output_type": "execute_result"
    }
   ],
   "source": [
    "# Convert all numeric columns to two decimal places\n",
    "final = final.round(2)\n",
    "\n",
    "# Standardize column names by converting camel case to snake case\n",
    "final.columns = [re.sub('([a-z0-9])([A-Z])', r'\\1_\\2', col).lower() for col in final.columns]\n",
    "\n",
    "final.head()"
   ]
  },
  {
   "cell_type": "markdown",
   "metadata": {
    "id": "iHwgP238LLHE"
   },
   "source": [
    "Now we will save the final data"
   ]
  },
  {
   "cell_type": "code",
   "execution_count": 13,
   "metadata": {
    "executionInfo": {
     "elapsed": 90,
     "status": "ok",
     "timestamp": 1706261947241,
     "user": {
      "displayName": "Arijit Dhali",
      "userId": "14418585997030962243"
     },
     "user_tz": -330
    },
    "id": "EAd9nRXlK4Os"
   },
   "outputs": [],
   "source": [
    "final.to_csv('daily_stats_data.csv', index=False) #save a copy of final data"
   ]
  },
  {
   "cell_type": "code",
   "execution_count": null,
   "metadata": {},
   "outputs": [],
   "source": []
  }
 ],
 "metadata": {
  "colab": {
   "authorship_tag": "ABX9TyNXVH0U20TZJgc1P8XKbJUv",
   "collapsed_sections": [
    "K3SATOGI__z2",
    "65tz03JMALF8",
    "0MEt3Ubo-AF0",
    "KsjcE8B9fppI",
    "KH9fsAYkhBOL",
    "__XhhOfpG2oO"
   ],
   "provenance": []
  },
  "kernelspec": {
   "display_name": "Python 3 (ipykernel)",
   "language": "python",
   "name": "python3"
  },
  "language_info": {
   "codemirror_mode": {
    "name": "ipython",
    "version": 3
   },
   "file_extension": ".py",
   "mimetype": "text/x-python",
   "name": "python",
   "nbconvert_exporter": "python",
   "pygments_lexer": "ipython3",
   "version": "3.9.16"
  }
 },
 "nbformat": 4,
 "nbformat_minor": 1
}
