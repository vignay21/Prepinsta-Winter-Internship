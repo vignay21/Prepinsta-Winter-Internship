{
 "cells": [
  {
   "cell_type": "markdown",
   "metadata": {
    "id": "KiLLSNdpjHEc"
   },
   "source": [
    "#**Week-8 Assignment**\n",
    "##**`Minute` Stats Merge**\n",
    "---\n",
    "Respondents generated this dataset to a distributed survey via Amazon Mechanical Turk between 03.12.2016 and 05.12.2016. Thirty eligible Fitbit users consented to submit personal tracker data, including minute-level output for physical activity, heart rate, and sleep monitoring. Individual reports can be parsed by export session ID (column A) or timestamp (column B). Variation between output represents the use of different Fitbit trackers and individual tracking behaviors/preferences.\n",
    "\n",
    "---\n",
    "This Notebook contains:\n",
    "### `Dataset : Minute Stats Merge`"
   ]
  },
  {
   "cell_type": "markdown",
   "metadata": {
    "id": "K3SATOGI__z2"
   },
   "source": [
    "# **Importing Libraries**\n"
   ]
  },
  {
   "cell_type": "markdown",
   "metadata": {
    "id": "Ykg2gY4AkVbC"
   },
   "source": [
    "So, inorder to perform anything on the data we must require to import the librarires first and set the diplay view of the dataset."
   ]
  },
  {
   "cell_type": "markdown",
   "metadata": {
    "id": "eEs5zg10hGYG"
   },
   "source": [
    "This code snippet imports necessary Python libraries, `sets display options for Pandas`, and prepares the environment for data analysis and visualization."
   ]
  },
  {
   "cell_type": "code",
   "execution_count": 1,
   "metadata": {
    "executionInfo": {
     "elapsed": 817,
     "status": "ok",
     "timestamp": 1706260022839,
     "user": {
      "displayName": "Arijit Dhali",
      "userId": "14418585997030962243"
     },
     "user_tz": -330
    },
    "id": "TqP4bPp_HXqC"
   },
   "outputs": [],
   "source": [
    "# Importing required libraries for data analysis and visualization\n",
    "import pandas as pd                       # Pandas for data manipulation and analysis\n",
    "import numpy as np                        # NumPy for numerical operations\n",
    "import matplotlib.pyplot as plt           # Matplotlib for basic plotting\n",
    "import seaborn as sns                     # Seaborn for statistical data visualization\n",
    "import plotly.express as px               # Plotly Express for interactive visualizations\n",
    "import re                                 # Import the regular expression module\n",
    "import warnings\n",
    "warnings.filterwarnings('ignore')\n",
    "warnings.simplefilter('ignore')\n",
    "\n",
    "# Setting display options for Pandas to show three decimal places for floating-point numbers\n",
    "pd.set_option('display.float_format', lambda x: '%.2f' % x)"
   ]
  },
  {
   "cell_type": "markdown",
   "metadata": {
    "id": "65tz03JMALF8"
   },
   "source": [
    "# **Loading Dataset**"
   ]
  },
  {
   "cell_type": "markdown",
   "metadata": {
    "id": "0jb30hwtk_ZX"
   },
   "source": [
    "After importing librarires, we will import the data using `GitHub` link of raw file"
   ]
  },
  {
   "cell_type": "markdown",
   "metadata": {
    "id": "HFu3qPXYiBDs"
   },
   "source": [
    "Continuing the setup for data analysis by adjusting `Pandas display options` and then loads a dataset from a `URL` into a `Pandas` DataFrame."
   ]
  },
  {
   "cell_type": "code",
   "execution_count": 2,
   "metadata": {
    "executionInfo": {
     "elapsed": 8795,
     "status": "ok",
     "timestamp": 1706260032694,
     "user": {
      "displayName": "Arijit Dhali",
      "userId": "14418585997030962243"
     },
     "user_tz": -330
    },
    "id": "EH77-yMG5Ra4"
   },
   "outputs": [],
   "source": [
    "# Display all columns without truncation\n",
    "pd.set_option('display.max_columns', None)\n",
    "\n",
    "# Load related dataset from URL into multiple DataFrame\n",
    "url_1 = 'https://raw.githubusercontent.com/vignay21/Prepinsta-Winter-Internship/main/PrepInsta-Week8/Clean%20CSV/minute_MET_cleaned.csv'\n",
    "met = pd.read_csv(url_1, encoding='unicode_escape')\n",
    "url_2 = 'https://raw.githubusercontent.com/vignay21/Prepinsta-Winter-Internship/main/PrepInsta-Week8/Clean%20CSV/minute_calories_cleaned.csv'\n",
    "calories = pd.read_csv(url_2, encoding='unicode_escape')\n",
    "url_3 = 'https://raw.githubusercontent.com/vignay21/Prepinsta-Winter-Internship/main/PrepInsta-Week8/Clean%20CSV/minute_intensities_cleaned.csv'\n",
    "intensity = pd.read_csv(url_3, encoding='unicode_escape')\n",
    "url_4 = 'https://raw.githubusercontent.com/vignay21/Prepinsta-Winter-Internship/main/PrepInsta-Week8/Clean%20CSV/minute_sleep_cleaned.csv'\n",
    "sleep = pd.read_csv(url_4, encoding='unicode_escape')\n",
    "url_5 = 'https://raw.githubusercontent.com/vignay21/Prepinsta-Winter-Internship/main/PrepInsta-Week8/Clean%20CSV/minute_steps_cleaned.csv'\n",
    "steps = pd.read_csv(url_5, encoding='unicode_escape')\n",
    "\n",
    "\n",
    "# Display first two rows of the loaded DataFrame\n",
    "#df.sample(5)"
   ]
  },
  {
   "cell_type": "markdown",
   "metadata": {
    "id": "Ia5MJgv91UaD"
   },
   "source": [
    "Inspecting the columns present in every dataset."
   ]
  },
  {
   "cell_type": "code",
   "execution_count": 3,
   "metadata": {
    "colab": {
     "base_uri": "https://localhost:8080/"
    },
    "executionInfo": {
     "elapsed": 21,
     "status": "ok",
     "timestamp": 1706260032695,
     "user": {
      "displayName": "Arijit Dhali",
      "userId": "14418585997030962243"
     },
     "user_tz": -330
    },
    "id": "q-dMgh25rOh-",
    "outputId": "1cbbeb6b-4a39-4d52-a78f-965f380dbbf5"
   },
   "outputs": [
    {
     "name": "stdout",
     "output_type": "stream",
     "text": [
      "                Id ActivityDay ActivityMinute  METs\n",
      "755636  4702921684  2016-05-10       21:56:00    28\n",
      "                Id ActivityDay ActivityMinute  Calories\n",
      "109857  1644430081  2016-04-27       17:57:00      1.69\n",
      "               Id ActivityDay ActivityMinute  Intensity\n",
      "17487  1503960366  2016-04-24       03:27:00          0\n",
      "               Id ActivityDay ActivityMinute  Sleep\n",
      "83310  4445114986  2016-04-30       06:45:00      1\n",
      "                Id ActivityDay ActivityMinute  Steps\n",
      "901659  6290855005  2016-04-24       10:39:00     57\n"
     ]
    }
   ],
   "source": [
    "# Display random row from each dataframe\n",
    "print(met.sample())\n",
    "print(calories.sample())\n",
    "print(intensity.sample())\n",
    "print(sleep.sample())\n",
    "print(steps.sample())"
   ]
  },
  {
   "cell_type": "markdown",
   "metadata": {
    "id": "bedlEdMtWiGF"
   },
   "source": [
    "# **Processing & Merging Dataset**"
   ]
  },
  {
   "cell_type": "markdown",
   "metadata": {
    "id": "0MEt3Ubo-AF0"
   },
   "source": [
    "###1. Calories Dataframe"
   ]
  },
  {
   "cell_type": "markdown",
   "metadata": {
    "id": "roQFoFlA_6ir"
   },
   "source": [
    "Merging Dataframes on Left join"
   ]
  },
  {
   "cell_type": "code",
   "execution_count": 4,
   "metadata": {
    "colab": {
     "base_uri": "https://localhost:8080/",
     "height": 226
    },
    "executionInfo": {
     "elapsed": 877,
     "status": "ok",
     "timestamp": 1706260033563,
     "user": {
      "displayName": "Arijit Dhali",
      "userId": "14418585997030962243"
     },
     "user_tz": -330
    },
    "id": "IduwwJgdXBrU",
    "outputId": "f56778b3-8e3e-4c45-8a1e-c8eb9dbf4823"
   },
   "outputs": [
    {
     "data": {
      "text/html": [
       "<div>\n",
       "<style scoped>\n",
       "    .dataframe tbody tr th:only-of-type {\n",
       "        vertical-align: middle;\n",
       "    }\n",
       "\n",
       "    .dataframe tbody tr th {\n",
       "        vertical-align: top;\n",
       "    }\n",
       "\n",
       "    .dataframe thead th {\n",
       "        text-align: right;\n",
       "    }\n",
       "</style>\n",
       "<table border=\"1\" class=\"dataframe\">\n",
       "  <thead>\n",
       "    <tr style=\"text-align: right;\">\n",
       "      <th></th>\n",
       "      <th>Id</th>\n",
       "      <th>ActivityDay</th>\n",
       "      <th>ActivityMinute</th>\n",
       "      <th>METs</th>\n",
       "      <th>Calories</th>\n",
       "    </tr>\n",
       "  </thead>\n",
       "  <tbody>\n",
       "    <tr>\n",
       "      <th>0</th>\n",
       "      <td>1503960366</td>\n",
       "      <td>2016-04-12</td>\n",
       "      <td>00:00:00</td>\n",
       "      <td>10</td>\n",
       "      <td>0.79</td>\n",
       "    </tr>\n",
       "    <tr>\n",
       "      <th>1</th>\n",
       "      <td>1503960366</td>\n",
       "      <td>2016-04-12</td>\n",
       "      <td>00:01:00</td>\n",
       "      <td>10</td>\n",
       "      <td>0.79</td>\n",
       "    </tr>\n",
       "    <tr>\n",
       "      <th>2</th>\n",
       "      <td>1503960366</td>\n",
       "      <td>2016-04-12</td>\n",
       "      <td>00:02:00</td>\n",
       "      <td>10</td>\n",
       "      <td>0.79</td>\n",
       "    </tr>\n",
       "    <tr>\n",
       "      <th>3</th>\n",
       "      <td>1503960366</td>\n",
       "      <td>2016-04-12</td>\n",
       "      <td>00:03:00</td>\n",
       "      <td>10</td>\n",
       "      <td>0.79</td>\n",
       "    </tr>\n",
       "    <tr>\n",
       "      <th>4</th>\n",
       "      <td>1503960366</td>\n",
       "      <td>2016-04-12</td>\n",
       "      <td>00:04:00</td>\n",
       "      <td>10</td>\n",
       "      <td>0.79</td>\n",
       "    </tr>\n",
       "  </tbody>\n",
       "</table>\n",
       "</div>"
      ],
      "text/plain": [
       "           Id ActivityDay ActivityMinute  METs  Calories\n",
       "0  1503960366  2016-04-12       00:00:00    10      0.79\n",
       "1  1503960366  2016-04-12       00:01:00    10      0.79\n",
       "2  1503960366  2016-04-12       00:02:00    10      0.79\n",
       "3  1503960366  2016-04-12       00:03:00    10      0.79\n",
       "4  1503960366  2016-04-12       00:04:00    10      0.79"
      ]
     },
     "execution_count": 4,
     "metadata": {},
     "output_type": "execute_result"
    }
   ],
   "source": [
    "# Merge DataFrames on specified columns\n",
    "met_calories = pd.merge(met, calories, on=['Id', 'ActivityDay', 'ActivityMinute'], how='left')\n",
    "\n",
    "# Display a random sample of 5 rows from the merged DataFrame\n",
    "met_calories.head(5)"
   ]
  },
  {
   "cell_type": "markdown",
   "metadata": {
    "id": "KsjcE8B9fppI"
   },
   "source": [
    "###2. Intensity Dataframe"
   ]
  },
  {
   "cell_type": "markdown",
   "metadata": {
    "id": "j9GmtoQkAC8h"
   },
   "source": [
    "Merging Dataframes on Left join"
   ]
  },
  {
   "cell_type": "code",
   "execution_count": 5,
   "metadata": {
    "colab": {
     "base_uri": "https://localhost:8080/",
     "height": 226
    },
    "executionInfo": {
     "elapsed": 867,
     "status": "ok",
     "timestamp": 1706260034398,
     "user": {
      "displayName": "Arijit Dhali",
      "userId": "14418585997030962243"
     },
     "user_tz": -330
    },
    "id": "slZISUVCf3Yw",
    "outputId": "410f000f-b99d-4fc0-9e05-b9af09a21439"
   },
   "outputs": [
    {
     "data": {
      "text/html": [
       "<div>\n",
       "<style scoped>\n",
       "    .dataframe tbody tr th:only-of-type {\n",
       "        vertical-align: middle;\n",
       "    }\n",
       "\n",
       "    .dataframe tbody tr th {\n",
       "        vertical-align: top;\n",
       "    }\n",
       "\n",
       "    .dataframe thead th {\n",
       "        text-align: right;\n",
       "    }\n",
       "</style>\n",
       "<table border=\"1\" class=\"dataframe\">\n",
       "  <thead>\n",
       "    <tr style=\"text-align: right;\">\n",
       "      <th></th>\n",
       "      <th>Id</th>\n",
       "      <th>ActivityDay</th>\n",
       "      <th>ActivityMinute</th>\n",
       "      <th>METs</th>\n",
       "      <th>Calories</th>\n",
       "      <th>Intensity</th>\n",
       "    </tr>\n",
       "  </thead>\n",
       "  <tbody>\n",
       "    <tr>\n",
       "      <th>0</th>\n",
       "      <td>1503960366</td>\n",
       "      <td>2016-04-12</td>\n",
       "      <td>00:00:00</td>\n",
       "      <td>10</td>\n",
       "      <td>0.79</td>\n",
       "      <td>0</td>\n",
       "    </tr>\n",
       "    <tr>\n",
       "      <th>1</th>\n",
       "      <td>1503960366</td>\n",
       "      <td>2016-04-12</td>\n",
       "      <td>00:01:00</td>\n",
       "      <td>10</td>\n",
       "      <td>0.79</td>\n",
       "      <td>0</td>\n",
       "    </tr>\n",
       "    <tr>\n",
       "      <th>2</th>\n",
       "      <td>1503960366</td>\n",
       "      <td>2016-04-12</td>\n",
       "      <td>00:02:00</td>\n",
       "      <td>10</td>\n",
       "      <td>0.79</td>\n",
       "      <td>0</td>\n",
       "    </tr>\n",
       "    <tr>\n",
       "      <th>3</th>\n",
       "      <td>1503960366</td>\n",
       "      <td>2016-04-12</td>\n",
       "      <td>00:03:00</td>\n",
       "      <td>10</td>\n",
       "      <td>0.79</td>\n",
       "      <td>0</td>\n",
       "    </tr>\n",
       "    <tr>\n",
       "      <th>4</th>\n",
       "      <td>1503960366</td>\n",
       "      <td>2016-04-12</td>\n",
       "      <td>00:04:00</td>\n",
       "      <td>10</td>\n",
       "      <td>0.79</td>\n",
       "      <td>0</td>\n",
       "    </tr>\n",
       "  </tbody>\n",
       "</table>\n",
       "</div>"
      ],
      "text/plain": [
       "           Id ActivityDay ActivityMinute  METs  Calories  Intensity\n",
       "0  1503960366  2016-04-12       00:00:00    10      0.79          0\n",
       "1  1503960366  2016-04-12       00:01:00    10      0.79          0\n",
       "2  1503960366  2016-04-12       00:02:00    10      0.79          0\n",
       "3  1503960366  2016-04-12       00:03:00    10      0.79          0\n",
       "4  1503960366  2016-04-12       00:04:00    10      0.79          0"
      ]
     },
     "execution_count": 5,
     "metadata": {},
     "output_type": "execute_result"
    }
   ],
   "source": [
    "# Merge DataFrames on specified columns\n",
    "met_calories_intensity = pd.merge(met_calories, intensity, on=['Id', 'ActivityDay', 'ActivityMinute'], how='left')\n",
    "\n",
    "# Display a random sample of 5 rows from the merged DataFrame\n",
    "met_calories_intensity.head(5)"
   ]
  },
  {
   "cell_type": "markdown",
   "metadata": {
    "id": "_8-kJr0nzDwx"
   },
   "source": [
    "###3. Sleep Dataframe"
   ]
  },
  {
   "cell_type": "markdown",
   "metadata": {
    "id": "_8BR_wYgADnk"
   },
   "source": [
    "Merging Dataframes on Left join"
   ]
  },
  {
   "cell_type": "code",
   "execution_count": 6,
   "metadata": {
    "colab": {
     "base_uri": "https://localhost:8080/",
     "height": 226
    },
    "executionInfo": {
     "elapsed": 970,
     "status": "ok",
     "timestamp": 1706260035347,
     "user": {
      "displayName": "Arijit Dhali",
      "userId": "14418585997030962243"
     },
     "user_tz": -330
    },
    "id": "NPqFxK3AzDw3",
    "outputId": "ff1289ca-cdc5-47e3-8ce2-c9675c6956a7"
   },
   "outputs": [
    {
     "data": {
      "text/html": [
       "<div>\n",
       "<style scoped>\n",
       "    .dataframe tbody tr th:only-of-type {\n",
       "        vertical-align: middle;\n",
       "    }\n",
       "\n",
       "    .dataframe tbody tr th {\n",
       "        vertical-align: top;\n",
       "    }\n",
       "\n",
       "    .dataframe thead th {\n",
       "        text-align: right;\n",
       "    }\n",
       "</style>\n",
       "<table border=\"1\" class=\"dataframe\">\n",
       "  <thead>\n",
       "    <tr style=\"text-align: right;\">\n",
       "      <th></th>\n",
       "      <th>Id</th>\n",
       "      <th>ActivityDay</th>\n",
       "      <th>ActivityMinute</th>\n",
       "      <th>METs</th>\n",
       "      <th>Calories</th>\n",
       "      <th>Intensity</th>\n",
       "      <th>Sleep</th>\n",
       "    </tr>\n",
       "  </thead>\n",
       "  <tbody>\n",
       "    <tr>\n",
       "      <th>0</th>\n",
       "      <td>1503960366</td>\n",
       "      <td>2016-04-12</td>\n",
       "      <td>00:00:00</td>\n",
       "      <td>10</td>\n",
       "      <td>0.79</td>\n",
       "      <td>0</td>\n",
       "      <td>NaN</td>\n",
       "    </tr>\n",
       "    <tr>\n",
       "      <th>1</th>\n",
       "      <td>1503960366</td>\n",
       "      <td>2016-04-12</td>\n",
       "      <td>00:01:00</td>\n",
       "      <td>10</td>\n",
       "      <td>0.79</td>\n",
       "      <td>0</td>\n",
       "      <td>NaN</td>\n",
       "    </tr>\n",
       "    <tr>\n",
       "      <th>2</th>\n",
       "      <td>1503960366</td>\n",
       "      <td>2016-04-12</td>\n",
       "      <td>00:02:00</td>\n",
       "      <td>10</td>\n",
       "      <td>0.79</td>\n",
       "      <td>0</td>\n",
       "      <td>NaN</td>\n",
       "    </tr>\n",
       "    <tr>\n",
       "      <th>3</th>\n",
       "      <td>1503960366</td>\n",
       "      <td>2016-04-12</td>\n",
       "      <td>00:03:00</td>\n",
       "      <td>10</td>\n",
       "      <td>0.79</td>\n",
       "      <td>0</td>\n",
       "      <td>NaN</td>\n",
       "    </tr>\n",
       "    <tr>\n",
       "      <th>4</th>\n",
       "      <td>1503960366</td>\n",
       "      <td>2016-04-12</td>\n",
       "      <td>00:04:00</td>\n",
       "      <td>10</td>\n",
       "      <td>0.79</td>\n",
       "      <td>0</td>\n",
       "      <td>NaN</td>\n",
       "    </tr>\n",
       "  </tbody>\n",
       "</table>\n",
       "</div>"
      ],
      "text/plain": [
       "           Id ActivityDay ActivityMinute  METs  Calories  Intensity  Sleep\n",
       "0  1503960366  2016-04-12       00:00:00    10      0.79          0    NaN\n",
       "1  1503960366  2016-04-12       00:01:00    10      0.79          0    NaN\n",
       "2  1503960366  2016-04-12       00:02:00    10      0.79          0    NaN\n",
       "3  1503960366  2016-04-12       00:03:00    10      0.79          0    NaN\n",
       "4  1503960366  2016-04-12       00:04:00    10      0.79          0    NaN"
      ]
     },
     "execution_count": 6,
     "metadata": {},
     "output_type": "execute_result"
    }
   ],
   "source": [
    "# Merge DataFrames on specified columns\n",
    "met_calories_intensity_sleep = pd.merge(met_calories_intensity, sleep, on=['Id', 'ActivityDay', 'ActivityMinute'], how='left')\n",
    "\n",
    "# Display a random sample of 5 rows from the merged DataFrame\n",
    "met_calories_intensity_sleep.head(5)"
   ]
  },
  {
   "cell_type": "markdown",
   "metadata": {
    "id": "ucKq4FDjzjvY"
   },
   "source": [
    "###4. Steps Dataframe"
   ]
  },
  {
   "cell_type": "markdown",
   "metadata": {
    "id": "lBCv7Ke1AFkR"
   },
   "source": [
    "Merging Dataframes on Left join"
   ]
  },
  {
   "cell_type": "code",
   "execution_count": 7,
   "metadata": {
    "colab": {
     "base_uri": "https://localhost:8080/",
     "height": 226
    },
    "executionInfo": {
     "elapsed": 960,
     "status": "ok",
     "timestamp": 1706260036298,
     "user": {
      "displayName": "Arijit Dhali",
      "userId": "14418585997030962243"
     },
     "user_tz": -330
    },
    "id": "iFWPMeB2zjvb",
    "outputId": "5811583a-13ca-4468-f144-186adb9d3662"
   },
   "outputs": [
    {
     "data": {
      "text/html": [
       "<div>\n",
       "<style scoped>\n",
       "    .dataframe tbody tr th:only-of-type {\n",
       "        vertical-align: middle;\n",
       "    }\n",
       "\n",
       "    .dataframe tbody tr th {\n",
       "        vertical-align: top;\n",
       "    }\n",
       "\n",
       "    .dataframe thead th {\n",
       "        text-align: right;\n",
       "    }\n",
       "</style>\n",
       "<table border=\"1\" class=\"dataframe\">\n",
       "  <thead>\n",
       "    <tr style=\"text-align: right;\">\n",
       "      <th></th>\n",
       "      <th>Id</th>\n",
       "      <th>ActivityDay</th>\n",
       "      <th>ActivityMinute</th>\n",
       "      <th>METs</th>\n",
       "      <th>Calories</th>\n",
       "      <th>Intensity</th>\n",
       "      <th>Sleep</th>\n",
       "      <th>Steps</th>\n",
       "    </tr>\n",
       "  </thead>\n",
       "  <tbody>\n",
       "    <tr>\n",
       "      <th>0</th>\n",
       "      <td>1503960366</td>\n",
       "      <td>2016-04-12</td>\n",
       "      <td>00:00:00</td>\n",
       "      <td>10</td>\n",
       "      <td>0.79</td>\n",
       "      <td>0</td>\n",
       "      <td>NaN</td>\n",
       "      <td>0</td>\n",
       "    </tr>\n",
       "    <tr>\n",
       "      <th>1</th>\n",
       "      <td>1503960366</td>\n",
       "      <td>2016-04-12</td>\n",
       "      <td>00:01:00</td>\n",
       "      <td>10</td>\n",
       "      <td>0.79</td>\n",
       "      <td>0</td>\n",
       "      <td>NaN</td>\n",
       "      <td>0</td>\n",
       "    </tr>\n",
       "    <tr>\n",
       "      <th>2</th>\n",
       "      <td>1503960366</td>\n",
       "      <td>2016-04-12</td>\n",
       "      <td>00:02:00</td>\n",
       "      <td>10</td>\n",
       "      <td>0.79</td>\n",
       "      <td>0</td>\n",
       "      <td>NaN</td>\n",
       "      <td>0</td>\n",
       "    </tr>\n",
       "    <tr>\n",
       "      <th>3</th>\n",
       "      <td>1503960366</td>\n",
       "      <td>2016-04-12</td>\n",
       "      <td>00:03:00</td>\n",
       "      <td>10</td>\n",
       "      <td>0.79</td>\n",
       "      <td>0</td>\n",
       "      <td>NaN</td>\n",
       "      <td>0</td>\n",
       "    </tr>\n",
       "    <tr>\n",
       "      <th>4</th>\n",
       "      <td>1503960366</td>\n",
       "      <td>2016-04-12</td>\n",
       "      <td>00:04:00</td>\n",
       "      <td>10</td>\n",
       "      <td>0.79</td>\n",
       "      <td>0</td>\n",
       "      <td>NaN</td>\n",
       "      <td>0</td>\n",
       "    </tr>\n",
       "  </tbody>\n",
       "</table>\n",
       "</div>"
      ],
      "text/plain": [
       "           Id ActivityDay ActivityMinute  METs  Calories  Intensity  Sleep  \\\n",
       "0  1503960366  2016-04-12       00:00:00    10      0.79          0    NaN   \n",
       "1  1503960366  2016-04-12       00:01:00    10      0.79          0    NaN   \n",
       "2  1503960366  2016-04-12       00:02:00    10      0.79          0    NaN   \n",
       "3  1503960366  2016-04-12       00:03:00    10      0.79          0    NaN   \n",
       "4  1503960366  2016-04-12       00:04:00    10      0.79          0    NaN   \n",
       "\n",
       "   Steps  \n",
       "0      0  \n",
       "1      0  \n",
       "2      0  \n",
       "3      0  \n",
       "4      0  "
      ]
     },
     "execution_count": 7,
     "metadata": {},
     "output_type": "execute_result"
    }
   ],
   "source": [
    "# Merge DataFrames on specified columns\n",
    "final = pd.merge(met_calories_intensity_sleep, steps, on=['Id', 'ActivityDay', 'ActivityMinute'], how='left')\n",
    "\n",
    "# Display a head sample of 5 rows from the merged DataFrame\n",
    "final.head(5)"
   ]
  },
  {
   "cell_type": "markdown",
   "metadata": {
    "id": "__XhhOfpG2oO"
   },
   "source": [
    "##**Final DataFrame Process**"
   ]
  },
  {
   "cell_type": "markdown",
   "metadata": {
    "id": "DbOVKkfJAdZE"
   },
   "source": [
    "Here we count the number of duplicate rows in the '`final`' DataFrame using the `duplicated()` method."
   ]
  },
  {
   "cell_type": "code",
   "execution_count": 8,
   "metadata": {
    "colab": {
     "base_uri": "https://localhost:8080/"
    },
    "executionInfo": {
     "elapsed": 705,
     "status": "ok",
     "timestamp": 1706260036997,
     "user": {
      "displayName": "Arijit Dhali",
      "userId": "14418585997030962243"
     },
     "user_tz": -330
    },
    "id": "c9bKM-qFix6t",
    "outputId": "7d657af1-0b2e-4894-c5da-2e93869c7ba6"
   },
   "outputs": [
    {
     "data": {
      "text/plain": [
       "0"
      ]
     },
     "execution_count": 8,
     "metadata": {},
     "output_type": "execute_result"
    }
   ],
   "source": [
    "# Count the number of duplicate rows in the 'final' DataFrame\n",
    "final.duplicated().sum()"
   ]
  },
  {
   "cell_type": "markdown",
   "metadata": {
    "id": "f4lU53pXAwQn"
   },
   "source": [
    "Here we count the number of null values in each column of the '`final`' DataFrame using the `isnull()` method."
   ]
  },
  {
   "cell_type": "code",
   "execution_count": 9,
   "metadata": {
    "colab": {
     "base_uri": "https://localhost:8080/"
    },
    "executionInfo": {
     "elapsed": 4,
     "status": "ok",
     "timestamp": 1706260036998,
     "user": {
      "displayName": "Arijit Dhali",
      "userId": "14418585997030962243"
     },
     "user_tz": -330
    },
    "id": "4IsYIgJmiEqb",
    "outputId": "2306c1df-763d-4ba1-fe46-4554f24f658f"
   },
   "outputs": [
    {
     "data": {
      "text/plain": [
       "Id                      0\n",
       "ActivityDay             0\n",
       "ActivityMinute          0\n",
       "METs                    0\n",
       "Calories                0\n",
       "Intensity               0\n",
       "Sleep             1200220\n",
       "Steps                   0\n",
       "dtype: int64"
      ]
     },
     "execution_count": 9,
     "metadata": {},
     "output_type": "execute_result"
    }
   ],
   "source": [
    "# Count the number of null values in each column of the 'final' DataFrame\n",
    "final.isnull().sum()"
   ]
  },
  {
   "cell_type": "markdown",
   "metadata": {
    "id": "YqHH0iMkA7x8"
   },
   "source": [
    "Fill the Sleep `NaN` values with `0` and make sure that the data type is int."
   ]
  },
  {
   "cell_type": "code",
   "execution_count": 10,
   "metadata": {
    "colab": {
     "base_uri": "https://localhost:8080/"
    },
    "executionInfo": {
     "elapsed": 891,
     "status": "ok",
     "timestamp": 1706260037885,
     "user": {
      "displayName": "Arijit Dhali",
      "userId": "14418585997030962243"
     },
     "user_tz": -330
    },
    "id": "sN5yV9aD0CM_",
    "outputId": "73773d50-6329-4ff3-99bc-6206b5eb691a"
   },
   "outputs": [
    {
     "data": {
      "text/plain": [
       "Id                0\n",
       "ActivityDay       0\n",
       "ActivityMinute    0\n",
       "METs              0\n",
       "Calories          0\n",
       "Intensity         0\n",
       "Sleep             0\n",
       "Steps             0\n",
       "dtype: int64"
      ]
     },
     "execution_count": 10,
     "metadata": {},
     "output_type": "execute_result"
    }
   ],
   "source": [
    "# Replace NaN values in a specific column with 0\n",
    "final['Sleep'] = final['Sleep'].fillna(0)\n",
    "\n",
    "# Convert a column to integer type\n",
    "final['Sleep'] = final['Sleep'].astype(int)\n",
    "\n",
    "final.isnull().sum()"
   ]
  },
  {
   "cell_type": "markdown",
   "metadata": {
    "id": "_pdr86feBRAX"
   },
   "source": [
    "Here we convert all numeric columns in the '`final`' DataFrame to two decimal places. Then, we standardize column names by converting camel case to snake case using a regular expression."
   ]
  },
  {
   "cell_type": "code",
   "execution_count": 11,
   "metadata": {
    "colab": {
     "base_uri": "https://localhost:8080/",
     "height": 101
    },
    "executionInfo": {
     "elapsed": 22,
     "status": "ok",
     "timestamp": 1706260037892,
     "user": {
      "displayName": "Arijit Dhali",
      "userId": "14418585997030962243"
     },
     "user_tz": -330
    },
    "id": "ytdj41VNh1XR",
    "outputId": "98dbe260-bab0-464f-c9b9-a5b46b93b4a5"
   },
   "outputs": [
    {
     "data": {
      "text/html": [
       "<div>\n",
       "<style scoped>\n",
       "    .dataframe tbody tr th:only-of-type {\n",
       "        vertical-align: middle;\n",
       "    }\n",
       "\n",
       "    .dataframe tbody tr th {\n",
       "        vertical-align: top;\n",
       "    }\n",
       "\n",
       "    .dataframe thead th {\n",
       "        text-align: right;\n",
       "    }\n",
       "</style>\n",
       "<table border=\"1\" class=\"dataframe\">\n",
       "  <thead>\n",
       "    <tr style=\"text-align: right;\">\n",
       "      <th></th>\n",
       "      <th>id</th>\n",
       "      <th>activity_day</th>\n",
       "      <th>activity_minute</th>\n",
       "      <th>mets</th>\n",
       "      <th>calories</th>\n",
       "      <th>intensity</th>\n",
       "      <th>sleep</th>\n",
       "      <th>steps</th>\n",
       "    </tr>\n",
       "  </thead>\n",
       "  <tbody>\n",
       "    <tr>\n",
       "      <th>313923</th>\n",
       "      <td>2320127002</td>\n",
       "      <td>2016-04-17</td>\n",
       "      <td>13:03:00</td>\n",
       "      <td>10</td>\n",
       "      <td>0.92</td>\n",
       "      <td>0</td>\n",
       "      <td>0</td>\n",
       "      <td>0</td>\n",
       "    </tr>\n",
       "  </tbody>\n",
       "</table>\n",
       "</div>"
      ],
      "text/plain": [
       "                id activity_day activity_minute  mets  calories  intensity  \\\n",
       "313923  2320127002   2016-04-17        13:03:00    10      0.92          0   \n",
       "\n",
       "        sleep  steps  \n",
       "313923      0      0  "
      ]
     },
     "execution_count": 11,
     "metadata": {},
     "output_type": "execute_result"
    }
   ],
   "source": [
    "# Convert all numeric columns to two decimal places\n",
    "final = final.round(2)\n",
    "\n",
    "# Standardize column names by converting camel case to snake case\n",
    "final.columns = [re.sub('([a-z0-9])([A-Z])', r'\\1_\\2', col).lower() for col in final.columns]\n",
    "\n",
    "final.sample()"
   ]
  },
  {
   "cell_type": "markdown",
   "metadata": {
    "id": "iHwgP238LLHE"
   },
   "source": [
    "Now we will save the final data"
   ]
  },
  {
   "cell_type": "code",
   "execution_count": 12,
   "metadata": {
    "executionInfo": {
     "elapsed": 5775,
     "status": "ok",
     "timestamp": 1706260043648,
     "user": {
      "displayName": "Arijit Dhali",
      "userId": "14418585997030962243"
     },
     "user_tz": -330
    },
    "id": "EAd9nRXlK4Os"
   },
   "outputs": [],
   "source": [
    "final.to_csv('minute_stats_data.csv', index=False) #save a copy of final data"
   ]
  },
  {
   "cell_type": "code",
   "execution_count": null,
   "metadata": {},
   "outputs": [],
   "source": []
  }
 ],
 "metadata": {
  "colab": {
   "authorship_tag": "ABX9TyNq1OyWajCt1L3TS6ljpKw9",
   "collapsed_sections": [
    "K3SATOGI__z2",
    "65tz03JMALF8",
    "0MEt3Ubo-AF0",
    "KsjcE8B9fppI",
    "_8-kJr0nzDwx",
    "ucKq4FDjzjvY",
    "__XhhOfpG2oO"
   ],
   "provenance": []
  },
  "kernelspec": {
   "display_name": "Python 3 (ipykernel)",
   "language": "python",
   "name": "python3"
  },
  "language_info": {
   "codemirror_mode": {
    "name": "ipython",
    "version": 3
   },
   "file_extension": ".py",
   "mimetype": "text/x-python",
   "name": "python",
   "nbconvert_exporter": "python",
   "pygments_lexer": "ipython3",
   "version": "3.9.16"
  }
 },
 "nbformat": 4,
 "nbformat_minor": 1
}
