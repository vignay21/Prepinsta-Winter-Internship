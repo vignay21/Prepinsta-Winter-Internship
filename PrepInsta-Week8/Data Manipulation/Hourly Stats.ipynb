{
 "cells": [
  {
   "cell_type": "markdown",
   "metadata": {
    "id": "KiLLSNdpjHEc"
   },
   "source": [
    "#**Week-8 Assignment**\n",
    "##**`Hourly` Stats Merge**\n",
    "---\n",
    "Respondents generated this dataset to a distributed survey via Amazon Mechanical Turk between 03.12.2016 and 05.12.2016. Thirty eligible Fitbit users consented to submit personal tracker data, including minute-level output for physical activity, heart rate, and sleep monitoring. Individual reports can be parsed by export session ID (column A) or timestamp (column B). Variation between output represents the use of different Fitbit trackers and individual tracking behaviors/preferences.\n",
    "\n",
    "---\n",
    "This Notebook contains:\n",
    "### `Dataset : Hourly Stats Merge`"
   ]
  },
  {
   "cell_type": "markdown",
   "metadata": {
    "id": "K3SATOGI__z2"
   },
   "source": [
    "# **Importing Libraries**\n"
   ]
  },
  {
   "cell_type": "markdown",
   "metadata": {
    "id": "Ykg2gY4AkVbC"
   },
   "source": [
    "So, inorder to perform anything on the data we must require to import the librarires first and set the diplay view of the dataset."
   ]
  },
  {
   "cell_type": "markdown",
   "metadata": {
    "id": "eEs5zg10hGYG"
   },
   "source": [
    "This code snippet imports necessary Python libraries, `sets display options for Pandas`, and prepares the environment for data analysis and visualization."
   ]
  },
  {
   "cell_type": "code",
   "execution_count": 1,
   "metadata": {
    "executionInfo": {
     "elapsed": 434,
     "status": "ok",
     "timestamp": 1706260028515,
     "user": {
      "displayName": "Arijit Dhali",
      "userId": "14418585997030962243"
     },
     "user_tz": -330
    },
    "id": "TqP4bPp_HXqC"
   },
   "outputs": [],
   "source": [
    "# Importing required libraries for data analysis and visualization\n",
    "import pandas as pd                       # Pandas for data manipulation and analysis\n",
    "import numpy as np                        # NumPy for numerical operations\n",
    "import matplotlib.pyplot as plt           # Matplotlib for basic plotting\n",
    "import seaborn as sns                     # Seaborn for statistical data visualization\n",
    "import plotly.express as px               # Plotly Express for interactive visualizations\n",
    "import re                                 # Import the regular expression module\n",
    "import warnings\n",
    "warnings.filterwarnings('ignore')\n",
    "warnings.simplefilter('ignore')\n",
    "\n",
    "# Setting display options for Pandas to show three decimal places for floating-point numbers\n",
    "pd.set_option('display.float_format', lambda x: '%.2f' % x)"
   ]
  },
  {
   "cell_type": "markdown",
   "metadata": {
    "id": "65tz03JMALF8"
   },
   "source": [
    "# **Loading Dataset**"
   ]
  },
  {
   "cell_type": "markdown",
   "metadata": {
    "id": "0jb30hwtk_ZX"
   },
   "source": [
    "After importing librarires, we will import the data using `GitHub` link of raw file"
   ]
  },
  {
   "cell_type": "markdown",
   "metadata": {
    "id": "HFu3qPXYiBDs"
   },
   "source": [
    "Continuing the setup for data analysis by adjusting `Pandas display options` and then loads a dataset from a `URL` into a `Pandas` DataFrame."
   ]
  },
  {
   "cell_type": "code",
   "execution_count": 2,
   "metadata": {
    "executionInfo": {
     "elapsed": 480,
     "status": "ok",
     "timestamp": 1706260029701,
     "user": {
      "displayName": "Arijit Dhali",
      "userId": "14418585997030962243"
     },
     "user_tz": -330
    },
    "id": "EH77-yMG5Ra4"
   },
   "outputs": [],
   "source": [
    "# Display all columns without truncation\n",
    "pd.set_option('display.max_columns', None)\n",
    "\n",
    "# Load related dataset from URL into multiple DataFrame\n",
    "url_1 = 'https://raw.githubusercontent.com/vignay21/Prepinsta-Winter-Internship/main/PrepInsta-Week8/Clean%20CSV/hourly_calories_cleaned.csv'\n",
    "calories = pd.read_csv(url_1, encoding='unicode_escape')\n",
    "url_2 = 'https://raw.githubusercontent.com/vignay21/Prepinsta-Winter-Internship/main/PrepInsta-Week8/Clean%20CSV/hourly_intensities_cleaned.csv'\n",
    "intensity = pd.read_csv(url_2, encoding='unicode_escape')\n",
    "url_3 = 'https://raw.githubusercontent.com/vignay21/Prepinsta-Winter-Internship/main/PrepInsta-Week8/Clean%20CSV/hourly_steps_cleaned.csv'\n",
    "steps = pd.read_csv(url_3, encoding='unicode_escape')\n",
    "\n",
    "\n",
    "# Display first two rows of the loaded DataFrame\n",
    "#df.sample(5)"
   ]
  },
  {
   "cell_type": "markdown",
   "metadata": {
    "id": "Ia5MJgv91UaD"
   },
   "source": [
    "Inspecting the columns present in every dataset."
   ]
  },
  {
   "cell_type": "code",
   "execution_count": 3,
   "metadata": {
    "colab": {
     "base_uri": "https://localhost:8080/"
    },
    "executionInfo": {
     "elapsed": 1068,
     "status": "ok",
     "timestamp": 1706260030761,
     "user": {
      "displayName": "Arijit Dhali",
      "userId": "14418585997030962243"
     },
     "user_tz": -330
    },
    "id": "q-dMgh25rOh-",
    "outputId": "67970c62-ed2b-4297-90be-2d2c8b6f3a99"
   },
   "outputs": [
    {
     "name": "stdout",
     "output_type": "stream",
     "text": [
      "               Id ActivityDay ActivityHour  Calories\n",
      "19496  8378563200  2016-04-22        17:00       120\n",
      "               Id ActivityDay ActivityHour  TotalIntensity  AverageIntensity\n",
      "20764  8792009665  2016-04-15        00:00              12              0.20\n",
      "               Id ActivityDay ActivityHour  StepTotal\n",
      "14211  6117666160  2016-04-17        19:00         30\n"
     ]
    }
   ],
   "source": [
    "# Display random row from each dataframe\n",
    "print(calories.sample())\n",
    "print(intensity.sample())\n",
    "print(steps.sample())"
   ]
  },
  {
   "cell_type": "markdown",
   "metadata": {
    "id": "bedlEdMtWiGF"
   },
   "source": [
    "# **Processing & Merging Dataset**"
   ]
  },
  {
   "cell_type": "markdown",
   "metadata": {
    "id": "0MEt3Ubo-AF0"
   },
   "source": [
    "###1. Intensity Dataframe"
   ]
  },
  {
   "cell_type": "markdown",
   "metadata": {
    "id": "roQFoFlA_6ir"
   },
   "source": [
    "Merging Dataframes on Left join"
   ]
  },
  {
   "cell_type": "code",
   "execution_count": 4,
   "metadata": {
    "colab": {
     "base_uri": "https://localhost:8080/",
     "height": 206
    },
    "executionInfo": {
     "elapsed": 170,
     "status": "ok",
     "timestamp": 1706260030762,
     "user": {
      "displayName": "Arijit Dhali",
      "userId": "14418585997030962243"
     },
     "user_tz": -330
    },
    "id": "IduwwJgdXBrU",
    "outputId": "44792411-6258-4a54-86b7-ff19c33fe864"
   },
   "outputs": [
    {
     "data": {
      "text/html": [
       "<div>\n",
       "<style scoped>\n",
       "    .dataframe tbody tr th:only-of-type {\n",
       "        vertical-align: middle;\n",
       "    }\n",
       "\n",
       "    .dataframe tbody tr th {\n",
       "        vertical-align: top;\n",
       "    }\n",
       "\n",
       "    .dataframe thead th {\n",
       "        text-align: right;\n",
       "    }\n",
       "</style>\n",
       "<table border=\"1\" class=\"dataframe\">\n",
       "  <thead>\n",
       "    <tr style=\"text-align: right;\">\n",
       "      <th></th>\n",
       "      <th>Id</th>\n",
       "      <th>ActivityDay</th>\n",
       "      <th>ActivityHour</th>\n",
       "      <th>Calories</th>\n",
       "      <th>TotalIntensity</th>\n",
       "      <th>AverageIntensity</th>\n",
       "    </tr>\n",
       "  </thead>\n",
       "  <tbody>\n",
       "    <tr>\n",
       "      <th>0</th>\n",
       "      <td>1503960366</td>\n",
       "      <td>2016-04-12</td>\n",
       "      <td>00:00</td>\n",
       "      <td>81</td>\n",
       "      <td>20</td>\n",
       "      <td>0.33</td>\n",
       "    </tr>\n",
       "    <tr>\n",
       "      <th>1</th>\n",
       "      <td>1503960366</td>\n",
       "      <td>2016-04-12</td>\n",
       "      <td>01:00</td>\n",
       "      <td>61</td>\n",
       "      <td>8</td>\n",
       "      <td>0.13</td>\n",
       "    </tr>\n",
       "    <tr>\n",
       "      <th>2</th>\n",
       "      <td>1503960366</td>\n",
       "      <td>2016-04-12</td>\n",
       "      <td>02:00</td>\n",
       "      <td>59</td>\n",
       "      <td>7</td>\n",
       "      <td>0.12</td>\n",
       "    </tr>\n",
       "    <tr>\n",
       "      <th>3</th>\n",
       "      <td>1503960366</td>\n",
       "      <td>2016-04-12</td>\n",
       "      <td>03:00</td>\n",
       "      <td>47</td>\n",
       "      <td>0</td>\n",
       "      <td>0.00</td>\n",
       "    </tr>\n",
       "    <tr>\n",
       "      <th>4</th>\n",
       "      <td>1503960366</td>\n",
       "      <td>2016-04-12</td>\n",
       "      <td>04:00</td>\n",
       "      <td>48</td>\n",
       "      <td>0</td>\n",
       "      <td>0.00</td>\n",
       "    </tr>\n",
       "  </tbody>\n",
       "</table>\n",
       "</div>"
      ],
      "text/plain": [
       "           Id ActivityDay ActivityHour  Calories  TotalIntensity  \\\n",
       "0  1503960366  2016-04-12        00:00        81              20   \n",
       "1  1503960366  2016-04-12        01:00        61               8   \n",
       "2  1503960366  2016-04-12        02:00        59               7   \n",
       "3  1503960366  2016-04-12        03:00        47               0   \n",
       "4  1503960366  2016-04-12        04:00        48               0   \n",
       "\n",
       "   AverageIntensity  \n",
       "0              0.33  \n",
       "1              0.13  \n",
       "2              0.12  \n",
       "3              0.00  \n",
       "4              0.00  "
      ]
     },
     "execution_count": 4,
     "metadata": {},
     "output_type": "execute_result"
    }
   ],
   "source": [
    "# Merge DataFrames on specified columns\n",
    "calories_intensity = pd.merge(calories, intensity, on=['Id', 'ActivityDay', 'ActivityHour'], how='left')\n",
    "\n",
    "# Display a head sample of 5 rows from the merged DataFrame\n",
    "calories_intensity.head(5)"
   ]
  },
  {
   "cell_type": "markdown",
   "metadata": {
    "id": "KsjcE8B9fppI"
   },
   "source": [
    "###2. Steps Dataframe"
   ]
  },
  {
   "cell_type": "markdown",
   "metadata": {
    "id": "0igFXMZRALgZ"
   },
   "source": [
    "Merging Dataframes on Left join"
   ]
  },
  {
   "cell_type": "code",
   "execution_count": 5,
   "metadata": {
    "colab": {
     "base_uri": "https://localhost:8080/",
     "height": 206
    },
    "executionInfo": {
     "elapsed": 174,
     "status": "ok",
     "timestamp": 1706260030769,
     "user": {
      "displayName": "Arijit Dhali",
      "userId": "14418585997030962243"
     },
     "user_tz": -330
    },
    "id": "slZISUVCf3Yw",
    "outputId": "c1d4bf33-79c3-4f4c-9bee-305353286d56"
   },
   "outputs": [
    {
     "data": {
      "text/html": [
       "<div>\n",
       "<style scoped>\n",
       "    .dataframe tbody tr th:only-of-type {\n",
       "        vertical-align: middle;\n",
       "    }\n",
       "\n",
       "    .dataframe tbody tr th {\n",
       "        vertical-align: top;\n",
       "    }\n",
       "\n",
       "    .dataframe thead th {\n",
       "        text-align: right;\n",
       "    }\n",
       "</style>\n",
       "<table border=\"1\" class=\"dataframe\">\n",
       "  <thead>\n",
       "    <tr style=\"text-align: right;\">\n",
       "      <th></th>\n",
       "      <th>Id</th>\n",
       "      <th>ActivityDay</th>\n",
       "      <th>ActivityHour</th>\n",
       "      <th>Calories</th>\n",
       "      <th>TotalIntensity</th>\n",
       "      <th>AverageIntensity</th>\n",
       "      <th>StepTotal</th>\n",
       "    </tr>\n",
       "  </thead>\n",
       "  <tbody>\n",
       "    <tr>\n",
       "      <th>0</th>\n",
       "      <td>1503960366</td>\n",
       "      <td>2016-04-12</td>\n",
       "      <td>00:00</td>\n",
       "      <td>81</td>\n",
       "      <td>20</td>\n",
       "      <td>0.33</td>\n",
       "      <td>373</td>\n",
       "    </tr>\n",
       "    <tr>\n",
       "      <th>1</th>\n",
       "      <td>1503960366</td>\n",
       "      <td>2016-04-12</td>\n",
       "      <td>01:00</td>\n",
       "      <td>61</td>\n",
       "      <td>8</td>\n",
       "      <td>0.13</td>\n",
       "      <td>160</td>\n",
       "    </tr>\n",
       "    <tr>\n",
       "      <th>2</th>\n",
       "      <td>1503960366</td>\n",
       "      <td>2016-04-12</td>\n",
       "      <td>02:00</td>\n",
       "      <td>59</td>\n",
       "      <td>7</td>\n",
       "      <td>0.12</td>\n",
       "      <td>151</td>\n",
       "    </tr>\n",
       "    <tr>\n",
       "      <th>3</th>\n",
       "      <td>1503960366</td>\n",
       "      <td>2016-04-12</td>\n",
       "      <td>03:00</td>\n",
       "      <td>47</td>\n",
       "      <td>0</td>\n",
       "      <td>0.00</td>\n",
       "      <td>0</td>\n",
       "    </tr>\n",
       "    <tr>\n",
       "      <th>4</th>\n",
       "      <td>1503960366</td>\n",
       "      <td>2016-04-12</td>\n",
       "      <td>04:00</td>\n",
       "      <td>48</td>\n",
       "      <td>0</td>\n",
       "      <td>0.00</td>\n",
       "      <td>0</td>\n",
       "    </tr>\n",
       "  </tbody>\n",
       "</table>\n",
       "</div>"
      ],
      "text/plain": [
       "           Id ActivityDay ActivityHour  Calories  TotalIntensity  \\\n",
       "0  1503960366  2016-04-12        00:00        81              20   \n",
       "1  1503960366  2016-04-12        01:00        61               8   \n",
       "2  1503960366  2016-04-12        02:00        59               7   \n",
       "3  1503960366  2016-04-12        03:00        47               0   \n",
       "4  1503960366  2016-04-12        04:00        48               0   \n",
       "\n",
       "   AverageIntensity  StepTotal  \n",
       "0              0.33        373  \n",
       "1              0.13        160  \n",
       "2              0.12        151  \n",
       "3              0.00          0  \n",
       "4              0.00          0  "
      ]
     },
     "execution_count": 5,
     "metadata": {},
     "output_type": "execute_result"
    }
   ],
   "source": [
    "# Merge DataFrames on specified columns\n",
    "final = pd.merge(calories_intensity, steps, on=['Id', 'ActivityDay', 'ActivityHour'], how='left')\n",
    "\n",
    "# Display a head sample of 5 rows from the merged DataFrame\n",
    "final.head(5)"
   ]
  },
  {
   "cell_type": "markdown",
   "metadata": {
    "id": "__XhhOfpG2oO"
   },
   "source": [
    "##**Final DataFrame Process**"
   ]
  },
  {
   "cell_type": "markdown",
   "metadata": {
    "id": "DbOVKkfJAdZE"
   },
   "source": [
    "Here we count the number of duplicate rows in the '`final`' DataFrame using the `duplicated()` method."
   ]
  },
  {
   "cell_type": "code",
   "execution_count": 6,
   "metadata": {
    "colab": {
     "base_uri": "https://localhost:8080/"
    },
    "executionInfo": {
     "elapsed": 174,
     "status": "ok",
     "timestamp": 1706260030775,
     "user": {
      "displayName": "Arijit Dhali",
      "userId": "14418585997030962243"
     },
     "user_tz": -330
    },
    "id": "c9bKM-qFix6t",
    "outputId": "8248da67-8a57-43dc-c972-3b5f16da53d9"
   },
   "outputs": [
    {
     "data": {
      "text/plain": [
       "0"
      ]
     },
     "execution_count": 6,
     "metadata": {},
     "output_type": "execute_result"
    }
   ],
   "source": [
    "# Count the number of duplicate rows in the 'final' DataFrame\n",
    "final.duplicated().sum()"
   ]
  },
  {
   "cell_type": "markdown",
   "metadata": {
    "id": "f4lU53pXAwQn"
   },
   "source": [
    "Here we count the number of null values in each column of the '`final`' DataFrame using the `isnull()` method."
   ]
  },
  {
   "cell_type": "code",
   "execution_count": 7,
   "metadata": {
    "colab": {
     "base_uri": "https://localhost:8080/"
    },
    "executionInfo": {
     "elapsed": 170,
     "status": "ok",
     "timestamp": 1706260030779,
     "user": {
      "displayName": "Arijit Dhali",
      "userId": "14418585997030962243"
     },
     "user_tz": -330
    },
    "id": "4IsYIgJmiEqb",
    "outputId": "f67b3ee8-733e-4827-82b0-e06ae372c150"
   },
   "outputs": [
    {
     "data": {
      "text/plain": [
       "Id                  0\n",
       "ActivityDay         0\n",
       "ActivityHour        0\n",
       "Calories            0\n",
       "TotalIntensity      0\n",
       "AverageIntensity    0\n",
       "StepTotal           0\n",
       "dtype: int64"
      ]
     },
     "execution_count": 7,
     "metadata": {},
     "output_type": "execute_result"
    }
   ],
   "source": [
    "# Count the number of null values in each column of the 'final' DataFrame\n",
    "final.isnull().sum()"
   ]
  },
  {
   "cell_type": "markdown",
   "metadata": {
    "id": "_pdr86feBRAX"
   },
   "source": [
    "Here we convert all numeric columns in the '`final`' DataFrame to two decimal places. Then, we standardize column names by converting camel case to snake case using a regular expression."
   ]
  },
  {
   "cell_type": "code",
   "execution_count": 8,
   "metadata": {
    "colab": {
     "base_uri": "https://localhost:8080/",
     "height": 81
    },
    "executionInfo": {
     "elapsed": 166,
     "status": "ok",
     "timestamp": 1706260030783,
     "user": {
      "displayName": "Arijit Dhali",
      "userId": "14418585997030962243"
     },
     "user_tz": -330
    },
    "id": "ytdj41VNh1XR",
    "outputId": "51d444fe-5175-47fc-d3b5-b1e29ee96417"
   },
   "outputs": [
    {
     "data": {
      "text/html": [
       "<div>\n",
       "<style scoped>\n",
       "    .dataframe tbody tr th:only-of-type {\n",
       "        vertical-align: middle;\n",
       "    }\n",
       "\n",
       "    .dataframe tbody tr th {\n",
       "        vertical-align: top;\n",
       "    }\n",
       "\n",
       "    .dataframe thead th {\n",
       "        text-align: right;\n",
       "    }\n",
       "</style>\n",
       "<table border=\"1\" class=\"dataframe\">\n",
       "  <thead>\n",
       "    <tr style=\"text-align: right;\">\n",
       "      <th></th>\n",
       "      <th>id</th>\n",
       "      <th>activity_day</th>\n",
       "      <th>activity_hour</th>\n",
       "      <th>calories</th>\n",
       "      <th>total_intensity</th>\n",
       "      <th>average_intensity</th>\n",
       "      <th>step_total</th>\n",
       "    </tr>\n",
       "  </thead>\n",
       "  <tbody>\n",
       "    <tr>\n",
       "      <th>16853</th>\n",
       "      <td>7007744171</td>\n",
       "      <td>2016-04-16</td>\n",
       "      <td>18:00</td>\n",
       "      <td>129</td>\n",
       "      <td>23</td>\n",
       "      <td>0.38</td>\n",
       "      <td>592</td>\n",
       "    </tr>\n",
       "  </tbody>\n",
       "</table>\n",
       "</div>"
      ],
      "text/plain": [
       "               id activity_day activity_hour  calories  total_intensity  \\\n",
       "16853  7007744171   2016-04-16         18:00       129               23   \n",
       "\n",
       "       average_intensity  step_total  \n",
       "16853               0.38         592  "
      ]
     },
     "execution_count": 8,
     "metadata": {},
     "output_type": "execute_result"
    }
   ],
   "source": [
    "# Convert all numeric columns to two decimal places\n",
    "final = final.round(2)\n",
    "\n",
    "# Standardize column names by converting camel case to snake case\n",
    "final.columns = [re.sub('([a-z0-9])([A-Z])', r'\\1_\\2', col).lower() for col in final.columns]\n",
    "\n",
    "final.sample()"
   ]
  },
  {
   "cell_type": "markdown",
   "metadata": {
    "id": "iHwgP238LLHE"
   },
   "source": [
    "Now we will save the final data"
   ]
  },
  {
   "cell_type": "code",
   "execution_count": 9,
   "metadata": {
    "executionInfo": {
     "elapsed": 161,
     "status": "ok",
     "timestamp": 1706260030785,
     "user": {
      "displayName": "Arijit Dhali",
      "userId": "14418585997030962243"
     },
     "user_tz": -330
    },
    "id": "EAd9nRXlK4Os"
   },
   "outputs": [],
   "source": [
    "final.to_csv('hourly_stats_data.csv', index=False) #save a copy of final data"
   ]
  },
  {
   "cell_type": "code",
   "execution_count": null,
   "metadata": {},
   "outputs": [],
   "source": []
  }
 ],
 "metadata": {
  "colab": {
   "authorship_tag": "ABX9TyMRXGyl+YIOKi0Bh21zZTQN",
   "collapsed_sections": [
    "K3SATOGI__z2",
    "65tz03JMALF8",
    "0MEt3Ubo-AF0",
    "KsjcE8B9fppI",
    "__XhhOfpG2oO"
   ],
   "provenance": []
  },
  "kernelspec": {
   "display_name": "Python 3 (ipykernel)",
   "language": "python",
   "name": "python3"
  },
  "language_info": {
   "codemirror_mode": {
    "name": "ipython",
    "version": 3
   },
   "file_extension": ".py",
   "mimetype": "text/x-python",
   "name": "python",
   "nbconvert_exporter": "python",
   "pygments_lexer": "ipython3",
   "version": "3.9.16"
  }
 },
 "nbformat": 4,
 "nbformat_minor": 1
}
