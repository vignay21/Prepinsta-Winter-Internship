{
 "cells": [
  {
   "cell_type": "markdown",
   "metadata": {
    "id": "KiLLSNdpjHEc"
   },
   "source": [
    "#**Week-8 Assignment**\n",
    "##**Minute Sleep**\n",
    "---\n",
    "Respondents generated this dataset to a distributed survey via Amazon Mechanical Turk between 03.12.2016 and 05.12.2016. Thirty eligible Fitbit users consented to submit personal tracker data, including minute-level output for physical activity, heart rate, and sleep monitoring. Individual reports can be parsed by export session ID (column A) or timestamp (column B). Variation between output represents the use of different Fitbit trackers and individual tracking behaviors/preferences.\n",
    "\n",
    "---\n",
    "This Notebook contains:\n",
    "### `Dataset : Minute Sleep`"
   ]
  },
  {
   "cell_type": "markdown",
   "metadata": {
    "id": "K3SATOGI__z2"
   },
   "source": [
    "# **Importing Libraries**\n"
   ]
  },
  {
   "cell_type": "markdown",
   "metadata": {
    "id": "Ykg2gY4AkVbC"
   },
   "source": [
    "So, inorder to perform anything on the data we must require to import the librarires first and set the diplay view of the dataset."
   ]
  },
  {
   "cell_type": "markdown",
   "metadata": {
    "id": "eEs5zg10hGYG"
   },
   "source": [
    "This code snippet imports necessary Python libraries, `sets display options for Pandas`, and prepares the environment for data analysis and visualization."
   ]
  },
  {
   "cell_type": "code",
   "execution_count": 1,
   "metadata": {
    "executionInfo": {
     "elapsed": 1706,
     "status": "ok",
     "timestamp": 1706179940967,
     "user": {
      "displayName": "Arijit Dhali",
      "userId": "14418585997030962243"
     },
     "user_tz": -330
    },
    "id": "TqP4bPp_HXqC"
   },
   "outputs": [],
   "source": [
    "# Importing required libraries for data analysis and visualization\n",
    "import pandas as pd                       # Pandas for data manipulation and analysis\n",
    "import numpy as np                        # NumPy for numerical operations\n",
    "import matplotlib.pyplot as plt           # Matplotlib for basic plotting\n",
    "import seaborn as sns                     # Seaborn for statistical data visualization\n",
    "import plotly.express as px               # Plotly Express for interactive visualizations\n",
    "import warnings\n",
    "warnings.filterwarnings('ignore')\n",
    "warnings.simplefilter('ignore')\n",
    "\n",
    "# Setting display options for Pandas to show three decimal places for floating-point numbers\n",
    "pd.set_option('display.float_format', lambda x: '%.2f' % x)"
   ]
  },
  {
   "cell_type": "markdown",
   "metadata": {
    "id": "65tz03JMALF8"
   },
   "source": [
    "# **Loading Dataset**"
   ]
  },
  {
   "cell_type": "markdown",
   "metadata": {
    "id": "0jb30hwtk_ZX"
   },
   "source": [
    "After importing librarires, we will import the data using `GitHub` link of raw file"
   ]
  },
  {
   "cell_type": "markdown",
   "metadata": {
    "id": "HFu3qPXYiBDs"
   },
   "source": [
    "Continuing the setup for data analysis by adjusting `Pandas display options` and then loads a dataset from a `URL` into a `Pandas` DataFrame."
   ]
  },
  {
   "cell_type": "code",
   "execution_count": 2,
   "metadata": {
    "colab": {
     "base_uri": "https://localhost:8080/",
     "height": 202
    },
    "executionInfo": {
     "elapsed": 751,
     "status": "ok",
     "timestamp": 1706179941713,
     "user": {
      "displayName": "Arijit Dhali",
      "userId": "14418585997030962243"
     },
     "user_tz": -330
    },
    "id": "EH77-yMG5Ra4",
    "outputId": "b5a58616-015f-4c92-d63d-378dd838604a"
   },
   "outputs": [
    {
     "data": {
      "text/html": [
       "<div>\n",
       "<style scoped>\n",
       "    .dataframe tbody tr th:only-of-type {\n",
       "        vertical-align: middle;\n",
       "    }\n",
       "\n",
       "    .dataframe tbody tr th {\n",
       "        vertical-align: top;\n",
       "    }\n",
       "\n",
       "    .dataframe thead th {\n",
       "        text-align: right;\n",
       "    }\n",
       "</style>\n",
       "<table border=\"1\" class=\"dataframe\">\n",
       "  <thead>\n",
       "    <tr style=\"text-align: right;\">\n",
       "      <th></th>\n",
       "      <th>Id</th>\n",
       "      <th>date</th>\n",
       "      <th>value</th>\n",
       "      <th>logId</th>\n",
       "    </tr>\n",
       "  </thead>\n",
       "  <tbody>\n",
       "    <tr>\n",
       "      <th>0</th>\n",
       "      <td>1503960366</td>\n",
       "      <td>4/12/2016 2:47:30 AM</td>\n",
       "      <td>3</td>\n",
       "      <td>11380564589</td>\n",
       "    </tr>\n",
       "    <tr>\n",
       "      <th>1</th>\n",
       "      <td>1503960366</td>\n",
       "      <td>4/12/2016 2:48:30 AM</td>\n",
       "      <td>2</td>\n",
       "      <td>11380564589</td>\n",
       "    </tr>\n",
       "  </tbody>\n",
       "</table>\n",
       "</div>"
      ],
      "text/plain": [
       "           Id                  date  value        logId\n",
       "0  1503960366  4/12/2016 2:47:30 AM      3  11380564589\n",
       "1  1503960366  4/12/2016 2:48:30 AM      2  11380564589"
      ]
     },
     "execution_count": 2,
     "metadata": {},
     "output_type": "execute_result"
    }
   ],
   "source": [
    "# Display all columns without truncation\n",
    "pd.set_option('display.max_columns', None)\n",
    "\n",
    "# Load car-related dataset from URL into 'df' DataFrame\n",
    "url = 'https://raw.githubusercontent.com/vignay21/Prepinsta-Winter-Internship/main/PrepInsta-Week8/Raw%20CSV/minuteSleep_merged.csv'\n",
    "df = pd.read_csv(url, encoding='unicode_escape')\n",
    "\n",
    "# Display first two rows of the loaded DataFrame\n",
    "df.head(2)"
   ]
  },
  {
   "cell_type": "markdown",
   "metadata": {
    "id": "nLQdYS4TAQB6"
   },
   "source": [
    "# **Preliminary Data Inspection**"
   ]
  },
  {
   "cell_type": "markdown",
   "metadata": {
    "id": "d5yY1kDhlM0L"
   },
   "source": [
    "To perform any operation on the dataset, we need to get familiarized with the dataset."
   ]
  },
  {
   "cell_type": "markdown",
   "metadata": {
    "id": "EjW6Q5lSjW-1"
   },
   "source": [
    "Showcasing the data types of each column in the '`df`' DataFrame."
   ]
  },
  {
   "cell_type": "code",
   "execution_count": 3,
   "metadata": {
    "colab": {
     "base_uri": "https://localhost:8080/"
    },
    "executionInfo": {
     "elapsed": 29,
     "status": "ok",
     "timestamp": 1706179941714,
     "user": {
      "displayName": "Arijit Dhali",
      "userId": "14418585997030962243"
     },
     "user_tz": -330
    },
    "id": "-WoYNCRVJLDh",
    "outputId": "b19b93b2-426a-4cbc-a3bb-7f6e6a315a02"
   },
   "outputs": [
    {
     "data": {
      "text/plain": [
       "Id        int64\n",
       "date     object\n",
       "value     int64\n",
       "logId     int64\n",
       "dtype: object"
      ]
     },
     "execution_count": 3,
     "metadata": {},
     "output_type": "execute_result"
    }
   ],
   "source": [
    "df.dtypes        # Display data types of columns in the 'df' DataFrame"
   ]
  },
  {
   "cell_type": "markdown",
   "metadata": {
    "id": "pKGBZgA3jflA"
   },
   "source": [
    "Detailed information about the '`df`' DataFrame, including *data types* and *memory usage*"
   ]
  },
  {
   "cell_type": "code",
   "execution_count": 4,
   "metadata": {
    "colab": {
     "base_uri": "https://localhost:8080/"
    },
    "executionInfo": {
     "elapsed": 24,
     "status": "ok",
     "timestamp": 1706179941714,
     "user": {
      "displayName": "Arijit Dhali",
      "userId": "14418585997030962243"
     },
     "user_tz": -330
    },
    "id": "15Zn77mkKirR",
    "outputId": "9d1044e4-1386-439d-8686-0b0d6bd5a13a"
   },
   "outputs": [
    {
     "name": "stdout",
     "output_type": "stream",
     "text": [
      "<class 'pandas.core.frame.DataFrame'>\n",
      "RangeIndex: 188521 entries, 0 to 188520\n",
      "Data columns (total 4 columns):\n",
      " #   Column  Non-Null Count   Dtype \n",
      "---  ------  --------------   ----- \n",
      " 0   Id      188521 non-null  int64 \n",
      " 1   date    188521 non-null  object\n",
      " 2   value   188521 non-null  int64 \n",
      " 3   logId   188521 non-null  int64 \n",
      "dtypes: int64(3), object(1)\n",
      "memory usage: 5.8+ MB\n"
     ]
    }
   ],
   "source": [
    "df.info(verbose=True)        # Display concise information about 'df' DataFrame"
   ]
  },
  {
   "cell_type": "markdown",
   "metadata": {
    "id": "BsUsCSXrjwwI"
   },
   "source": [
    "Showing the number of rows and columns"
   ]
  },
  {
   "cell_type": "code",
   "execution_count": 5,
   "metadata": {
    "colab": {
     "base_uri": "https://localhost:8080/"
    },
    "executionInfo": {
     "elapsed": 21,
     "status": "ok",
     "timestamp": 1706179941715,
     "user": {
      "displayName": "Arijit Dhali",
      "userId": "14418585997030962243"
     },
     "user_tz": -330
    },
    "id": "cIP7jEO9_zGU",
    "outputId": "97a0d374-a2b0-4dcb-bea2-073273e25185"
   },
   "outputs": [
    {
     "data": {
      "text/plain": [
       "(188521, 4)"
      ]
     },
     "execution_count": 5,
     "metadata": {},
     "output_type": "execute_result"
    }
   ],
   "source": [
    "df.shape         # Display the shape (rows, columns)"
   ]
  },
  {
   "cell_type": "markdown",
   "metadata": {
    "id": "xsZIYAWEkJ5R"
   },
   "source": [
    "Using `df.describe()` to generate descriptive statistics for the numerical columns in the '`df`' DataFrame."
   ]
  },
  {
   "cell_type": "code",
   "execution_count": 6,
   "metadata": {
    "colab": {
     "base_uri": "https://localhost:8080/",
     "height": 320
    },
    "executionInfo": {
     "elapsed": 18,
     "status": "ok",
     "timestamp": 1706179941716,
     "user": {
      "displayName": "Arijit Dhali",
      "userId": "14418585997030962243"
     },
     "user_tz": -330
    },
    "id": "aYGUyw_WJ9gI",
    "outputId": "cd19aa15-e3b4-4969-e132-2d423da5b818"
   },
   "outputs": [
    {
     "data": {
      "text/html": [
       "<div>\n",
       "<style scoped>\n",
       "    .dataframe tbody tr th:only-of-type {\n",
       "        vertical-align: middle;\n",
       "    }\n",
       "\n",
       "    .dataframe tbody tr th {\n",
       "        vertical-align: top;\n",
       "    }\n",
       "\n",
       "    .dataframe thead th {\n",
       "        text-align: right;\n",
       "    }\n",
       "</style>\n",
       "<table border=\"1\" class=\"dataframe\">\n",
       "  <thead>\n",
       "    <tr style=\"text-align: right;\">\n",
       "      <th></th>\n",
       "      <th>Id</th>\n",
       "      <th>value</th>\n",
       "      <th>logId</th>\n",
       "    </tr>\n",
       "  </thead>\n",
       "  <tbody>\n",
       "    <tr>\n",
       "      <th>count</th>\n",
       "      <td>188521.00</td>\n",
       "      <td>188521.00</td>\n",
       "      <td>188521.00</td>\n",
       "    </tr>\n",
       "    <tr>\n",
       "      <th>mean</th>\n",
       "      <td>4996594662.99</td>\n",
       "      <td>1.10</td>\n",
       "      <td>11496113508.76</td>\n",
       "    </tr>\n",
       "    <tr>\n",
       "      <th>std</th>\n",
       "      <td>2066949567.23</td>\n",
       "      <td>0.33</td>\n",
       "      <td>68228634.75</td>\n",
       "    </tr>\n",
       "    <tr>\n",
       "      <th>min</th>\n",
       "      <td>1503960366.00</td>\n",
       "      <td>1.00</td>\n",
       "      <td>11372227280.00</td>\n",
       "    </tr>\n",
       "    <tr>\n",
       "      <th>25%</th>\n",
       "      <td>3977333714.00</td>\n",
       "      <td>1.00</td>\n",
       "      <td>11439308639.00</td>\n",
       "    </tr>\n",
       "    <tr>\n",
       "      <th>50%</th>\n",
       "      <td>4702921684.00</td>\n",
       "      <td>1.00</td>\n",
       "      <td>11501142214.00</td>\n",
       "    </tr>\n",
       "    <tr>\n",
       "      <th>75%</th>\n",
       "      <td>6962181067.00</td>\n",
       "      <td>1.00</td>\n",
       "      <td>11552534115.00</td>\n",
       "    </tr>\n",
       "    <tr>\n",
       "      <th>max</th>\n",
       "      <td>8792009665.00</td>\n",
       "      <td>3.00</td>\n",
       "      <td>11616251768.00</td>\n",
       "    </tr>\n",
       "  </tbody>\n",
       "</table>\n",
       "</div>"
      ],
      "text/plain": [
       "                 Id     value          logId\n",
       "count     188521.00 188521.00      188521.00\n",
       "mean  4996594662.99      1.10 11496113508.76\n",
       "std   2066949567.23      0.33    68228634.75\n",
       "min   1503960366.00      1.00 11372227280.00\n",
       "25%   3977333714.00      1.00 11439308639.00\n",
       "50%   4702921684.00      1.00 11501142214.00\n",
       "75%   6962181067.00      1.00 11552534115.00\n",
       "max   8792009665.00      3.00 11616251768.00"
      ]
     },
     "execution_count": 6,
     "metadata": {},
     "output_type": "execute_result"
    }
   ],
   "source": [
    "df.describe()      # Generate descriptive statistics for numerical columns"
   ]
  },
  {
   "cell_type": "markdown",
   "metadata": {
    "id": "4davU9hBA3A7"
   },
   "source": [
    "# **Data Cleaning and Trimming**"
   ]
  },
  {
   "cell_type": "markdown",
   "metadata": {
    "id": "sE_iVoSxlajJ"
   },
   "source": [
    "Modifying each and every column accordingly to get a smooth analysis in data vizualization."
   ]
  },
  {
   "cell_type": "markdown",
   "metadata": {
    "id": "W-1BI0C3Ix_I"
   },
   "source": [
    "### 1. Standardize Date Column"
   ]
  },
  {
   "cell_type": "markdown",
   "metadata": {
    "id": "bOWeiN61ev9P"
   },
   "source": [
    "Here we convert the '`Date`' column to datetime format. Now we extract the date only from '`Date`' and create a new columnrelated to the name of Dataframe. Now we drop the original '`Date`' column and move the new column to its original position. Finally, we print the DataFrame to observe the changes."
   ]
  },
  {
   "cell_type": "code",
   "execution_count": 7,
   "metadata": {
    "colab": {
     "base_uri": "https://localhost:8080/",
     "height": 226
    },
    "executionInfo": {
     "elapsed": 1400,
     "status": "ok",
     "timestamp": 1706179943101,
     "user": {
      "displayName": "Arijit Dhali",
      "userId": "14418585997030962243"
     },
     "user_tz": -330
    },
    "id": "5o6jczTNGE6B",
    "outputId": "db34c57f-c219-451f-d7f6-e314076c41f5"
   },
   "outputs": [
    {
     "data": {
      "text/html": [
       "<div>\n",
       "<style scoped>\n",
       "    .dataframe tbody tr th:only-of-type {\n",
       "        vertical-align: middle;\n",
       "    }\n",
       "\n",
       "    .dataframe tbody tr th {\n",
       "        vertical-align: top;\n",
       "    }\n",
       "\n",
       "    .dataframe thead th {\n",
       "        text-align: right;\n",
       "    }\n",
       "</style>\n",
       "<table border=\"1\" class=\"dataframe\">\n",
       "  <thead>\n",
       "    <tr style=\"text-align: right;\">\n",
       "      <th></th>\n",
       "      <th>Id</th>\n",
       "      <th>ActivityDay</th>\n",
       "      <th>ActivityMinute</th>\n",
       "      <th>Sleep</th>\n",
       "      <th>logId</th>\n",
       "    </tr>\n",
       "  </thead>\n",
       "  <tbody>\n",
       "    <tr>\n",
       "      <th>0</th>\n",
       "      <td>1503960366</td>\n",
       "      <td>2016-04-12</td>\n",
       "      <td>02:47:30</td>\n",
       "      <td>3</td>\n",
       "      <td>11380564589</td>\n",
       "    </tr>\n",
       "    <tr>\n",
       "      <th>1</th>\n",
       "      <td>1503960366</td>\n",
       "      <td>2016-04-12</td>\n",
       "      <td>02:48:30</td>\n",
       "      <td>2</td>\n",
       "      <td>11380564589</td>\n",
       "    </tr>\n",
       "    <tr>\n",
       "      <th>2</th>\n",
       "      <td>1503960366</td>\n",
       "      <td>2016-04-12</td>\n",
       "      <td>02:49:30</td>\n",
       "      <td>1</td>\n",
       "      <td>11380564589</td>\n",
       "    </tr>\n",
       "    <tr>\n",
       "      <th>3</th>\n",
       "      <td>1503960366</td>\n",
       "      <td>2016-04-12</td>\n",
       "      <td>02:50:30</td>\n",
       "      <td>1</td>\n",
       "      <td>11380564589</td>\n",
       "    </tr>\n",
       "    <tr>\n",
       "      <th>4</th>\n",
       "      <td>1503960366</td>\n",
       "      <td>2016-04-12</td>\n",
       "      <td>02:51:30</td>\n",
       "      <td>1</td>\n",
       "      <td>11380564589</td>\n",
       "    </tr>\n",
       "  </tbody>\n",
       "</table>\n",
       "</div>"
      ],
      "text/plain": [
       "           Id ActivityDay ActivityMinute  Sleep        logId\n",
       "0  1503960366  2016-04-12       02:47:30      3  11380564589\n",
       "1  1503960366  2016-04-12       02:48:30      2  11380564589\n",
       "2  1503960366  2016-04-12       02:49:30      1  11380564589\n",
       "3  1503960366  2016-04-12       02:50:30      1  11380564589\n",
       "4  1503960366  2016-04-12       02:51:30      1  11380564589"
      ]
     },
     "execution_count": 7,
     "metadata": {},
     "output_type": "execute_result"
    }
   ],
   "source": [
    "# Convert the 'Date' column to datetime format\n",
    "df['date'] = pd.to_datetime(df['date'], format='%m/%d/%Y %I:%M:%S %p')\n",
    "\n",
    "# Convert the 'date' column to datetime format\n",
    "df['ActivityDay'] = df['date'].dt.date\n",
    "df['date'] = df['date'].dt.time\n",
    "date_column = df.pop('ActivityDay')\n",
    "df.insert(1, 'ActivityDay', date_column)\n",
    "\n",
    "# Use the 'rename' method to rename a column\n",
    "df.rename(columns={'date': 'ActivityMinute', 'value': 'Sleep'}, inplace=True)\n",
    "\n",
    "# Print the DataFrame to see the changes\n",
    "df.head(5)"
   ]
  },
  {
   "cell_type": "markdown",
   "metadata": {
    "id": "JvFAywvLqyyr"
   },
   "source": [
    "### 2. Handling the large missing values"
   ]
  },
  {
   "cell_type": "markdown",
   "metadata": {
    "id": "AmUW0NjUl3gG"
   },
   "source": [
    "Now, we will calculate and display the percentage of missing values for each column in the '`df`' DataFrame. <br>This information helps in understanding the completeness of the dataset and identifies columns with **missing data**."
   ]
  },
  {
   "cell_type": "code",
   "execution_count": 8,
   "metadata": {
    "executionInfo": {
     "elapsed": 23,
     "status": "ok",
     "timestamp": 1706179943102,
     "user": {
      "displayName": "Arijit Dhali",
      "userId": "14418585997030962243"
     },
     "user_tz": -330
    },
    "id": "T2ouZAWGKHRe"
   },
   "outputs": [],
   "source": [
    "# Calculate the percentage of missing values for each column in 'df' DataFrame\n",
    "row_size = df.shape[0]\n",
    "for i in df.columns:\n",
    "    if df[i].isnull().sum() > 0:\n",
    "        print(i, \"----------\", (df[i].isnull().sum() / row_size) * 100)"
   ]
  },
  {
   "cell_type": "markdown",
   "metadata": {
    "id": "Q8jEEIKxntuO"
   },
   "source": [
    " checking for and printing the number of duplicate rows in the '`df`' DataFrame, helping to identify and address potential data duplication issues."
   ]
  },
  {
   "cell_type": "code",
   "execution_count": 9,
   "metadata": {
    "colab": {
     "base_uri": "https://localhost:8080/"
    },
    "executionInfo": {
     "elapsed": 19,
     "status": "ok",
     "timestamp": 1706179943102,
     "user": {
      "displayName": "Arijit Dhali",
      "userId": "14418585997030962243"
     },
     "user_tz": -330
    },
    "id": "CFJ4GeMcnPwh",
    "outputId": "04a80d0c-1018-45fc-ddb1-7f866572a684"
   },
   "outputs": [
    {
     "data": {
      "text/plain": [
       "543"
      ]
     },
     "execution_count": 9,
     "metadata": {},
     "output_type": "execute_result"
    }
   ],
   "source": [
    "# Check for duplicate rows in 'car' DataFrame\n",
    "df.duplicated().sum()"
   ]
  },
  {
   "cell_type": "markdown",
   "metadata": {
    "id": "aCNeOeSHoFz4"
   },
   "source": [
    "Remove the duplicate rows from the '`df`' DataFrame"
   ]
  },
  {
   "cell_type": "code",
   "execution_count": 10,
   "metadata": {
    "colab": {
     "base_uri": "https://localhost:8080/"
    },
    "executionInfo": {
     "elapsed": 18,
     "status": "ok",
     "timestamp": 1706179943103,
     "user": {
      "displayName": "Arijit Dhali",
      "userId": "14418585997030962243"
     },
     "user_tz": -330
    },
    "id": "Yfm9Paxrno7G",
    "outputId": "01758a8f-09a4-4680-f3fa-5357977456ef"
   },
   "outputs": [
    {
     "data": {
      "text/plain": [
       "0"
      ]
     },
     "execution_count": 10,
     "metadata": {},
     "output_type": "execute_result"
    }
   ],
   "source": [
    "# Drop duplicate rows from the 'car' DataFrame\n",
    "df = df.drop_duplicates()\n",
    "df.duplicated().sum()"
   ]
  },
  {
   "cell_type": "markdown",
   "metadata": {
    "id": "IpeqPTSKIEvU"
   },
   "source": [
    "#**Viewing & Saving Clean Data**"
   ]
  },
  {
   "cell_type": "markdown",
   "metadata": {
    "id": "p-dpqsxlfHAX"
   },
   "source": [
    "Here we specify the column names to drop. Now we drop these specified columns from the DataFrame."
   ]
  },
  {
   "cell_type": "code",
   "execution_count": 11,
   "metadata": {
    "colab": {
     "base_uri": "https://localhost:8080/"
    },
    "executionInfo": {
     "elapsed": 15,
     "status": "ok",
     "timestamp": 1706179943104,
     "user": {
      "displayName": "Arijit Dhali",
      "userId": "14418585997030962243"
     },
     "user_tz": -330
    },
    "id": "ZXdIbefXFbX4",
    "outputId": "bc5dc4a4-ca77-4c1c-a191-116db3412a86"
   },
   "outputs": [
    {
     "data": {
      "text/plain": [
       "(187978, 4)"
      ]
     },
     "execution_count": 11,
     "metadata": {},
     "output_type": "execute_result"
    }
   ],
   "source": [
    "# Column names to drop\n",
    "columns_to_drop = ['logId']\n",
    "\n",
    "# Drop the specified columns\n",
    "df = df.drop(columns=columns_to_drop)\n",
    "\n",
    "df.shape"
   ]
  },
  {
   "cell_type": "markdown",
   "metadata": {
    "id": "nFpglvc8ekP5"
   },
   "source": [
    "Now we sort the DataFrame."
   ]
  },
  {
   "cell_type": "code",
   "execution_count": 12,
   "metadata": {
    "executionInfo": {
     "elapsed": 13,
     "status": "ok",
     "timestamp": 1706179943104,
     "user": {
      "displayName": "Arijit Dhali",
      "userId": "14418585997030962243"
     },
     "user_tz": -330
    },
    "id": "QynfnHgAN5Li"
   },
   "outputs": [],
   "source": [
    "# Sort the melted DataFrame by 'Id' and 'Activity'\n",
    "df = df.sort_values(by=['Id', 'ActivityDay', 'ActivityMinute'])"
   ]
  },
  {
   "cell_type": "markdown",
   "metadata": {
    "id": "NM77bZfPxmze"
   },
   "source": [
    "Viewing the final and cleaned data, saving it into `.csv` format"
   ]
  },
  {
   "cell_type": "markdown",
   "metadata": {
    "id": "K2Z0ph78yo5d"
   },
   "source": [
    "Here, the modified '`df`' DataFrame is saved to a **CSV file** named '`minute_sleep_cleaned.csv`' without including the index column."
   ]
  },
  {
   "cell_type": "code",
   "execution_count": 13,
   "metadata": {
    "executionInfo": {
     "elapsed": 1006,
     "status": "ok",
     "timestamp": 1706179944098,
     "user": {
      "displayName": "Arijit Dhali",
      "userId": "14418585997030962243"
     },
     "user_tz": -330
    },
    "id": "a3pRPBLnXLuw"
   },
   "outputs": [],
   "source": [
    "df.to_csv('minute_sleep_cleaned.csv', index=False)   # Save the modified 'df' DataFrame to a CSV file named 'minute_sleep_cleaned.csv'"
   ]
  },
  {
   "cell_type": "code",
   "execution_count": null,
   "metadata": {},
   "outputs": [],
   "source": []
  }
 ],
 "metadata": {
  "colab": {
   "authorship_tag": "ABX9TyMGdcvYQXL6xUqDX58QHzpG",
   "collapsed_sections": [
    "K3SATOGI__z2",
    "65tz03JMALF8",
    "nLQdYS4TAQB6",
    "W-1BI0C3Ix_I",
    "JvFAywvLqyyr",
    "IpeqPTSKIEvU"
   ],
   "provenance": []
  },
  "kernelspec": {
   "display_name": "Python 3 (ipykernel)",
   "language": "python",
   "name": "python3"
  },
  "language_info": {
   "codemirror_mode": {
    "name": "ipython",
    "version": 3
   },
   "file_extension": ".py",
   "mimetype": "text/x-python",
   "name": "python",
   "nbconvert_exporter": "python",
   "pygments_lexer": "ipython3",
   "version": "3.9.16"
  }
 },
 "nbformat": 4,
 "nbformat_minor": 1
}
