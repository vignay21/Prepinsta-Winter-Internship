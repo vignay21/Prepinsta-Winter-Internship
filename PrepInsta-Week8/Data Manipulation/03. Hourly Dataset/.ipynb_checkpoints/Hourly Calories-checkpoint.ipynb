{
 "cells": [
  {
   "cell_type": "markdown",
   "metadata": {
    "id": "KiLLSNdpjHEc"
   },
   "source": [
    "#**Week-8 Assignment**\n",
    "##**Hourly Calories**\n",
    "\n",
    "---\n",
    "Respondents generated this dataset to a distributed survey via Amazon Mechanical Turk between 03.12.2016 and 05.12.2016. Thirty eligible Fitbit users consented to submit personal tracker data, including minute-level output for physical activity, heart rate, and sleep monitoring. Individual reports can be parsed by export session ID (column A) or timestamp (column B). Variation between output represents the use of different Fitbit trackers and individual tracking behaviors/preferences.\n",
    "\n",
    "---\n",
    "This Notebook contains:\n",
    "### `Dataset : Hourly Calories`"
   ]
  },
  {
   "cell_type": "markdown",
   "metadata": {
    "id": "K3SATOGI__z2"
   },
   "source": [
    "# **Importing Libraries**\n"
   ]
  },
  {
   "cell_type": "markdown",
   "metadata": {
    "id": "Ykg2gY4AkVbC"
   },
   "source": [
    "So, inorder to perform anything on the data we must require to import the librarires first and set the diplay view of the dataset."
   ]
  },
  {
   "cell_type": "markdown",
   "metadata": {
    "id": "eEs5zg10hGYG"
   },
   "source": [
    "This code snippet imports necessary Python libraries, `sets display options for Pandas`, and prepares the environment for data analysis and visualization."
   ]
  },
  {
   "cell_type": "code",
   "execution_count": 1,
   "metadata": {
    "executionInfo": {
     "elapsed": 2825,
     "status": "ok",
     "timestamp": 1706178903933,
     "user": {
      "displayName": "Arijit Dhali",
      "userId": "14418585997030962243"
     },
     "user_tz": -330
    },
    "id": "TqP4bPp_HXqC"
   },
   "outputs": [],
   "source": [
    "# Importing required libraries for data analysis and visualization\n",
    "import pandas as pd                       # Pandas for data manipulation and analysis\n",
    "import numpy as np                        # NumPy for numerical operations\n",
    "import matplotlib.pyplot as plt           # Matplotlib for basic plotting\n",
    "import seaborn as sns                     # Seaborn for statistical data visualization\n",
    "import plotly.express as px               # Plotly Express for interactive visualizations\n",
    "import warnings\n",
    "warnings.filterwarnings('ignore')\n",
    "warnings.simplefilter('ignore')\n",
    "\n",
    "# Setting display options for Pandas to show three decimal places for floating-point numbers\n",
    "pd.set_option('display.float_format', lambda x: '%.2f' % x)"
   ]
  },
  {
   "cell_type": "markdown",
   "metadata": {
    "id": "65tz03JMALF8"
   },
   "source": [
    "# **Loading Dataset**"
   ]
  },
  {
   "cell_type": "markdown",
   "metadata": {
    "id": "0jb30hwtk_ZX"
   },
   "source": [
    "After importing librarires, we will import the data using `GitHub` link of raw file"
   ]
  },
  {
   "cell_type": "markdown",
   "metadata": {
    "id": "HFu3qPXYiBDs"
   },
   "source": [
    "Continuing the setup for data analysis by adjusting `Pandas display options` and then loads a dataset from a `URL` into a `Pandas` DataFrame."
   ]
  },
  {
   "cell_type": "code",
   "execution_count": 2,
   "metadata": {
    "colab": {
     "base_uri": "https://localhost:8080/",
     "height": 167
    },
    "executionInfo": {
     "elapsed": 1736,
     "status": "ok",
     "timestamp": 1706178905664,
     "user": {
      "displayName": "Arijit Dhali",
      "userId": "14418585997030962243"
     },
     "user_tz": -330
    },
    "id": "EH77-yMG5Ra4",
    "outputId": "2fb0f2da-86db-443d-d108-b32b693ae353"
   },
   "outputs": [
    {
     "data": {
      "text/html": [
       "<div>\n",
       "<style scoped>\n",
       "    .dataframe tbody tr th:only-of-type {\n",
       "        vertical-align: middle;\n",
       "    }\n",
       "\n",
       "    .dataframe tbody tr th {\n",
       "        vertical-align: top;\n",
       "    }\n",
       "\n",
       "    .dataframe thead th {\n",
       "        text-align: right;\n",
       "    }\n",
       "</style>\n",
       "<table border=\"1\" class=\"dataframe\">\n",
       "  <thead>\n",
       "    <tr style=\"text-align: right;\">\n",
       "      <th></th>\n",
       "      <th>Id</th>\n",
       "      <th>ActivityHour</th>\n",
       "      <th>Calories</th>\n",
       "    </tr>\n",
       "  </thead>\n",
       "  <tbody>\n",
       "    <tr>\n",
       "      <th>0</th>\n",
       "      <td>1503960366</td>\n",
       "      <td>4/12/2016 12:00:00 AM</td>\n",
       "      <td>81</td>\n",
       "    </tr>\n",
       "    <tr>\n",
       "      <th>1</th>\n",
       "      <td>1503960366</td>\n",
       "      <td>4/12/2016 1:00:00 AM</td>\n",
       "      <td>61</td>\n",
       "    </tr>\n",
       "  </tbody>\n",
       "</table>\n",
       "</div>"
      ],
      "text/plain": [
       "           Id           ActivityHour  Calories\n",
       "0  1503960366  4/12/2016 12:00:00 AM        81\n",
       "1  1503960366   4/12/2016 1:00:00 AM        61"
      ]
     },
     "execution_count": 2,
     "metadata": {},
     "output_type": "execute_result"
    }
   ],
   "source": [
    "# Display all columns without truncation\n",
    "pd.set_option('display.max_columns', None)\n",
    "\n",
    "# Load car-related dataset from URL into 'df' DataFrame\n",
    "url = 'https://raw.githubusercontent.com/vignay21/Prepinsta-Winter-Internship/main/PrepInsta-Week8/Raw%20CSV/hourlyCalories_merged.csv'\n",
    "df = pd.read_csv(url, encoding='unicode_escape')\n",
    "\n",
    "# Display first two rows of the loaded DataFrame\n",
    "df.head(2)"
   ]
  },
  {
   "cell_type": "markdown",
   "metadata": {
    "id": "nLQdYS4TAQB6"
   },
   "source": [
    "# **Preliminary Data Inspection**"
   ]
  },
  {
   "cell_type": "markdown",
   "metadata": {
    "id": "d5yY1kDhlM0L"
   },
   "source": [
    "To perform any operation on the dataset, we need to get familiarized with the dataset."
   ]
  },
  {
   "cell_type": "markdown",
   "metadata": {
    "id": "EjW6Q5lSjW-1"
   },
   "source": [
    "Showcasing the data types of each column in the '`df`' DataFrame."
   ]
  },
  {
   "cell_type": "code",
   "execution_count": 3,
   "metadata": {
    "colab": {
     "base_uri": "https://localhost:8080/"
    },
    "executionInfo": {
     "elapsed": 34,
     "status": "ok",
     "timestamp": 1706178905665,
     "user": {
      "displayName": "Arijit Dhali",
      "userId": "14418585997030962243"
     },
     "user_tz": -330
    },
    "id": "-WoYNCRVJLDh",
    "outputId": "d0179f0b-7606-4ece-e0c9-89a15bb51b87"
   },
   "outputs": [
    {
     "data": {
      "text/plain": [
       "Id               int64\n",
       "ActivityHour    object\n",
       "Calories         int64\n",
       "dtype: object"
      ]
     },
     "execution_count": 3,
     "metadata": {},
     "output_type": "execute_result"
    }
   ],
   "source": [
    "df.dtypes        # Display data types of columns in the 'df' DataFrame"
   ]
  },
  {
   "cell_type": "markdown",
   "metadata": {
    "id": "pKGBZgA3jflA"
   },
   "source": [
    "Detailed information about the '`df`' DataFrame, including *data types* and *memory usage*"
   ]
  },
  {
   "cell_type": "code",
   "execution_count": 4,
   "metadata": {
    "colab": {
     "base_uri": "https://localhost:8080/"
    },
    "executionInfo": {
     "elapsed": 30,
     "status": "ok",
     "timestamp": 1706178905665,
     "user": {
      "displayName": "Arijit Dhali",
      "userId": "14418585997030962243"
     },
     "user_tz": -330
    },
    "id": "15Zn77mkKirR",
    "outputId": "c924433e-4d07-4812-f318-cd0089eda8f0"
   },
   "outputs": [
    {
     "name": "stdout",
     "output_type": "stream",
     "text": [
      "<class 'pandas.core.frame.DataFrame'>\n",
      "RangeIndex: 22099 entries, 0 to 22098\n",
      "Data columns (total 3 columns):\n",
      " #   Column        Non-Null Count  Dtype \n",
      "---  ------        --------------  ----- \n",
      " 0   Id            22099 non-null  int64 \n",
      " 1   ActivityHour  22099 non-null  object\n",
      " 2   Calories      22099 non-null  int64 \n",
      "dtypes: int64(2), object(1)\n",
      "memory usage: 518.1+ KB\n"
     ]
    }
   ],
   "source": [
    "df.info(verbose=True)        # Display concise information about 'df' DataFrame"
   ]
  },
  {
   "cell_type": "markdown",
   "metadata": {
    "id": "BsUsCSXrjwwI"
   },
   "source": [
    "Showing the number of rows and columns"
   ]
  },
  {
   "cell_type": "code",
   "execution_count": 5,
   "metadata": {
    "colab": {
     "base_uri": "https://localhost:8080/"
    },
    "executionInfo": {
     "elapsed": 28,
     "status": "ok",
     "timestamp": 1706178905666,
     "user": {
      "displayName": "Arijit Dhali",
      "userId": "14418585997030962243"
     },
     "user_tz": -330
    },
    "id": "cIP7jEO9_zGU",
    "outputId": "f0e9757d-e4a0-4ca3-f91c-6520c59ecaa0"
   },
   "outputs": [
    {
     "data": {
      "text/plain": [
       "(22099, 3)"
      ]
     },
     "execution_count": 5,
     "metadata": {},
     "output_type": "execute_result"
    }
   ],
   "source": [
    "df.shape         # Display the shape (rows, columns)"
   ]
  },
  {
   "cell_type": "markdown",
   "metadata": {
    "id": "xsZIYAWEkJ5R"
   },
   "source": [
    "Using `df.describe()` to generate descriptive statistics for the numerical columns in the '`df`' DataFrame."
   ]
  },
  {
   "cell_type": "code",
   "execution_count": 6,
   "metadata": {
    "colab": {
     "base_uri": "https://localhost:8080/",
     "height": 320
    },
    "executionInfo": {
     "elapsed": 27,
     "status": "ok",
     "timestamp": 1706178905666,
     "user": {
      "displayName": "Arijit Dhali",
      "userId": "14418585997030962243"
     },
     "user_tz": -330
    },
    "id": "aYGUyw_WJ9gI",
    "outputId": "ace4cadb-a0b8-4592-be92-24012571af21"
   },
   "outputs": [
    {
     "data": {
      "text/html": [
       "<div>\n",
       "<style scoped>\n",
       "    .dataframe tbody tr th:only-of-type {\n",
       "        vertical-align: middle;\n",
       "    }\n",
       "\n",
       "    .dataframe tbody tr th {\n",
       "        vertical-align: top;\n",
       "    }\n",
       "\n",
       "    .dataframe thead th {\n",
       "        text-align: right;\n",
       "    }\n",
       "</style>\n",
       "<table border=\"1\" class=\"dataframe\">\n",
       "  <thead>\n",
       "    <tr style=\"text-align: right;\">\n",
       "      <th></th>\n",
       "      <th>Id</th>\n",
       "      <th>Calories</th>\n",
       "    </tr>\n",
       "  </thead>\n",
       "  <tbody>\n",
       "    <tr>\n",
       "      <th>count</th>\n",
       "      <td>22099.00</td>\n",
       "      <td>22099.00</td>\n",
       "    </tr>\n",
       "    <tr>\n",
       "      <th>mean</th>\n",
       "      <td>4848235270.22</td>\n",
       "      <td>97.39</td>\n",
       "    </tr>\n",
       "    <tr>\n",
       "      <th>std</th>\n",
       "      <td>2422500401.42</td>\n",
       "      <td>60.70</td>\n",
       "    </tr>\n",
       "    <tr>\n",
       "      <th>min</th>\n",
       "      <td>1503960366.00</td>\n",
       "      <td>42.00</td>\n",
       "    </tr>\n",
       "    <tr>\n",
       "      <th>25%</th>\n",
       "      <td>2320127002.00</td>\n",
       "      <td>63.00</td>\n",
       "    </tr>\n",
       "    <tr>\n",
       "      <th>50%</th>\n",
       "      <td>4445114986.00</td>\n",
       "      <td>83.00</td>\n",
       "    </tr>\n",
       "    <tr>\n",
       "      <th>75%</th>\n",
       "      <td>6962181067.00</td>\n",
       "      <td>108.00</td>\n",
       "    </tr>\n",
       "    <tr>\n",
       "      <th>max</th>\n",
       "      <td>8877689391.00</td>\n",
       "      <td>948.00</td>\n",
       "    </tr>\n",
       "  </tbody>\n",
       "</table>\n",
       "</div>"
      ],
      "text/plain": [
       "                 Id  Calories\n",
       "count      22099.00  22099.00\n",
       "mean  4848235270.22     97.39\n",
       "std   2422500401.42     60.70\n",
       "min   1503960366.00     42.00\n",
       "25%   2320127002.00     63.00\n",
       "50%   4445114986.00     83.00\n",
       "75%   6962181067.00    108.00\n",
       "max   8877689391.00    948.00"
      ]
     },
     "execution_count": 6,
     "metadata": {},
     "output_type": "execute_result"
    }
   ],
   "source": [
    "df.describe()      # Generate descriptive statistics for numerical columns"
   ]
  },
  {
   "cell_type": "markdown",
   "metadata": {
    "id": "4davU9hBA3A7"
   },
   "source": [
    "# **Data Cleaning and Trimming**"
   ]
  },
  {
   "cell_type": "markdown",
   "metadata": {
    "id": "sE_iVoSxlajJ"
   },
   "source": [
    "Modifying each and every column accordingly to get a smooth analysis in data vizualization."
   ]
  },
  {
   "cell_type": "markdown",
   "metadata": {
    "id": "W-1BI0C3Ix_I"
   },
   "source": [
    "### 1. Standardize Date Column"
   ]
  },
  {
   "cell_type": "markdown",
   "metadata": {
    "id": "bOWeiN61ev9P"
   },
   "source": [
    "Here we convert the '`Date`' column to datetime format. Now we extract the date only from '`Date`' and create a new columnrelated to the name of Dataframe. Now we drop the original '`Date`' column and move the new column to its original position. Finally, we print the DataFrame to observe the changes."
   ]
  },
  {
   "cell_type": "code",
   "execution_count": 7,
   "metadata": {
    "colab": {
     "base_uri": "https://localhost:8080/",
     "height": 226
    },
    "executionInfo": {
     "elapsed": 24,
     "status": "ok",
     "timestamp": 1706178905666,
     "user": {
      "displayName": "Arijit Dhali",
      "userId": "14418585997030962243"
     },
     "user_tz": -330
    },
    "id": "5o6jczTNGE6B",
    "outputId": "bcac437d-114c-4611-cbd6-0bda34ea0164"
   },
   "outputs": [
    {
     "data": {
      "text/html": [
       "<div>\n",
       "<style scoped>\n",
       "    .dataframe tbody tr th:only-of-type {\n",
       "        vertical-align: middle;\n",
       "    }\n",
       "\n",
       "    .dataframe tbody tr th {\n",
       "        vertical-align: top;\n",
       "    }\n",
       "\n",
       "    .dataframe thead th {\n",
       "        text-align: right;\n",
       "    }\n",
       "</style>\n",
       "<table border=\"1\" class=\"dataframe\">\n",
       "  <thead>\n",
       "    <tr style=\"text-align: right;\">\n",
       "      <th></th>\n",
       "      <th>Id</th>\n",
       "      <th>ActivityDay</th>\n",
       "      <th>ActivityHour</th>\n",
       "      <th>Calories</th>\n",
       "    </tr>\n",
       "  </thead>\n",
       "  <tbody>\n",
       "    <tr>\n",
       "      <th>0</th>\n",
       "      <td>1503960366</td>\n",
       "      <td>2016-04-12</td>\n",
       "      <td>00:00</td>\n",
       "      <td>81</td>\n",
       "    </tr>\n",
       "    <tr>\n",
       "      <th>1</th>\n",
       "      <td>1503960366</td>\n",
       "      <td>2016-04-12</td>\n",
       "      <td>01:00</td>\n",
       "      <td>61</td>\n",
       "    </tr>\n",
       "    <tr>\n",
       "      <th>2</th>\n",
       "      <td>1503960366</td>\n",
       "      <td>2016-04-12</td>\n",
       "      <td>02:00</td>\n",
       "      <td>59</td>\n",
       "    </tr>\n",
       "    <tr>\n",
       "      <th>3</th>\n",
       "      <td>1503960366</td>\n",
       "      <td>2016-04-12</td>\n",
       "      <td>03:00</td>\n",
       "      <td>47</td>\n",
       "    </tr>\n",
       "    <tr>\n",
       "      <th>4</th>\n",
       "      <td>1503960366</td>\n",
       "      <td>2016-04-12</td>\n",
       "      <td>04:00</td>\n",
       "      <td>48</td>\n",
       "    </tr>\n",
       "  </tbody>\n",
       "</table>\n",
       "</div>"
      ],
      "text/plain": [
       "           Id ActivityDay ActivityHour  Calories\n",
       "0  1503960366  2016-04-12        00:00        81\n",
       "1  1503960366  2016-04-12        01:00        61\n",
       "2  1503960366  2016-04-12        02:00        59\n",
       "3  1503960366  2016-04-12        03:00        47\n",
       "4  1503960366  2016-04-12        04:00        48"
      ]
     },
     "execution_count": 7,
     "metadata": {},
     "output_type": "execute_result"
    }
   ],
   "source": [
    "# Convert the 'Date' column to datetime format\n",
    "df['ActivityHour'] = pd.to_datetime(df['ActivityHour'], format='%m/%d/%Y %I:%M:%S %p')\n",
    "\n",
    "# Convert the 'ActivityHour' column to datetime format\n",
    "df['ActivityDay'] = df['ActivityHour'].dt.date\n",
    "df['ActivityHour'] = df['ActivityHour'].dt.strftime('%H:%M')\n",
    "date_column = df.pop('ActivityDay')\n",
    "df.insert(1, 'ActivityDay', date_column)\n",
    "\n",
    "# Print the DataFrame to see the changes\n",
    "df.head(5)"
   ]
  },
  {
   "cell_type": "markdown",
   "metadata": {
    "id": "JvFAywvLqyyr"
   },
   "source": [
    "### 2. Handling the large missing values"
   ]
  },
  {
   "cell_type": "markdown",
   "metadata": {
    "id": "AmUW0NjUl3gG"
   },
   "source": [
    "Now, we will calculate and display the percentage of missing values for each column in the '`df`' DataFrame. <br>This information helps in understanding the completeness of the dataset and identifies columns with **missing data**."
   ]
  },
  {
   "cell_type": "code",
   "execution_count": 8,
   "metadata": {
    "executionInfo": {
     "elapsed": 24,
     "status": "ok",
     "timestamp": 1706178905667,
     "user": {
      "displayName": "Arijit Dhali",
      "userId": "14418585997030962243"
     },
     "user_tz": -330
    },
    "id": "T2ouZAWGKHRe"
   },
   "outputs": [],
   "source": [
    "# Calculate the percentage of missing values for each column in 'df' DataFrame\n",
    "row_size = df.shape[0]\n",
    "for i in df.columns:\n",
    "    if df[i].isnull().sum() > 0:\n",
    "        print(i, \"----------\", (df[i].isnull().sum() / row_size) * 100)"
   ]
  },
  {
   "cell_type": "markdown",
   "metadata": {
    "id": "Q8jEEIKxntuO"
   },
   "source": [
    " checking for and printing the number of duplicate rows in the '`df`' DataFrame, helping to identify and address potential data duplication issues."
   ]
  },
  {
   "cell_type": "code",
   "execution_count": 9,
   "metadata": {
    "colab": {
     "base_uri": "https://localhost:8080/"
    },
    "executionInfo": {
     "elapsed": 23,
     "status": "ok",
     "timestamp": 1706178905667,
     "user": {
      "displayName": "Arijit Dhali",
      "userId": "14418585997030962243"
     },
     "user_tz": -330
    },
    "id": "CFJ4GeMcnPwh",
    "outputId": "8ec7b288-456d-4281-906e-215a4b90fce1"
   },
   "outputs": [
    {
     "data": {
      "text/plain": [
       "0"
      ]
     },
     "execution_count": 9,
     "metadata": {},
     "output_type": "execute_result"
    }
   ],
   "source": [
    "# Check for duplicate rows in 'car' DataFrame\n",
    "df.duplicated().sum()"
   ]
  },
  {
   "cell_type": "markdown",
   "metadata": {
    "id": "aCNeOeSHoFz4"
   },
   "source": [
    "Remove the duplicate rows from the '`df`' DataFrame"
   ]
  },
  {
   "cell_type": "code",
   "execution_count": 10,
   "metadata": {
    "colab": {
     "base_uri": "https://localhost:8080/"
    },
    "executionInfo": {
     "elapsed": 619,
     "status": "ok",
     "timestamp": 1706178906264,
     "user": {
      "displayName": "Arijit Dhali",
      "userId": "14418585997030962243"
     },
     "user_tz": -330
    },
    "id": "Yfm9Paxrno7G",
    "outputId": "a1131904-9c89-4429-982e-d3853ea48939"
   },
   "outputs": [
    {
     "data": {
      "text/plain": [
       "0"
      ]
     },
     "execution_count": 10,
     "metadata": {},
     "output_type": "execute_result"
    }
   ],
   "source": [
    "# Drop duplicate rows from the 'car' DataFrame\n",
    "df = df.drop_duplicates()\n",
    "df.duplicated().sum()"
   ]
  },
  {
   "cell_type": "markdown",
   "metadata": {
    "id": "IpeqPTSKIEvU"
   },
   "source": [
    "#**Viewing & Saving Clean Data**"
   ]
  },
  {
   "cell_type": "markdown",
   "metadata": {
    "id": "nFpglvc8ekP5"
   },
   "source": [
    "Now we sort the DataFrame."
   ]
  },
  {
   "cell_type": "code",
   "execution_count": 11,
   "metadata": {
    "executionInfo": {
     "elapsed": 620,
     "status": "ok",
     "timestamp": 1706178906266,
     "user": {
      "displayName": "Arijit Dhali",
      "userId": "14418585997030962243"
     },
     "user_tz": -330
    },
    "id": "QynfnHgAN5Li"
   },
   "outputs": [],
   "source": [
    "# Sort the melted DataFrame by 'Id' and 'Activity'\n",
    "df = df.sort_values(by=['Id', 'ActivityDay', 'ActivityHour'])"
   ]
  },
  {
   "cell_type": "markdown",
   "metadata": {
    "id": "NM77bZfPxmze"
   },
   "source": [
    "Viewing the final and cleaned data, saving it into `.csv` format"
   ]
  },
  {
   "cell_type": "markdown",
   "metadata": {
    "id": "K2Z0ph78yo5d"
   },
   "source": [
    "Here, the modified '`df`' DataFrame is saved to a **CSV file** named '`hourly_calories_cleaned.csv`' without including the index column."
   ]
  },
  {
   "cell_type": "code",
   "execution_count": 12,
   "metadata": {
    "executionInfo": {
     "elapsed": 9,
     "status": "ok",
     "timestamp": 1706178906267,
     "user": {
      "displayName": "Arijit Dhali",
      "userId": "14418585997030962243"
     },
     "user_tz": -330
    },
    "id": "a3pRPBLnXLuw"
   },
   "outputs": [],
   "source": [
    "df.to_csv('hourly_calories_cleaned.csv', index=False)   # Save the modified 'df' DataFrame to a CSV file named 'hourly_calories_cleaned.csv'"
   ]
  },
  {
   "cell_type": "code",
   "execution_count": null,
   "metadata": {},
   "outputs": [],
   "source": []
  }
 ],
 "metadata": {
  "colab": {
   "authorship_tag": "ABX9TyO7QCQ4UIUquNd7yTOp8XKB",
   "collapsed_sections": [
    "K3SATOGI__z2",
    "65tz03JMALF8",
    "nLQdYS4TAQB6",
    "W-1BI0C3Ix_I",
    "JvFAywvLqyyr",
    "IpeqPTSKIEvU"
   ],
   "provenance": []
  },
  "kernelspec": {
   "display_name": "Python 3 (ipykernel)",
   "language": "python",
   "name": "python3"
  },
  "language_info": {
   "codemirror_mode": {
    "name": "ipython",
    "version": 3
   },
   "file_extension": ".py",
   "mimetype": "text/x-python",
   "name": "python",
   "nbconvert_exporter": "python",
   "pygments_lexer": "ipython3",
   "version": "3.9.16"
  }
 },
 "nbformat": 4,
 "nbformat_minor": 1
}
