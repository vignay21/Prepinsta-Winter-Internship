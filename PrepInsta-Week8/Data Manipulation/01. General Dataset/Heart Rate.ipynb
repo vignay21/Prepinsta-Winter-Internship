{
 "cells": [
  {
   "cell_type": "markdown",
   "metadata": {
    "id": "KiLLSNdpjHEc"
   },
   "source": [
    "#**Week-8 Assignment**\n",
    "##**Heart Rate**\n",
    "#\n",
    "---\n",
    "Respondents generated this dataset to a distributed survey via Amazon Mechanical Turk between 03.12.2016 and 05.12.2016. Thirty eligible Fitbit users consented to submit personal tracker data, including minute-level output for physical activity, heart rate, and sleep monitoring. Individual reports can be parsed by export session ID (column A) or timestamp (column B). Variation between output represents the use of different Fitbit trackers and individual tracking behaviors/preferences.\n",
    "\n",
    "---\n",
    "This Notebook contains:\n",
    "### `Dataset : Heart Rate`"
   ]
  },
  {
   "cell_type": "markdown",
   "metadata": {
    "id": "K3SATOGI__z2"
   },
   "source": [
    "# **Importing Libraries**\n"
   ]
  },
  {
   "cell_type": "markdown",
   "metadata": {
    "id": "Ykg2gY4AkVbC"
   },
   "source": [
    "So, inorder to perform anything on the data we must require to import the librarires first and set the diplay view of the dataset."
   ]
  },
  {
   "cell_type": "markdown",
   "metadata": {
    "id": "eEs5zg10hGYG"
   },
   "source": [
    "This code snippet imports necessary Python libraries, `sets display options for Pandas`, and prepares the environment for data analysis and visualization."
   ]
  },
  {
   "cell_type": "code",
   "execution_count": 1,
   "metadata": {
    "executionInfo": {
     "elapsed": 1783,
     "status": "ok",
     "timestamp": 1706178283135,
     "user": {
      "displayName": "Arijit Dhali",
      "userId": "14418585997030962243"
     },
     "user_tz": -330
    },
    "id": "TqP4bPp_HXqC"
   },
   "outputs": [],
   "source": [
    "# Importing required libraries for data analysis and visualization\n",
    "import pandas as pd                       # Pandas for data manipulation and analysis\n",
    "import numpy as np                        # NumPy for numerical operations\n",
    "import matplotlib.pyplot as plt           # Matplotlib for basic plotting\n",
    "import seaborn as sns                     # Seaborn for statistical data visualization\n",
    "import plotly.express as px               # Plotly Express for interactive visualizations\n",
    "import warnings\n",
    "warnings.filterwarnings('ignore')\n",
    "warnings.simplefilter('ignore')\n",
    "\n",
    "# Setting display options for Pandas to show three decimal places for floating-point numbers\n",
    "pd.set_option('display.float_format', lambda x: '%.2f' % x)"
   ]
  },
  {
   "cell_type": "markdown",
   "metadata": {
    "id": "65tz03JMALF8"
   },
   "source": [
    "# **Loading Dataset**"
   ]
  },
  {
   "cell_type": "markdown",
   "metadata": {
    "id": "0jb30hwtk_ZX"
   },
   "source": [
    "After importing librarires, we will import the data using `GitHub` link of raw file"
   ]
  },
  {
   "cell_type": "markdown",
   "metadata": {
    "id": "HFu3qPXYiBDs"
   },
   "source": [
    "Continuing the setup for data analysis by adjusting `Pandas display options` and then loads a dataset from a `URL` into a `Pandas` DataFrame."
   ]
  },
  {
   "cell_type": "code",
   "execution_count": 2,
   "metadata": {
    "colab": {
     "base_uri": "https://localhost:8080/",
     "height": 202
    },
    "executionInfo": {
     "elapsed": 6799,
     "status": "ok",
     "timestamp": 1706178289925,
     "user": {
      "displayName": "Arijit Dhali",
      "userId": "14418585997030962243"
     },
     "user_tz": -330
    },
    "id": "EH77-yMG5Ra4",
    "outputId": "0da0f401-fad5-4865-efef-a00675cfdf13"
   },
   "outputs": [
    {
     "data": {
      "text/html": [
       "<div>\n",
       "<style scoped>\n",
       "    .dataframe tbody tr th:only-of-type {\n",
       "        vertical-align: middle;\n",
       "    }\n",
       "\n",
       "    .dataframe tbody tr th {\n",
       "        vertical-align: top;\n",
       "    }\n",
       "\n",
       "    .dataframe thead th {\n",
       "        text-align: right;\n",
       "    }\n",
       "</style>\n",
       "<table border=\"1\" class=\"dataframe\">\n",
       "  <thead>\n",
       "    <tr style=\"text-align: right;\">\n",
       "      <th></th>\n",
       "      <th>Id</th>\n",
       "      <th>Time</th>\n",
       "      <th>Value</th>\n",
       "    </tr>\n",
       "  </thead>\n",
       "  <tbody>\n",
       "    <tr>\n",
       "      <th>0</th>\n",
       "      <td>2022484408</td>\n",
       "      <td>4/12/2016 7:21:00 AM</td>\n",
       "      <td>97</td>\n",
       "    </tr>\n",
       "    <tr>\n",
       "      <th>1</th>\n",
       "      <td>2022484408</td>\n",
       "      <td>4/12/2016 7:21:05 AM</td>\n",
       "      <td>102</td>\n",
       "    </tr>\n",
       "  </tbody>\n",
       "</table>\n",
       "</div>"
      ],
      "text/plain": [
       "           Id                  Time  Value\n",
       "0  2022484408  4/12/2016 7:21:00 AM     97\n",
       "1  2022484408  4/12/2016 7:21:05 AM    102"
      ]
     },
     "execution_count": 2,
     "metadata": {},
     "output_type": "execute_result"
    }
   ],
   "source": [
    "# Display all columns without truncation\n",
    "pd.set_option('display.max_columns', None)\n",
    "\n",
    "# Load car-related dataset from URL into 'df' DataFrame\n",
    "url = 'https://raw.githubusercontent.com/vignay21/Prepinsta-Winter-Internship/main/PrepInsta-Week8/Raw%20CSV/heartrate_seconds_merged.csv'\n",
    "df = pd.read_csv(url, encoding='unicode_escape')\n",
    "\n",
    "# Display first two rows of the loaded DataFrame\n",
    "df.head(2)"
   ]
  },
  {
   "cell_type": "markdown",
   "metadata": {
    "id": "nLQdYS4TAQB6"
   },
   "source": [
    "# **Preliminary Data Inspection**"
   ]
  },
  {
   "cell_type": "markdown",
   "metadata": {
    "id": "d5yY1kDhlM0L"
   },
   "source": [
    "To perform any operation on the dataset, we need to get familiarized with the dataset."
   ]
  },
  {
   "cell_type": "markdown",
   "metadata": {
    "id": "EjW6Q5lSjW-1"
   },
   "source": [
    "Showcasing the data types of each column in the '`df`' DataFrame."
   ]
  },
  {
   "cell_type": "code",
   "execution_count": 3,
   "metadata": {
    "colab": {
     "base_uri": "https://localhost:8080/"
    },
    "executionInfo": {
     "elapsed": 29,
     "status": "ok",
     "timestamp": 1706178289927,
     "user": {
      "displayName": "Arijit Dhali",
      "userId": "14418585997030962243"
     },
     "user_tz": -330
    },
    "id": "-WoYNCRVJLDh",
    "outputId": "c123f4a4-7cd4-44a3-c079-2da5a4dd4f04"
   },
   "outputs": [
    {
     "data": {
      "text/plain": [
       "Id        int64\n",
       "Time     object\n",
       "Value     int64\n",
       "dtype: object"
      ]
     },
     "execution_count": 3,
     "metadata": {},
     "output_type": "execute_result"
    }
   ],
   "source": [
    "df.dtypes        # Display data types of columns in the 'df' DataFrame"
   ]
  },
  {
   "cell_type": "markdown",
   "metadata": {
    "id": "pKGBZgA3jflA"
   },
   "source": [
    "Detailed information about the '`df`' DataFrame, including *data types* and *memory usage*"
   ]
  },
  {
   "cell_type": "code",
   "execution_count": 4,
   "metadata": {
    "colab": {
     "base_uri": "https://localhost:8080/"
    },
    "executionInfo": {
     "elapsed": 25,
     "status": "ok",
     "timestamp": 1706178289927,
     "user": {
      "displayName": "Arijit Dhali",
      "userId": "14418585997030962243"
     },
     "user_tz": -330
    },
    "id": "15Zn77mkKirR",
    "outputId": "dde80d66-d5a2-45ba-d1f9-22c421fab053"
   },
   "outputs": [
    {
     "name": "stdout",
     "output_type": "stream",
     "text": [
      "<class 'pandas.core.frame.DataFrame'>\n",
      "RangeIndex: 2483658 entries, 0 to 2483657\n",
      "Data columns (total 3 columns):\n",
      " #   Column  Dtype \n",
      "---  ------  ----- \n",
      " 0   Id      int64 \n",
      " 1   Time    object\n",
      " 2   Value   int64 \n",
      "dtypes: int64(2), object(1)\n",
      "memory usage: 56.8+ MB\n"
     ]
    }
   ],
   "source": [
    "df.info(verbose=True)        # Display concise information about 'df' DataFrame"
   ]
  },
  {
   "cell_type": "markdown",
   "metadata": {
    "id": "BsUsCSXrjwwI"
   },
   "source": [
    "Showing the number of rows and columns"
   ]
  },
  {
   "cell_type": "code",
   "execution_count": 5,
   "metadata": {
    "colab": {
     "base_uri": "https://localhost:8080/"
    },
    "executionInfo": {
     "elapsed": 24,
     "status": "ok",
     "timestamp": 1706178289927,
     "user": {
      "displayName": "Arijit Dhali",
      "userId": "14418585997030962243"
     },
     "user_tz": -330
    },
    "id": "cIP7jEO9_zGU",
    "outputId": "0b5cd858-1c84-4c4e-b080-9a1b99eb68a6"
   },
   "outputs": [
    {
     "data": {
      "text/plain": [
       "(2483658, 3)"
      ]
     },
     "execution_count": 5,
     "metadata": {},
     "output_type": "execute_result"
    }
   ],
   "source": [
    "df.shape         # Display the shape (rows, columns)"
   ]
  },
  {
   "cell_type": "markdown",
   "metadata": {
    "id": "xsZIYAWEkJ5R"
   },
   "source": [
    "Using `df.describe()` to generate descriptive statistics for the numerical columns in the '`df`' DataFrame."
   ]
  },
  {
   "cell_type": "code",
   "execution_count": 6,
   "metadata": {
    "colab": {
     "base_uri": "https://localhost:8080/",
     "height": 320
    },
    "executionInfo": {
     "elapsed": 22,
     "status": "ok",
     "timestamp": 1706178289928,
     "user": {
      "displayName": "Arijit Dhali",
      "userId": "14418585997030962243"
     },
     "user_tz": -330
    },
    "id": "aYGUyw_WJ9gI",
    "outputId": "d79f3a7c-10f1-4bba-961d-a95f8ea0adbf"
   },
   "outputs": [
    {
     "data": {
      "text/html": [
       "<div>\n",
       "<style scoped>\n",
       "    .dataframe tbody tr th:only-of-type {\n",
       "        vertical-align: middle;\n",
       "    }\n",
       "\n",
       "    .dataframe tbody tr th {\n",
       "        vertical-align: top;\n",
       "    }\n",
       "\n",
       "    .dataframe thead th {\n",
       "        text-align: right;\n",
       "    }\n",
       "</style>\n",
       "<table border=\"1\" class=\"dataframe\">\n",
       "  <thead>\n",
       "    <tr style=\"text-align: right;\">\n",
       "      <th></th>\n",
       "      <th>Id</th>\n",
       "      <th>Value</th>\n",
       "    </tr>\n",
       "  </thead>\n",
       "  <tbody>\n",
       "    <tr>\n",
       "      <th>count</th>\n",
       "      <td>2483658.00</td>\n",
       "      <td>2483658.00</td>\n",
       "    </tr>\n",
       "    <tr>\n",
       "      <th>mean</th>\n",
       "      <td>5513764629.27</td>\n",
       "      <td>77.33</td>\n",
       "    </tr>\n",
       "    <tr>\n",
       "      <th>std</th>\n",
       "      <td>1950223760.95</td>\n",
       "      <td>19.40</td>\n",
       "    </tr>\n",
       "    <tr>\n",
       "      <th>min</th>\n",
       "      <td>2022484408.00</td>\n",
       "      <td>36.00</td>\n",
       "    </tr>\n",
       "    <tr>\n",
       "      <th>25%</th>\n",
       "      <td>4388161847.00</td>\n",
       "      <td>63.00</td>\n",
       "    </tr>\n",
       "    <tr>\n",
       "      <th>50%</th>\n",
       "      <td>5553957443.00</td>\n",
       "      <td>73.00</td>\n",
       "    </tr>\n",
       "    <tr>\n",
       "      <th>75%</th>\n",
       "      <td>6962181067.00</td>\n",
       "      <td>88.00</td>\n",
       "    </tr>\n",
       "    <tr>\n",
       "      <th>max</th>\n",
       "      <td>8877689391.00</td>\n",
       "      <td>203.00</td>\n",
       "    </tr>\n",
       "  </tbody>\n",
       "</table>\n",
       "</div>"
      ],
      "text/plain": [
       "                 Id      Value\n",
       "count    2483658.00 2483658.00\n",
       "mean  5513764629.27      77.33\n",
       "std   1950223760.95      19.40\n",
       "min   2022484408.00      36.00\n",
       "25%   4388161847.00      63.00\n",
       "50%   5553957443.00      73.00\n",
       "75%   6962181067.00      88.00\n",
       "max   8877689391.00     203.00"
      ]
     },
     "execution_count": 6,
     "metadata": {},
     "output_type": "execute_result"
    }
   ],
   "source": [
    "df.describe()      # Generate descriptive statistics for numerical columns"
   ]
  },
  {
   "cell_type": "markdown",
   "metadata": {
    "id": "4davU9hBA3A7"
   },
   "source": [
    "# **Data Cleaning and Trimming**"
   ]
  },
  {
   "cell_type": "markdown",
   "metadata": {
    "id": "sE_iVoSxlajJ"
   },
   "source": [
    "Modifying each and every column accordingly to get a smooth analysis in data vizualization."
   ]
  },
  {
   "cell_type": "markdown",
   "metadata": {
    "id": "W-1BI0C3Ix_I"
   },
   "source": [
    "### 1. Standardize Date Column"
   ]
  },
  {
   "cell_type": "markdown",
   "metadata": {
    "id": "bOWeiN61ev9P"
   },
   "source": [
    "Here we convert the '`Date`' column to datetime format. Now we extract the date only from '`Date`' and create a new columnrelated to the name of Dataframe. Now we drop the original '`Date`' column and move the new column to its original position. Finally, we print the DataFrame to observe the changes."
   ]
  },
  {
   "cell_type": "code",
   "execution_count": 7,
   "metadata": {
    "colab": {
     "base_uri": "https://localhost:8080/",
     "height": 226
    },
    "executionInfo": {
     "elapsed": 30327,
     "status": "ok",
     "timestamp": 1706178320235,
     "user": {
      "displayName": "Arijit Dhali",
      "userId": "14418585997030962243"
     },
     "user_tz": -330
    },
    "id": "5o6jczTNGE6B",
    "outputId": "21b7e59a-14b5-4ec0-e562-083cf9ae4f1c"
   },
   "outputs": [
    {
     "data": {
      "text/html": [
       "<div>\n",
       "<style scoped>\n",
       "    .dataframe tbody tr th:only-of-type {\n",
       "        vertical-align: middle;\n",
       "    }\n",
       "\n",
       "    .dataframe tbody tr th {\n",
       "        vertical-align: top;\n",
       "    }\n",
       "\n",
       "    .dataframe thead th {\n",
       "        text-align: right;\n",
       "    }\n",
       "</style>\n",
       "<table border=\"1\" class=\"dataframe\">\n",
       "  <thead>\n",
       "    <tr style=\"text-align: right;\">\n",
       "      <th></th>\n",
       "      <th>Id</th>\n",
       "      <th>Day</th>\n",
       "      <th>Time</th>\n",
       "      <th>Value</th>\n",
       "    </tr>\n",
       "  </thead>\n",
       "  <tbody>\n",
       "    <tr>\n",
       "      <th>0</th>\n",
       "      <td>2022484408</td>\n",
       "      <td>2016-04-12</td>\n",
       "      <td>07:21</td>\n",
       "      <td>97</td>\n",
       "    </tr>\n",
       "    <tr>\n",
       "      <th>1</th>\n",
       "      <td>2022484408</td>\n",
       "      <td>2016-04-12</td>\n",
       "      <td>07:21</td>\n",
       "      <td>102</td>\n",
       "    </tr>\n",
       "    <tr>\n",
       "      <th>2</th>\n",
       "      <td>2022484408</td>\n",
       "      <td>2016-04-12</td>\n",
       "      <td>07:21</td>\n",
       "      <td>105</td>\n",
       "    </tr>\n",
       "    <tr>\n",
       "      <th>3</th>\n",
       "      <td>2022484408</td>\n",
       "      <td>2016-04-12</td>\n",
       "      <td>07:21</td>\n",
       "      <td>103</td>\n",
       "    </tr>\n",
       "    <tr>\n",
       "      <th>4</th>\n",
       "      <td>2022484408</td>\n",
       "      <td>2016-04-12</td>\n",
       "      <td>07:21</td>\n",
       "      <td>101</td>\n",
       "    </tr>\n",
       "  </tbody>\n",
       "</table>\n",
       "</div>"
      ],
      "text/plain": [
       "           Id         Day   Time  Value\n",
       "0  2022484408  2016-04-12  07:21     97\n",
       "1  2022484408  2016-04-12  07:21    102\n",
       "2  2022484408  2016-04-12  07:21    105\n",
       "3  2022484408  2016-04-12  07:21    103\n",
       "4  2022484408  2016-04-12  07:21    101"
      ]
     },
     "execution_count": 7,
     "metadata": {},
     "output_type": "execute_result"
    }
   ],
   "source": [
    "# Convert the 'Date' column to datetime format\n",
    "df['Time'] = pd.to_datetime(df['Time'], format='%m/%d/%Y %I:%M:%S %p')\n",
    "\n",
    "# Convert the 'ActivityHour' column to datetime format\n",
    "df['Day'] = df['Time'].dt.date\n",
    "df['Time'] = df['Time'].dt.strftime('%H:%M')\n",
    "date_column = df.pop('Day')\n",
    "df.insert(1, 'Day', date_column)\n",
    "\n",
    "# Print the DataFrame to see the changes\n",
    "df.head(5)"
   ]
  },
  {
   "cell_type": "markdown",
   "metadata": {
    "id": "X5Si593hkk55"
   },
   "source": [
    "Here we replace the '`Value`' column with the median value within each group of '`Id`', '`Day`', and '`Time`'. Now we drop duplicate rows based on '`Id`', '`Day`', and '`Time`', keeping the first occurrence. We rename the '`Value`' column to '`Heartrate`', and then convert the '`Heartrate`' column to integer type."
   ]
  },
  {
   "cell_type": "code",
   "execution_count": 8,
   "metadata": {
    "colab": {
     "base_uri": "https://localhost:8080/",
     "height": 444
    },
    "executionInfo": {
     "elapsed": 2003,
     "status": "ok",
     "timestamp": 1706178322218,
     "user": {
      "displayName": "Arijit Dhali",
      "userId": "14418585997030962243"
     },
     "user_tz": -330
    },
    "id": "1JtHjpuHjrYg",
    "outputId": "55cb3568-423e-44be-a2e8-23935de48ffe"
   },
   "outputs": [
    {
     "data": {
      "text/html": [
       "<div>\n",
       "<style scoped>\n",
       "    .dataframe tbody tr th:only-of-type {\n",
       "        vertical-align: middle;\n",
       "    }\n",
       "\n",
       "    .dataframe tbody tr th {\n",
       "        vertical-align: top;\n",
       "    }\n",
       "\n",
       "    .dataframe thead th {\n",
       "        text-align: right;\n",
       "    }\n",
       "</style>\n",
       "<table border=\"1\" class=\"dataframe\">\n",
       "  <thead>\n",
       "    <tr style=\"text-align: right;\">\n",
       "      <th></th>\n",
       "      <th>Id</th>\n",
       "      <th>Day</th>\n",
       "      <th>Time</th>\n",
       "      <th>Heartrate</th>\n",
       "      <th>DailyMeanHeartrate</th>\n",
       "    </tr>\n",
       "  </thead>\n",
       "  <tbody>\n",
       "    <tr>\n",
       "      <th>0</th>\n",
       "      <td>2022484408</td>\n",
       "      <td>2016-04-12</td>\n",
       "      <td>07:21</td>\n",
       "      <td>102</td>\n",
       "      <td>74.05</td>\n",
       "    </tr>\n",
       "    <tr>\n",
       "      <th>5</th>\n",
       "      <td>2022484408</td>\n",
       "      <td>2016-04-12</td>\n",
       "      <td>07:22</td>\n",
       "      <td>92</td>\n",
       "      <td>74.05</td>\n",
       "    </tr>\n",
       "    <tr>\n",
       "      <th>14</th>\n",
       "      <td>2022484408</td>\n",
       "      <td>2016-04-12</td>\n",
       "      <td>07:23</td>\n",
       "      <td>58</td>\n",
       "      <td>74.05</td>\n",
       "    </tr>\n",
       "    <tr>\n",
       "      <th>20</th>\n",
       "      <td>2022484408</td>\n",
       "      <td>2016-04-12</td>\n",
       "      <td>07:24</td>\n",
       "      <td>58</td>\n",
       "      <td>74.05</td>\n",
       "    </tr>\n",
       "    <tr>\n",
       "      <th>26</th>\n",
       "      <td>2022484408</td>\n",
       "      <td>2016-04-12</td>\n",
       "      <td>07:25</td>\n",
       "      <td>57</td>\n",
       "      <td>74.05</td>\n",
       "    </tr>\n",
       "    <tr>\n",
       "      <th>...</th>\n",
       "      <td>...</td>\n",
       "      <td>...</td>\n",
       "      <td>...</td>\n",
       "      <td>...</td>\n",
       "      <td>...</td>\n",
       "    </tr>\n",
       "    <tr>\n",
       "      <th>2483626</th>\n",
       "      <td>8877689391</td>\n",
       "      <td>2016-05-12</td>\n",
       "      <td>14:40</td>\n",
       "      <td>56</td>\n",
       "      <td>69.92</td>\n",
       "    </tr>\n",
       "    <tr>\n",
       "      <th>2483635</th>\n",
       "      <td>8877689391</td>\n",
       "      <td>2016-05-12</td>\n",
       "      <td>14:41</td>\n",
       "      <td>57</td>\n",
       "      <td>69.92</td>\n",
       "    </tr>\n",
       "    <tr>\n",
       "      <th>2483642</th>\n",
       "      <td>8877689391</td>\n",
       "      <td>2016-05-12</td>\n",
       "      <td>14:42</td>\n",
       "      <td>56</td>\n",
       "      <td>69.92</td>\n",
       "    </tr>\n",
       "    <tr>\n",
       "      <th>2483649</th>\n",
       "      <td>8877689391</td>\n",
       "      <td>2016-05-12</td>\n",
       "      <td>14:43</td>\n",
       "      <td>57</td>\n",
       "      <td>69.92</td>\n",
       "    </tr>\n",
       "    <tr>\n",
       "      <th>2483655</th>\n",
       "      <td>8877689391</td>\n",
       "      <td>2016-05-12</td>\n",
       "      <td>14:44</td>\n",
       "      <td>55</td>\n",
       "      <td>69.92</td>\n",
       "    </tr>\n",
       "  </tbody>\n",
       "</table>\n",
       "<p>333420 rows × 5 columns</p>\n",
       "</div>"
      ],
      "text/plain": [
       "                 Id         Day   Time  Heartrate  DailyMeanHeartrate\n",
       "0        2022484408  2016-04-12  07:21        102               74.05\n",
       "5        2022484408  2016-04-12  07:22         92               74.05\n",
       "14       2022484408  2016-04-12  07:23         58               74.05\n",
       "20       2022484408  2016-04-12  07:24         58               74.05\n",
       "26       2022484408  2016-04-12  07:25         57               74.05\n",
       "...             ...         ...    ...        ...                 ...\n",
       "2483626  8877689391  2016-05-12  14:40         56               69.92\n",
       "2483635  8877689391  2016-05-12  14:41         57               69.92\n",
       "2483642  8877689391  2016-05-12  14:42         56               69.92\n",
       "2483649  8877689391  2016-05-12  14:43         57               69.92\n",
       "2483655  8877689391  2016-05-12  14:44         55               69.92\n",
       "\n",
       "[333420 rows x 5 columns]"
      ]
     },
     "execution_count": 8,
     "metadata": {},
     "output_type": "execute_result"
    }
   ],
   "source": [
    "df['Value'] = df.groupby(['Id', 'Day', 'Time'])['Value'].transform('median')\n",
    "df = df.drop_duplicates(subset=['Id', 'Day', 'Time'], keep='first')\n",
    "\n",
    "# Use the 'rename' method to rename a column\n",
    "df.rename(columns={'Value': 'Heartrate'}, inplace=True)\n",
    "df['Heartrate'] = df['Heartrate'].astype(int)\n",
    "\n",
    "# Create a new column 'DailyMeanHeartrate' to store the mean heart rate per day per ID\n",
    "df['DailyMeanHeartrate'] = df.groupby(['Id', 'Day'])['Heartrate'].transform('mean')\n",
    "df"
   ]
  },
  {
   "cell_type": "markdown",
   "metadata": {
    "id": "JvFAywvLqyyr"
   },
   "source": [
    "### 2. Handling the large missing values"
   ]
  },
  {
   "cell_type": "markdown",
   "metadata": {
    "id": "AmUW0NjUl3gG"
   },
   "source": [
    "Now, we will calculate and display the percentage of missing values for each column in the '`df`' DataFrame. <br>This information helps in understanding the completeness of the dataset and identifies columns with **missing data**."
   ]
  },
  {
   "cell_type": "code",
   "execution_count": 9,
   "metadata": {
    "executionInfo": {
     "elapsed": 20,
     "status": "ok",
     "timestamp": 1706178322218,
     "user": {
      "displayName": "Arijit Dhali",
      "userId": "14418585997030962243"
     },
     "user_tz": -330
    },
    "id": "T2ouZAWGKHRe"
   },
   "outputs": [],
   "source": [
    "# Calculate the percentage of missing values for each column in 'df' DataFrame\n",
    "row_size = df.shape[0]\n",
    "for i in df.columns:\n",
    "    if df[i].isnull().sum() > 0:\n",
    "        print(i, \"----------\", (df[i].isnull().sum() / row_size) * 100)"
   ]
  },
  {
   "cell_type": "markdown",
   "metadata": {
    "id": "Q8jEEIKxntuO"
   },
   "source": [
    " checking for and printing the number of duplicate rows in the '`df`' DataFrame, helping to identify and address potential data duplication issues."
   ]
  },
  {
   "cell_type": "code",
   "execution_count": 10,
   "metadata": {
    "colab": {
     "base_uri": "https://localhost:8080/"
    },
    "executionInfo": {
     "elapsed": 20,
     "status": "ok",
     "timestamp": 1706178322219,
     "user": {
      "displayName": "Arijit Dhali",
      "userId": "14418585997030962243"
     },
     "user_tz": -330
    },
    "id": "CFJ4GeMcnPwh",
    "outputId": "20e521eb-758e-4f59-ee83-0950c109aaa9"
   },
   "outputs": [
    {
     "data": {
      "text/plain": [
       "0"
      ]
     },
     "execution_count": 10,
     "metadata": {},
     "output_type": "execute_result"
    }
   ],
   "source": [
    "# Check for duplicate rows in 'car' DataFrame\n",
    "df.duplicated().sum()"
   ]
  },
  {
   "cell_type": "markdown",
   "metadata": {
    "id": "aCNeOeSHoFz4"
   },
   "source": [
    "Remove the duplicate rows from the '`df`' DataFrame"
   ]
  },
  {
   "cell_type": "code",
   "execution_count": 11,
   "metadata": {
    "colab": {
     "base_uri": "https://localhost:8080/"
    },
    "executionInfo": {
     "elapsed": 791,
     "status": "ok",
     "timestamp": 1706178322995,
     "user": {
      "displayName": "Arijit Dhali",
      "userId": "14418585997030962243"
     },
     "user_tz": -330
    },
    "id": "Yfm9Paxrno7G",
    "outputId": "3d008d0b-29e3-4fe8-c89f-abc3d379620d"
   },
   "outputs": [
    {
     "data": {
      "text/plain": [
       "0"
      ]
     },
     "execution_count": 11,
     "metadata": {},
     "output_type": "execute_result"
    }
   ],
   "source": [
    "# Drop duplicate rows from the 'car' DataFrame\n",
    "df = df.drop_duplicates()\n",
    "df.duplicated().sum()"
   ]
  },
  {
   "cell_type": "markdown",
   "metadata": {
    "id": "IpeqPTSKIEvU"
   },
   "source": [
    "#**Viewing & Saving Clean Data**"
   ]
  },
  {
   "cell_type": "markdown",
   "metadata": {
    "id": "nFpglvc8ekP5"
   },
   "source": [
    "Now we sort the DataFrame."
   ]
  },
  {
   "cell_type": "code",
   "execution_count": 12,
   "metadata": {
    "executionInfo": {
     "elapsed": 10,
     "status": "ok",
     "timestamp": 1706178322996,
     "user": {
      "displayName": "Arijit Dhali",
      "userId": "14418585997030962243"
     },
     "user_tz": -330
    },
    "id": "QynfnHgAN5Li"
   },
   "outputs": [],
   "source": [
    "# Sort the melted DataFrame by 'Id' and 'Activity'\n",
    "df = df.sort_values(by=['Id', 'Day', 'Time'])"
   ]
  },
  {
   "cell_type": "markdown",
   "metadata": {
    "id": "NM77bZfPxmze"
   },
   "source": [
    "Viewing the final and cleaned data, saving it into `.csv` format"
   ]
  },
  {
   "cell_type": "markdown",
   "metadata": {
    "id": "K2Z0ph78yo5d"
   },
   "source": [
    "Here, the modified '`df`' DataFrame is saved to a **CSV file** named '`heart_rate_cleaned.csv`' without including the index column."
   ]
  },
  {
   "cell_type": "code",
   "execution_count": 13,
   "metadata": {
    "executionInfo": {
     "elapsed": 1479,
     "status": "ok",
     "timestamp": 1706178324466,
     "user": {
      "displayName": "Arijit Dhali",
      "userId": "14418585997030962243"
     },
     "user_tz": -330
    },
    "id": "a3pRPBLnXLuw"
   },
   "outputs": [],
   "source": [
    "df.to_csv('heart_rate_cleaned.csv', index=False)   # Save the modified 'df' DataFrame to a CSV file named 'heart_rate_cleaned.csv'"
   ]
  },
  {
   "cell_type": "code",
   "execution_count": null,
   "metadata": {},
   "outputs": [],
   "source": []
  }
 ],
 "metadata": {
  "colab": {
   "authorship_tag": "ABX9TyOZ/xKRRxia3d925JXzloC3",
   "collapsed_sections": [
    "K3SATOGI__z2",
    "65tz03JMALF8",
    "nLQdYS4TAQB6",
    "W-1BI0C3Ix_I",
    "JvFAywvLqyyr",
    "IpeqPTSKIEvU"
   ],
   "provenance": []
  },
  "kernelspec": {
   "display_name": "Python 3 (ipykernel)",
   "language": "python",
   "name": "python3"
  },
  "language_info": {
   "codemirror_mode": {
    "name": "ipython",
    "version": 3
   },
   "file_extension": ".py",
   "mimetype": "text/x-python",
   "name": "python",
   "nbconvert_exporter": "python",
   "pygments_lexer": "ipython3",
   "version": "3.9.16"
  }
 },
 "nbformat": 4,
 "nbformat_minor": 1
}
