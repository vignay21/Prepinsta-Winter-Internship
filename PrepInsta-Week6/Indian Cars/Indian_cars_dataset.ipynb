{
 "cells": [
  {
   "cell_type": "code",
   "execution_count": 1,
   "metadata": {
    "id": "G0OhFxLlmd2g"
   },
   "outputs": [],
   "source": [
    "import numpy as np\n",
    "import pandas as pd\n",
    "import scipy.stats as stats"
   ]
  },
  {
   "cell_type": "code",
   "execution_count": 2,
   "metadata": {
    "colab": {
     "base_uri": "https://localhost:8080/",
     "height": 591
    },
    "executionInfo": {
     "elapsed": 1096,
     "status": "ok",
     "timestamp": 1704895625875,
     "user": {
      "displayName": "Rushikesh Konapure",
      "userId": "14876714731917346122"
     },
     "user_tz": -330
    },
    "id": "FP5jgQbumm9e",
    "outputId": "2d81de14-9823-478f-dfad-282516154bdc"
   },
   "outputs": [
    {
     "data": {
      "text/html": [
       "<div>\n",
       "<style scoped>\n",
       "    .dataframe tbody tr th:only-of-type {\n",
       "        vertical-align: middle;\n",
       "    }\n",
       "\n",
       "    .dataframe tbody tr th {\n",
       "        vertical-align: top;\n",
       "    }\n",
       "\n",
       "    .dataframe thead th {\n",
       "        text-align: right;\n",
       "    }\n",
       "</style>\n",
       "<table border=\"1\" class=\"dataframe\">\n",
       "  <thead>\n",
       "    <tr style=\"text-align: right;\">\n",
       "      <th></th>\n",
       "      <th>Make</th>\n",
       "      <th>Model</th>\n",
       "      <th>Variant</th>\n",
       "      <th>Ex-Showroom_Price</th>\n",
       "      <th>Displacement</th>\n",
       "      <th>Cylinders</th>\n",
       "      <th>Valves_Per_Cylinder</th>\n",
       "      <th>Drivetrain</th>\n",
       "      <th>Cylinder_Configuration</th>\n",
       "      <th>Emission_Norm</th>\n",
       "      <th>...</th>\n",
       "      <th>Leather_Wrapped_Steering</th>\n",
       "      <th>Automatic_Headlamps</th>\n",
       "      <th>Engine_Type</th>\n",
       "      <th>ASR_/_Traction_Control</th>\n",
       "      <th>Cruise_Control</th>\n",
       "      <th>USB_Ports</th>\n",
       "      <th>Heads-Up_Display</th>\n",
       "      <th>Welcome_Lights</th>\n",
       "      <th>Battery</th>\n",
       "      <th>Electric_Range</th>\n",
       "    </tr>\n",
       "  </thead>\n",
       "  <tbody>\n",
       "    <tr>\n",
       "      <th>0</th>\n",
       "      <td>Tata</td>\n",
       "      <td>Nano Genx</td>\n",
       "      <td>Xt</td>\n",
       "      <td>Rs. 2,92,667</td>\n",
       "      <td>624 cc</td>\n",
       "      <td>2.0</td>\n",
       "      <td>2.0</td>\n",
       "      <td>RWD (Rear Wheel Drive)</td>\n",
       "      <td>In-line</td>\n",
       "      <td>BS IV</td>\n",
       "      <td>...</td>\n",
       "      <td>NaN</td>\n",
       "      <td>NaN</td>\n",
       "      <td>NaN</td>\n",
       "      <td>NaN</td>\n",
       "      <td>NaN</td>\n",
       "      <td>NaN</td>\n",
       "      <td>NaN</td>\n",
       "      <td>NaN</td>\n",
       "      <td>NaN</td>\n",
       "      <td>NaN</td>\n",
       "    </tr>\n",
       "    <tr>\n",
       "      <th>1</th>\n",
       "      <td>Tata</td>\n",
       "      <td>Nano Genx</td>\n",
       "      <td>Xe</td>\n",
       "      <td>Rs. 2,36,447</td>\n",
       "      <td>624 cc</td>\n",
       "      <td>2.0</td>\n",
       "      <td>2.0</td>\n",
       "      <td>RWD (Rear Wheel Drive)</td>\n",
       "      <td>In-line</td>\n",
       "      <td>BS IV</td>\n",
       "      <td>...</td>\n",
       "      <td>NaN</td>\n",
       "      <td>NaN</td>\n",
       "      <td>NaN</td>\n",
       "      <td>NaN</td>\n",
       "      <td>NaN</td>\n",
       "      <td>NaN</td>\n",
       "      <td>NaN</td>\n",
       "      <td>NaN</td>\n",
       "      <td>NaN</td>\n",
       "      <td>NaN</td>\n",
       "    </tr>\n",
       "    <tr>\n",
       "      <th>2</th>\n",
       "      <td>Tata</td>\n",
       "      <td>Nano Genx</td>\n",
       "      <td>Emax Xm</td>\n",
       "      <td>Rs. 2,96,661</td>\n",
       "      <td>624 cc</td>\n",
       "      <td>2.0</td>\n",
       "      <td>2.0</td>\n",
       "      <td>RWD (Rear Wheel Drive)</td>\n",
       "      <td>In-line</td>\n",
       "      <td>BS IV</td>\n",
       "      <td>...</td>\n",
       "      <td>NaN</td>\n",
       "      <td>NaN</td>\n",
       "      <td>NaN</td>\n",
       "      <td>NaN</td>\n",
       "      <td>NaN</td>\n",
       "      <td>NaN</td>\n",
       "      <td>NaN</td>\n",
       "      <td>NaN</td>\n",
       "      <td>NaN</td>\n",
       "      <td>NaN</td>\n",
       "    </tr>\n",
       "    <tr>\n",
       "      <th>3</th>\n",
       "      <td>Tata</td>\n",
       "      <td>Nano Genx</td>\n",
       "      <td>Xta</td>\n",
       "      <td>Rs. 3,34,768</td>\n",
       "      <td>624 cc</td>\n",
       "      <td>2.0</td>\n",
       "      <td>2.0</td>\n",
       "      <td>RWD (Rear Wheel Drive)</td>\n",
       "      <td>In-line</td>\n",
       "      <td>BS IV</td>\n",
       "      <td>...</td>\n",
       "      <td>NaN</td>\n",
       "      <td>NaN</td>\n",
       "      <td>NaN</td>\n",
       "      <td>NaN</td>\n",
       "      <td>NaN</td>\n",
       "      <td>NaN</td>\n",
       "      <td>NaN</td>\n",
       "      <td>NaN</td>\n",
       "      <td>NaN</td>\n",
       "      <td>NaN</td>\n",
       "    </tr>\n",
       "    <tr>\n",
       "      <th>4</th>\n",
       "      <td>Tata</td>\n",
       "      <td>Nano Genx</td>\n",
       "      <td>Xm</td>\n",
       "      <td>Rs. 2,72,223</td>\n",
       "      <td>624 cc</td>\n",
       "      <td>2.0</td>\n",
       "      <td>2.0</td>\n",
       "      <td>RWD (Rear Wheel Drive)</td>\n",
       "      <td>In-line</td>\n",
       "      <td>BS IV</td>\n",
       "      <td>...</td>\n",
       "      <td>NaN</td>\n",
       "      <td>NaN</td>\n",
       "      <td>NaN</td>\n",
       "      <td>NaN</td>\n",
       "      <td>NaN</td>\n",
       "      <td>NaN</td>\n",
       "      <td>NaN</td>\n",
       "      <td>NaN</td>\n",
       "      <td>NaN</td>\n",
       "      <td>NaN</td>\n",
       "    </tr>\n",
       "    <tr>\n",
       "      <th>5</th>\n",
       "      <td>Tata</td>\n",
       "      <td>Nano Genx</td>\n",
       "      <td>Xma</td>\n",
       "      <td>Rs. 3,14,815</td>\n",
       "      <td>624 cc</td>\n",
       "      <td>2.0</td>\n",
       "      <td>2.0</td>\n",
       "      <td>RWD (Rear Wheel Drive)</td>\n",
       "      <td>In-line</td>\n",
       "      <td>BS IV</td>\n",
       "      <td>...</td>\n",
       "      <td>NaN</td>\n",
       "      <td>NaN</td>\n",
       "      <td>NaN</td>\n",
       "      <td>NaN</td>\n",
       "      <td>NaN</td>\n",
       "      <td>NaN</td>\n",
       "      <td>NaN</td>\n",
       "      <td>NaN</td>\n",
       "      <td>NaN</td>\n",
       "      <td>NaN</td>\n",
       "    </tr>\n",
       "    <tr>\n",
       "      <th>6</th>\n",
       "      <td>Datsun</td>\n",
       "      <td>Redi-Go</td>\n",
       "      <td>D</td>\n",
       "      <td>Rs. 2,79,650</td>\n",
       "      <td>799 cc</td>\n",
       "      <td>3.0</td>\n",
       "      <td>4.0</td>\n",
       "      <td>FWD (Front Wheel Drive)</td>\n",
       "      <td>In-line</td>\n",
       "      <td>BS IV</td>\n",
       "      <td>...</td>\n",
       "      <td>NaN</td>\n",
       "      <td>NaN</td>\n",
       "      <td>NaN</td>\n",
       "      <td>NaN</td>\n",
       "      <td>NaN</td>\n",
       "      <td>NaN</td>\n",
       "      <td>NaN</td>\n",
       "      <td>NaN</td>\n",
       "      <td>NaN</td>\n",
       "      <td>NaN</td>\n",
       "    </tr>\n",
       "    <tr>\n",
       "      <th>7</th>\n",
       "      <td>Datsun</td>\n",
       "      <td>Redi-Go</td>\n",
       "      <td>T</td>\n",
       "      <td>Rs. 3,51,832</td>\n",
       "      <td>799 cc</td>\n",
       "      <td>3.0</td>\n",
       "      <td>4.0</td>\n",
       "      <td>FWD (Front Wheel Drive)</td>\n",
       "      <td>In-line</td>\n",
       "      <td>BS IV</td>\n",
       "      <td>...</td>\n",
       "      <td>NaN</td>\n",
       "      <td>NaN</td>\n",
       "      <td>NaN</td>\n",
       "      <td>NaN</td>\n",
       "      <td>NaN</td>\n",
       "      <td>NaN</td>\n",
       "      <td>NaN</td>\n",
       "      <td>NaN</td>\n",
       "      <td>NaN</td>\n",
       "      <td>NaN</td>\n",
       "    </tr>\n",
       "    <tr>\n",
       "      <th>8</th>\n",
       "      <td>Datsun</td>\n",
       "      <td>Redi-Go</td>\n",
       "      <td>A</td>\n",
       "      <td>Rs. 3,33,419</td>\n",
       "      <td>799 cc</td>\n",
       "      <td>3.0</td>\n",
       "      <td>4.0</td>\n",
       "      <td>FWD (Front Wheel Drive)</td>\n",
       "      <td>In-line</td>\n",
       "      <td>BS IV</td>\n",
       "      <td>...</td>\n",
       "      <td>NaN</td>\n",
       "      <td>NaN</td>\n",
       "      <td>NaN</td>\n",
       "      <td>NaN</td>\n",
       "      <td>NaN</td>\n",
       "      <td>NaN</td>\n",
       "      <td>NaN</td>\n",
       "      <td>NaN</td>\n",
       "      <td>NaN</td>\n",
       "      <td>NaN</td>\n",
       "    </tr>\n",
       "    <tr>\n",
       "      <th>9</th>\n",
       "      <td>Datsun</td>\n",
       "      <td>Redi-Go</td>\n",
       "      <td>S</td>\n",
       "      <td>Rs. 3,62,000</td>\n",
       "      <td>799 cc</td>\n",
       "      <td>3.0</td>\n",
       "      <td>4.0</td>\n",
       "      <td>FWD (Front Wheel Drive)</td>\n",
       "      <td>In-line</td>\n",
       "      <td>BS IV</td>\n",
       "      <td>...</td>\n",
       "      <td>NaN</td>\n",
       "      <td>NaN</td>\n",
       "      <td>NaN</td>\n",
       "      <td>NaN</td>\n",
       "      <td>NaN</td>\n",
       "      <td>NaN</td>\n",
       "      <td>NaN</td>\n",
       "      <td>NaN</td>\n",
       "      <td>NaN</td>\n",
       "      <td>NaN</td>\n",
       "    </tr>\n",
       "  </tbody>\n",
       "</table>\n",
       "<p>10 rows × 140 columns</p>\n",
       "</div>"
      ],
      "text/plain": [
       "     Make      Model  Variant Ex-Showroom_Price Displacement  Cylinders  \\\n",
       "0    Tata  Nano Genx       Xt      Rs. 2,92,667       624 cc        2.0   \n",
       "1    Tata  Nano Genx       Xe      Rs. 2,36,447       624 cc        2.0   \n",
       "2    Tata  Nano Genx  Emax Xm      Rs. 2,96,661       624 cc        2.0   \n",
       "3    Tata  Nano Genx      Xta      Rs. 3,34,768       624 cc        2.0   \n",
       "4    Tata  Nano Genx       Xm      Rs. 2,72,223       624 cc        2.0   \n",
       "5    Tata  Nano Genx      Xma      Rs. 3,14,815       624 cc        2.0   \n",
       "6  Datsun    Redi-Go        D      Rs. 2,79,650       799 cc        3.0   \n",
       "7  Datsun    Redi-Go        T      Rs. 3,51,832       799 cc        3.0   \n",
       "8  Datsun    Redi-Go        A      Rs. 3,33,419       799 cc        3.0   \n",
       "9  Datsun    Redi-Go        S      Rs. 3,62,000       799 cc        3.0   \n",
       "\n",
       "   Valves_Per_Cylinder               Drivetrain Cylinder_Configuration  \\\n",
       "0                  2.0   RWD (Rear Wheel Drive)                In-line   \n",
       "1                  2.0   RWD (Rear Wheel Drive)                In-line   \n",
       "2                  2.0   RWD (Rear Wheel Drive)                In-line   \n",
       "3                  2.0   RWD (Rear Wheel Drive)                In-line   \n",
       "4                  2.0   RWD (Rear Wheel Drive)                In-line   \n",
       "5                  2.0   RWD (Rear Wheel Drive)                In-line   \n",
       "6                  4.0  FWD (Front Wheel Drive)                In-line   \n",
       "7                  4.0  FWD (Front Wheel Drive)                In-line   \n",
       "8                  4.0  FWD (Front Wheel Drive)                In-line   \n",
       "9                  4.0  FWD (Front Wheel Drive)                In-line   \n",
       "\n",
       "  Emission_Norm  ... Leather_Wrapped_Steering Automatic_Headlamps Engine_Type  \\\n",
       "0         BS IV  ...                      NaN                 NaN         NaN   \n",
       "1         BS IV  ...                      NaN                 NaN         NaN   \n",
       "2         BS IV  ...                      NaN                 NaN         NaN   \n",
       "3         BS IV  ...                      NaN                 NaN         NaN   \n",
       "4         BS IV  ...                      NaN                 NaN         NaN   \n",
       "5         BS IV  ...                      NaN                 NaN         NaN   \n",
       "6         BS IV  ...                      NaN                 NaN         NaN   \n",
       "7         BS IV  ...                      NaN                 NaN         NaN   \n",
       "8         BS IV  ...                      NaN                 NaN         NaN   \n",
       "9         BS IV  ...                      NaN                 NaN         NaN   \n",
       "\n",
       "  ASR_/_Traction_Control Cruise_Control USB_Ports Heads-Up_Display  \\\n",
       "0                    NaN            NaN       NaN              NaN   \n",
       "1                    NaN            NaN       NaN              NaN   \n",
       "2                    NaN            NaN       NaN              NaN   \n",
       "3                    NaN            NaN       NaN              NaN   \n",
       "4                    NaN            NaN       NaN              NaN   \n",
       "5                    NaN            NaN       NaN              NaN   \n",
       "6                    NaN            NaN       NaN              NaN   \n",
       "7                    NaN            NaN       NaN              NaN   \n",
       "8                    NaN            NaN       NaN              NaN   \n",
       "9                    NaN            NaN       NaN              NaN   \n",
       "\n",
       "  Welcome_Lights  Battery Electric_Range  \n",
       "0            NaN      NaN            NaN  \n",
       "1            NaN      NaN            NaN  \n",
       "2            NaN      NaN            NaN  \n",
       "3            NaN      NaN            NaN  \n",
       "4            NaN      NaN            NaN  \n",
       "5            NaN      NaN            NaN  \n",
       "6            NaN      NaN            NaN  \n",
       "7            NaN      NaN            NaN  \n",
       "8            NaN      NaN            NaN  \n",
       "9            NaN      NaN            NaN  \n",
       "\n",
       "[10 rows x 140 columns]"
      ]
     },
     "execution_count": 2,
     "metadata": {},
     "output_type": "execute_result"
    }
   ],
   "source": [
    "df = pd.read_csv('https://raw.githubusercontent.com/vignay21/Prepinsta-Winter-Internship/main/PrepInsta-Week6/Indian%20Cars/cars_ds_final.csv',index_col=0)\n",
    "df.head(10)"
   ]
  },
  {
   "cell_type": "code",
   "execution_count": 3,
   "metadata": {
    "colab": {
     "base_uri": "https://localhost:8080/",
     "height": 352
    },
    "executionInfo": {
     "elapsed": 1066,
     "status": "ok",
     "timestamp": 1704895645542,
     "user": {
      "displayName": "Rushikesh Konapure",
      "userId": "14876714731917346122"
     },
     "user_tz": -330
    },
    "id": "FceL7eCMsumt",
    "outputId": "8f473340-81ba-4d38-d695-e2d2cda16ea8"
   },
   "outputs": [
    {
     "data": {
      "text/html": [
       "<div>\n",
       "<style scoped>\n",
       "    .dataframe tbody tr th:only-of-type {\n",
       "        vertical-align: middle;\n",
       "    }\n",
       "\n",
       "    .dataframe tbody tr th {\n",
       "        vertical-align: top;\n",
       "    }\n",
       "\n",
       "    .dataframe thead th {\n",
       "        text-align: right;\n",
       "    }\n",
       "</style>\n",
       "<table border=\"1\" class=\"dataframe\">\n",
       "  <thead>\n",
       "    <tr style=\"text-align: right;\">\n",
       "      <th></th>\n",
       "      <th>Make</th>\n",
       "      <th>Model</th>\n",
       "      <th>Variant</th>\n",
       "      <th>Ex-Showroom_Price</th>\n",
       "      <th>Displacement</th>\n",
       "      <th>Cylinders</th>\n",
       "      <th>Valves_Per_Cylinder</th>\n",
       "      <th>Drivetrain</th>\n",
       "      <th>Cylinder_Configuration</th>\n",
       "      <th>Emission_Norm</th>\n",
       "      <th>...</th>\n",
       "      <th>Leather_Wrapped_Steering</th>\n",
       "      <th>Automatic_Headlamps</th>\n",
       "      <th>Engine_Type</th>\n",
       "      <th>ASR_/_Traction_Control</th>\n",
       "      <th>Cruise_Control</th>\n",
       "      <th>USB_Ports</th>\n",
       "      <th>Heads-Up_Display</th>\n",
       "      <th>Welcome_Lights</th>\n",
       "      <th>Battery</th>\n",
       "      <th>Electric_Range</th>\n",
       "    </tr>\n",
       "  </thead>\n",
       "  <tbody>\n",
       "    <tr>\n",
       "      <th>1271</th>\n",
       "      <td>Honda</td>\n",
       "      <td>City</td>\n",
       "      <td>Vx Mt Diesel</td>\n",
       "      <td>Rs. 13,02,000</td>\n",
       "      <td>1498 cc</td>\n",
       "      <td>4.0</td>\n",
       "      <td>4.0</td>\n",
       "      <td>FWD (Front Wheel Drive)</td>\n",
       "      <td>In-line</td>\n",
       "      <td>BS IV</td>\n",
       "      <td>...</td>\n",
       "      <td>Yes</td>\n",
       "      <td>NaN</td>\n",
       "      <td>NaN</td>\n",
       "      <td>NaN</td>\n",
       "      <td>Yes</td>\n",
       "      <td>NaN</td>\n",
       "      <td>NaN</td>\n",
       "      <td>NaN</td>\n",
       "      <td>NaN</td>\n",
       "      <td>NaN</td>\n",
       "    </tr>\n",
       "    <tr>\n",
       "      <th>1272</th>\n",
       "      <td>Honda</td>\n",
       "      <td>City</td>\n",
       "      <td>Zx Mt Diesel</td>\n",
       "      <td>Rs. 14,21,000</td>\n",
       "      <td>1498 cc</td>\n",
       "      <td>4.0</td>\n",
       "      <td>4.0</td>\n",
       "      <td>FWD (Front Wheel Drive)</td>\n",
       "      <td>In-line</td>\n",
       "      <td>BS IV</td>\n",
       "      <td>...</td>\n",
       "      <td>Yes</td>\n",
       "      <td>Yes</td>\n",
       "      <td>NaN</td>\n",
       "      <td>NaN</td>\n",
       "      <td>Yes</td>\n",
       "      <td>NaN</td>\n",
       "      <td>NaN</td>\n",
       "      <td>NaN</td>\n",
       "      <td>NaN</td>\n",
       "      <td>NaN</td>\n",
       "    </tr>\n",
       "    <tr>\n",
       "      <th>1273</th>\n",
       "      <td>Honda</td>\n",
       "      <td>City</td>\n",
       "      <td>Zx Cvt Petrol</td>\n",
       "      <td>Rs. 14,31,000</td>\n",
       "      <td>1497 cc</td>\n",
       "      <td>4.0</td>\n",
       "      <td>4.0</td>\n",
       "      <td>FWD (Front Wheel Drive)</td>\n",
       "      <td>In-line</td>\n",
       "      <td>BS 6</td>\n",
       "      <td>...</td>\n",
       "      <td>Yes</td>\n",
       "      <td>Yes</td>\n",
       "      <td>NaN</td>\n",
       "      <td>NaN</td>\n",
       "      <td>Yes</td>\n",
       "      <td>NaN</td>\n",
       "      <td>NaN</td>\n",
       "      <td>NaN</td>\n",
       "      <td>NaN</td>\n",
       "      <td>NaN</td>\n",
       "    </tr>\n",
       "    <tr>\n",
       "      <th>1274</th>\n",
       "      <td>Honda</td>\n",
       "      <td>City</td>\n",
       "      <td>V Cvt Petrol</td>\n",
       "      <td>Rs. 12,01,000</td>\n",
       "      <td>1497 cc</td>\n",
       "      <td>4.0</td>\n",
       "      <td>4.0</td>\n",
       "      <td>FWD (Front Wheel Drive)</td>\n",
       "      <td>In-line</td>\n",
       "      <td>BS 6</td>\n",
       "      <td>...</td>\n",
       "      <td>NaN</td>\n",
       "      <td>NaN</td>\n",
       "      <td>NaN</td>\n",
       "      <td>NaN</td>\n",
       "      <td>Yes</td>\n",
       "      <td>NaN</td>\n",
       "      <td>NaN</td>\n",
       "      <td>NaN</td>\n",
       "      <td>NaN</td>\n",
       "      <td>NaN</td>\n",
       "    </tr>\n",
       "    <tr>\n",
       "      <th>1275</th>\n",
       "      <td>Mitsubishi</td>\n",
       "      <td>Montero</td>\n",
       "      <td>3.2 At</td>\n",
       "      <td>Rs. 68,62,560</td>\n",
       "      <td>3200 cc</td>\n",
       "      <td>4.0</td>\n",
       "      <td>4.0</td>\n",
       "      <td>AWD (All Wheel Drive)</td>\n",
       "      <td>In-line</td>\n",
       "      <td>BS IV</td>\n",
       "      <td>...</td>\n",
       "      <td>Yes</td>\n",
       "      <td>NaN</td>\n",
       "      <td>NaN</td>\n",
       "      <td>Yes</td>\n",
       "      <td>Yes</td>\n",
       "      <td>NaN</td>\n",
       "      <td>NaN</td>\n",
       "      <td>NaN</td>\n",
       "      <td>NaN</td>\n",
       "      <td>NaN</td>\n",
       "    </tr>\n",
       "  </tbody>\n",
       "</table>\n",
       "<p>5 rows × 140 columns</p>\n",
       "</div>"
      ],
      "text/plain": [
       "            Make    Model        Variant Ex-Showroom_Price Displacement  \\\n",
       "1271       Honda     City   Vx Mt Diesel     Rs. 13,02,000      1498 cc   \n",
       "1272       Honda     City   Zx Mt Diesel     Rs. 14,21,000      1498 cc   \n",
       "1273       Honda     City  Zx Cvt Petrol     Rs. 14,31,000      1497 cc   \n",
       "1274       Honda     City   V Cvt Petrol     Rs. 12,01,000      1497 cc   \n",
       "1275  Mitsubishi  Montero         3.2 At     Rs. 68,62,560      3200 cc   \n",
       "\n",
       "      Cylinders  Valves_Per_Cylinder               Drivetrain  \\\n",
       "1271        4.0                  4.0  FWD (Front Wheel Drive)   \n",
       "1272        4.0                  4.0  FWD (Front Wheel Drive)   \n",
       "1273        4.0                  4.0  FWD (Front Wheel Drive)   \n",
       "1274        4.0                  4.0  FWD (Front Wheel Drive)   \n",
       "1275        4.0                  4.0    AWD (All Wheel Drive)   \n",
       "\n",
       "     Cylinder_Configuration Emission_Norm  ... Leather_Wrapped_Steering  \\\n",
       "1271                In-line         BS IV  ...                      Yes   \n",
       "1272                In-line         BS IV  ...                      Yes   \n",
       "1273                In-line          BS 6  ...                      Yes   \n",
       "1274                In-line          BS 6  ...                      NaN   \n",
       "1275                In-line         BS IV  ...                      Yes   \n",
       "\n",
       "     Automatic_Headlamps Engine_Type ASR_/_Traction_Control Cruise_Control  \\\n",
       "1271                 NaN         NaN                    NaN            Yes   \n",
       "1272                 Yes         NaN                    NaN            Yes   \n",
       "1273                 Yes         NaN                    NaN            Yes   \n",
       "1274                 NaN         NaN                    NaN            Yes   \n",
       "1275                 NaN         NaN                    Yes            Yes   \n",
       "\n",
       "     USB_Ports Heads-Up_Display Welcome_Lights  Battery Electric_Range  \n",
       "1271       NaN              NaN            NaN      NaN            NaN  \n",
       "1272       NaN              NaN            NaN      NaN            NaN  \n",
       "1273       NaN              NaN            NaN      NaN            NaN  \n",
       "1274       NaN              NaN            NaN      NaN            NaN  \n",
       "1275       NaN              NaN            NaN      NaN            NaN  \n",
       "\n",
       "[5 rows x 140 columns]"
      ]
     },
     "execution_count": 3,
     "metadata": {},
     "output_type": "execute_result"
    }
   ],
   "source": [
    "df.tail()"
   ]
  },
  {
   "cell_type": "code",
   "execution_count": 4,
   "metadata": {
    "executionInfo": {
     "elapsed": 412,
     "status": "ok",
     "timestamp": 1704898306965,
     "user": {
      "displayName": "Rushikesh Konapure",
      "userId": "14876714731917346122"
     },
     "user_tz": -330
    },
    "id": "CLH92K8j2gu9"
   },
   "outputs": [],
   "source": [
    "df['car name'] = df['Make'] + '-' + df['Model']"
   ]
  },
  {
   "cell_type": "code",
   "execution_count": 5,
   "metadata": {
    "colab": {
     "base_uri": "https://localhost:8080/"
    },
    "executionInfo": {
     "elapsed": 15,
     "status": "ok",
     "timestamp": 1704898309731,
     "user": {
      "displayName": "Rushikesh Konapure",
      "userId": "14876714731917346122"
     },
     "user_tz": -330
    },
    "id": "dPQuG2IK2xar",
    "outputId": "4e57a646-8efd-4263-836e-ba6f8bd371db"
   },
   "outputs": [
    {
     "data": {
      "text/plain": [
       "0           Tata-Nano Genx\n",
       "1           Tata-Nano Genx\n",
       "2           Tata-Nano Genx\n",
       "3           Tata-Nano Genx\n",
       "4           Tata-Nano Genx\n",
       "               ...        \n",
       "1271            Honda-City\n",
       "1272            Honda-City\n",
       "1273            Honda-City\n",
       "1274            Honda-City\n",
       "1275    Mitsubishi-Montero\n",
       "Name: car name, Length: 1276, dtype: object"
      ]
     },
     "execution_count": 5,
     "metadata": {},
     "output_type": "execute_result"
    }
   ],
   "source": [
    "df['car name']"
   ]
  },
  {
   "cell_type": "code",
   "execution_count": 6,
   "metadata": {
    "colab": {
     "base_uri": "https://localhost:8080/",
     "height": 436
    },
    "executionInfo": {
     "elapsed": 169,
     "status": "ok",
     "timestamp": 1704898351693,
     "user": {
      "displayName": "Rushikesh Konapure",
      "userId": "14876714731917346122"
     },
     "user_tz": -330
    },
    "id": "2RhKw91P2_jC",
    "outputId": "f79f8dbc-bb5a-4f90-d8c7-77b7907eab24"
   },
   "outputs": [
    {
     "data": {
      "text/html": [
       "<div>\n",
       "<style scoped>\n",
       "    .dataframe tbody tr th:only-of-type {\n",
       "        vertical-align: middle;\n",
       "    }\n",
       "\n",
       "    .dataframe tbody tr th {\n",
       "        vertical-align: top;\n",
       "    }\n",
       "\n",
       "    .dataframe thead th {\n",
       "        text-align: right;\n",
       "    }\n",
       "</style>\n",
       "<table border=\"1\" class=\"dataframe\">\n",
       "  <thead>\n",
       "    <tr style=\"text-align: right;\">\n",
       "      <th></th>\n",
       "      <th>Make</th>\n",
       "      <th>Model</th>\n",
       "      <th>Variant</th>\n",
       "      <th>Ex-Showroom_Price</th>\n",
       "      <th>Displacement</th>\n",
       "      <th>Cylinders</th>\n",
       "      <th>Valves_Per_Cylinder</th>\n",
       "      <th>Drivetrain</th>\n",
       "      <th>Cylinder_Configuration</th>\n",
       "      <th>Emission_Norm</th>\n",
       "      <th>...</th>\n",
       "      <th>Automatic_Headlamps</th>\n",
       "      <th>Engine_Type</th>\n",
       "      <th>ASR_/_Traction_Control</th>\n",
       "      <th>Cruise_Control</th>\n",
       "      <th>USB_Ports</th>\n",
       "      <th>Heads-Up_Display</th>\n",
       "      <th>Welcome_Lights</th>\n",
       "      <th>Battery</th>\n",
       "      <th>Electric_Range</th>\n",
       "      <th>car name</th>\n",
       "    </tr>\n",
       "  </thead>\n",
       "  <tbody>\n",
       "    <tr>\n",
       "      <th>0</th>\n",
       "      <td>Tata</td>\n",
       "      <td>Nano Genx</td>\n",
       "      <td>Xt</td>\n",
       "      <td>Rs. 2,92,667</td>\n",
       "      <td>624 cc</td>\n",
       "      <td>2.0</td>\n",
       "      <td>2.0</td>\n",
       "      <td>RWD (Rear Wheel Drive)</td>\n",
       "      <td>In-line</td>\n",
       "      <td>BS IV</td>\n",
       "      <td>...</td>\n",
       "      <td>NaN</td>\n",
       "      <td>NaN</td>\n",
       "      <td>NaN</td>\n",
       "      <td>NaN</td>\n",
       "      <td>NaN</td>\n",
       "      <td>NaN</td>\n",
       "      <td>NaN</td>\n",
       "      <td>NaN</td>\n",
       "      <td>NaN</td>\n",
       "      <td>Tata-Nano Genx</td>\n",
       "    </tr>\n",
       "    <tr>\n",
       "      <th>1</th>\n",
       "      <td>Tata</td>\n",
       "      <td>Nano Genx</td>\n",
       "      <td>Xe</td>\n",
       "      <td>Rs. 2,36,447</td>\n",
       "      <td>624 cc</td>\n",
       "      <td>2.0</td>\n",
       "      <td>2.0</td>\n",
       "      <td>RWD (Rear Wheel Drive)</td>\n",
       "      <td>In-line</td>\n",
       "      <td>BS IV</td>\n",
       "      <td>...</td>\n",
       "      <td>NaN</td>\n",
       "      <td>NaN</td>\n",
       "      <td>NaN</td>\n",
       "      <td>NaN</td>\n",
       "      <td>NaN</td>\n",
       "      <td>NaN</td>\n",
       "      <td>NaN</td>\n",
       "      <td>NaN</td>\n",
       "      <td>NaN</td>\n",
       "      <td>Tata-Nano Genx</td>\n",
       "    </tr>\n",
       "    <tr>\n",
       "      <th>2</th>\n",
       "      <td>Tata</td>\n",
       "      <td>Nano Genx</td>\n",
       "      <td>Emax Xm</td>\n",
       "      <td>Rs. 2,96,661</td>\n",
       "      <td>624 cc</td>\n",
       "      <td>2.0</td>\n",
       "      <td>2.0</td>\n",
       "      <td>RWD (Rear Wheel Drive)</td>\n",
       "      <td>In-line</td>\n",
       "      <td>BS IV</td>\n",
       "      <td>...</td>\n",
       "      <td>NaN</td>\n",
       "      <td>NaN</td>\n",
       "      <td>NaN</td>\n",
       "      <td>NaN</td>\n",
       "      <td>NaN</td>\n",
       "      <td>NaN</td>\n",
       "      <td>NaN</td>\n",
       "      <td>NaN</td>\n",
       "      <td>NaN</td>\n",
       "      <td>Tata-Nano Genx</td>\n",
       "    </tr>\n",
       "    <tr>\n",
       "      <th>3</th>\n",
       "      <td>Tata</td>\n",
       "      <td>Nano Genx</td>\n",
       "      <td>Xta</td>\n",
       "      <td>Rs. 3,34,768</td>\n",
       "      <td>624 cc</td>\n",
       "      <td>2.0</td>\n",
       "      <td>2.0</td>\n",
       "      <td>RWD (Rear Wheel Drive)</td>\n",
       "      <td>In-line</td>\n",
       "      <td>BS IV</td>\n",
       "      <td>...</td>\n",
       "      <td>NaN</td>\n",
       "      <td>NaN</td>\n",
       "      <td>NaN</td>\n",
       "      <td>NaN</td>\n",
       "      <td>NaN</td>\n",
       "      <td>NaN</td>\n",
       "      <td>NaN</td>\n",
       "      <td>NaN</td>\n",
       "      <td>NaN</td>\n",
       "      <td>Tata-Nano Genx</td>\n",
       "    </tr>\n",
       "    <tr>\n",
       "      <th>4</th>\n",
       "      <td>Tata</td>\n",
       "      <td>Nano Genx</td>\n",
       "      <td>Xm</td>\n",
       "      <td>Rs. 2,72,223</td>\n",
       "      <td>624 cc</td>\n",
       "      <td>2.0</td>\n",
       "      <td>2.0</td>\n",
       "      <td>RWD (Rear Wheel Drive)</td>\n",
       "      <td>In-line</td>\n",
       "      <td>BS IV</td>\n",
       "      <td>...</td>\n",
       "      <td>NaN</td>\n",
       "      <td>NaN</td>\n",
       "      <td>NaN</td>\n",
       "      <td>NaN</td>\n",
       "      <td>NaN</td>\n",
       "      <td>NaN</td>\n",
       "      <td>NaN</td>\n",
       "      <td>NaN</td>\n",
       "      <td>NaN</td>\n",
       "      <td>Tata-Nano Genx</td>\n",
       "    </tr>\n",
       "  </tbody>\n",
       "</table>\n",
       "<p>5 rows × 141 columns</p>\n",
       "</div>"
      ],
      "text/plain": [
       "   Make      Model  Variant Ex-Showroom_Price Displacement  Cylinders  \\\n",
       "0  Tata  Nano Genx       Xt      Rs. 2,92,667       624 cc        2.0   \n",
       "1  Tata  Nano Genx       Xe      Rs. 2,36,447       624 cc        2.0   \n",
       "2  Tata  Nano Genx  Emax Xm      Rs. 2,96,661       624 cc        2.0   \n",
       "3  Tata  Nano Genx      Xta      Rs. 3,34,768       624 cc        2.0   \n",
       "4  Tata  Nano Genx       Xm      Rs. 2,72,223       624 cc        2.0   \n",
       "\n",
       "   Valves_Per_Cylinder              Drivetrain Cylinder_Configuration  \\\n",
       "0                  2.0  RWD (Rear Wheel Drive)                In-line   \n",
       "1                  2.0  RWD (Rear Wheel Drive)                In-line   \n",
       "2                  2.0  RWD (Rear Wheel Drive)                In-line   \n",
       "3                  2.0  RWD (Rear Wheel Drive)                In-line   \n",
       "4                  2.0  RWD (Rear Wheel Drive)                In-line   \n",
       "\n",
       "  Emission_Norm  ... Automatic_Headlamps Engine_Type ASR_/_Traction_Control  \\\n",
       "0         BS IV  ...                 NaN         NaN                    NaN   \n",
       "1         BS IV  ...                 NaN         NaN                    NaN   \n",
       "2         BS IV  ...                 NaN         NaN                    NaN   \n",
       "3         BS IV  ...                 NaN         NaN                    NaN   \n",
       "4         BS IV  ...                 NaN         NaN                    NaN   \n",
       "\n",
       "  Cruise_Control USB_Ports Heads-Up_Display Welcome_Lights Battery  \\\n",
       "0            NaN       NaN              NaN            NaN     NaN   \n",
       "1            NaN       NaN              NaN            NaN     NaN   \n",
       "2            NaN       NaN              NaN            NaN     NaN   \n",
       "3            NaN       NaN              NaN            NaN     NaN   \n",
       "4            NaN       NaN              NaN            NaN     NaN   \n",
       "\n",
       "   Electric_Range        car name  \n",
       "0             NaN  Tata-Nano Genx  \n",
       "1             NaN  Tata-Nano Genx  \n",
       "2             NaN  Tata-Nano Genx  \n",
       "3             NaN  Tata-Nano Genx  \n",
       "4             NaN  Tata-Nano Genx  \n",
       "\n",
       "[5 rows x 141 columns]"
      ]
     },
     "execution_count": 6,
     "metadata": {},
     "output_type": "execute_result"
    }
   ],
   "source": [
    "df.head()"
   ]
  },
  {
   "cell_type": "code",
   "execution_count": 7,
   "metadata": {
    "colab": {
     "base_uri": "https://localhost:8080/"
    },
    "executionInfo": {
     "elapsed": 69,
     "status": "ok",
     "timestamp": 1704898146132,
     "user": {
      "displayName": "Rushikesh Konapure",
      "userId": "14876714731917346122"
     },
     "user_tz": -330
    },
    "id": "j-TsdRMd2P0-",
    "outputId": "c29da8a4-7e7d-43f6-f89f-65f67decd5ba"
   },
   "outputs": [
    {
     "data": {
      "text/plain": [
       "Model\n",
       "Nexon                              24\n",
       "Kuv100 Nxt                         22\n",
       "Compass                            21\n",
       "Xuv500                             21\n",
       "Amaze                              20\n",
       "                                   ..\n",
       "Lc 500H                             1\n",
       "Lx 450D                             1\n",
       "Mercedes-Benz S-Class Cabriolet     1\n",
       "R8                                  1\n",
       "Montero                             1\n",
       "Name: count, Length: 263, dtype: int64"
      ]
     },
     "execution_count": 7,
     "metadata": {},
     "output_type": "execute_result"
    }
   ],
   "source": [
    "df['Model'].value_counts()"
   ]
  },
  {
   "cell_type": "code",
   "execution_count": 8,
   "metadata": {
    "colab": {
     "base_uri": "https://localhost:8080/",
     "height": 352
    },
    "executionInfo": {
     "elapsed": 543,
     "status": "ok",
     "timestamp": 1704895710049,
     "user": {
      "displayName": "Rushikesh Konapure",
      "userId": "14876714731917346122"
     },
     "user_tz": -330
    },
    "id": "tJH-Sat8sw0o",
    "outputId": "4ccce392-dc51-477f-e8b3-1c85e6fe7f7e"
   },
   "outputs": [
    {
     "data": {
      "text/html": [
       "<div>\n",
       "<style scoped>\n",
       "    .dataframe tbody tr th:only-of-type {\n",
       "        vertical-align: middle;\n",
       "    }\n",
       "\n",
       "    .dataframe tbody tr th {\n",
       "        vertical-align: top;\n",
       "    }\n",
       "\n",
       "    .dataframe thead th {\n",
       "        text-align: right;\n",
       "    }\n",
       "</style>\n",
       "<table border=\"1\" class=\"dataframe\">\n",
       "  <thead>\n",
       "    <tr style=\"text-align: right;\">\n",
       "      <th></th>\n",
       "      <th>Make</th>\n",
       "      <th>Model</th>\n",
       "      <th>Variant</th>\n",
       "      <th>Ex-Showroom_Price</th>\n",
       "      <th>Displacement</th>\n",
       "      <th>Cylinders</th>\n",
       "      <th>Valves_Per_Cylinder</th>\n",
       "      <th>Drivetrain</th>\n",
       "      <th>Cylinder_Configuration</th>\n",
       "      <th>Emission_Norm</th>\n",
       "      <th>...</th>\n",
       "      <th>Automatic_Headlamps</th>\n",
       "      <th>Engine_Type</th>\n",
       "      <th>ASR_/_Traction_Control</th>\n",
       "      <th>Cruise_Control</th>\n",
       "      <th>USB_Ports</th>\n",
       "      <th>Heads-Up_Display</th>\n",
       "      <th>Welcome_Lights</th>\n",
       "      <th>Battery</th>\n",
       "      <th>Electric_Range</th>\n",
       "      <th>car name</th>\n",
       "    </tr>\n",
       "  </thead>\n",
       "  <tbody>\n",
       "    <tr>\n",
       "      <th>532</th>\n",
       "      <td>Mahindra</td>\n",
       "      <td>Bolero Power Plus</td>\n",
       "      <td>Zlx</td>\n",
       "      <td>Rs. 8,86,398</td>\n",
       "      <td>1493 cc</td>\n",
       "      <td>4.0</td>\n",
       "      <td>2.0</td>\n",
       "      <td>FWD (Front Wheel Drive)</td>\n",
       "      <td>In-line</td>\n",
       "      <td>BS IV</td>\n",
       "      <td>...</td>\n",
       "      <td>NaN</td>\n",
       "      <td>NaN</td>\n",
       "      <td>NaN</td>\n",
       "      <td>NaN</td>\n",
       "      <td>NaN</td>\n",
       "      <td>NaN</td>\n",
       "      <td>NaN</td>\n",
       "      <td>NaN</td>\n",
       "      <td>NaN</td>\n",
       "      <td>Mahindra-Bolero Power Plus</td>\n",
       "    </tr>\n",
       "    <tr>\n",
       "      <th>801</th>\n",
       "      <td>Volvo</td>\n",
       "      <td>Xc60</td>\n",
       "      <td>Inscription D5</td>\n",
       "      <td>Rs. 59,90,000</td>\n",
       "      <td>1969 cc</td>\n",
       "      <td>5.0</td>\n",
       "      <td>4.0</td>\n",
       "      <td>AWD (All Wheel Drive)</td>\n",
       "      <td>In-line</td>\n",
       "      <td>BS IV</td>\n",
       "      <td>...</td>\n",
       "      <td>Yes</td>\n",
       "      <td>NaN</td>\n",
       "      <td>Yes</td>\n",
       "      <td>Yes</td>\n",
       "      <td>NaN</td>\n",
       "      <td>NaN</td>\n",
       "      <td>NaN</td>\n",
       "      <td>NaN</td>\n",
       "      <td>NaN</td>\n",
       "      <td>Volvo-Xc60</td>\n",
       "    </tr>\n",
       "    <tr>\n",
       "      <th>896</th>\n",
       "      <td>Ford</td>\n",
       "      <td>Figo</td>\n",
       "      <td>Titanium 1.2 Ti-Vct</td>\n",
       "      <td>Rs. 5,99,900</td>\n",
       "      <td>1196 cc</td>\n",
       "      <td>4.0</td>\n",
       "      <td>4.0</td>\n",
       "      <td>FWD (Front Wheel Drive)</td>\n",
       "      <td>In-line</td>\n",
       "      <td>BS IV</td>\n",
       "      <td>...</td>\n",
       "      <td>NaN</td>\n",
       "      <td>NaN</td>\n",
       "      <td>NaN</td>\n",
       "      <td>NaN</td>\n",
       "      <td>NaN</td>\n",
       "      <td>NaN</td>\n",
       "      <td>NaN</td>\n",
       "      <td>NaN</td>\n",
       "      <td>NaN</td>\n",
       "      <td>Ford-Figo</td>\n",
       "    </tr>\n",
       "    <tr>\n",
       "      <th>1255</th>\n",
       "      <td>Mahindra</td>\n",
       "      <td>Verito</td>\n",
       "      <td>1.5 D2</td>\n",
       "      <td>Rs. 7,48,370</td>\n",
       "      <td>1461 cc</td>\n",
       "      <td>4.0</td>\n",
       "      <td>3.0</td>\n",
       "      <td>FWD (Front Wheel Drive)</td>\n",
       "      <td>In-line</td>\n",
       "      <td>BS IV</td>\n",
       "      <td>...</td>\n",
       "      <td>NaN</td>\n",
       "      <td>NaN</td>\n",
       "      <td>NaN</td>\n",
       "      <td>NaN</td>\n",
       "      <td>NaN</td>\n",
       "      <td>NaN</td>\n",
       "      <td>NaN</td>\n",
       "      <td>NaN</td>\n",
       "      <td>NaN</td>\n",
       "      <td>Mahindra-Verito</td>\n",
       "    </tr>\n",
       "    <tr>\n",
       "      <th>749</th>\n",
       "      <td>Kia</td>\n",
       "      <td>Carnival</td>\n",
       "      <td>Prestige 7 Str</td>\n",
       "      <td>Rs. 28,95,000</td>\n",
       "      <td>2199 cc</td>\n",
       "      <td>4.0</td>\n",
       "      <td>4.0</td>\n",
       "      <td>FWD (Front Wheel Drive)</td>\n",
       "      <td>In-line</td>\n",
       "      <td>BS 6</td>\n",
       "      <td>...</td>\n",
       "      <td>Yes</td>\n",
       "      <td>CRDi</td>\n",
       "      <td>Yes</td>\n",
       "      <td>Yes</td>\n",
       "      <td>NaN</td>\n",
       "      <td>NaN</td>\n",
       "      <td>Yes</td>\n",
       "      <td>NaN</td>\n",
       "      <td>NaN</td>\n",
       "      <td>Kia-Carnival</td>\n",
       "    </tr>\n",
       "  </tbody>\n",
       "</table>\n",
       "<p>5 rows × 141 columns</p>\n",
       "</div>"
      ],
      "text/plain": [
       "          Make              Model              Variant Ex-Showroom_Price  \\\n",
       "532   Mahindra  Bolero Power Plus                  Zlx      Rs. 8,86,398   \n",
       "801      Volvo               Xc60       Inscription D5     Rs. 59,90,000   \n",
       "896       Ford               Figo  Titanium 1.2 Ti-Vct      Rs. 5,99,900   \n",
       "1255  Mahindra             Verito               1.5 D2      Rs. 7,48,370   \n",
       "749        Kia           Carnival       Prestige 7 Str     Rs. 28,95,000   \n",
       "\n",
       "     Displacement  Cylinders  Valves_Per_Cylinder               Drivetrain  \\\n",
       "532       1493 cc        4.0                  2.0  FWD (Front Wheel Drive)   \n",
       "801       1969 cc        5.0                  4.0    AWD (All Wheel Drive)   \n",
       "896       1196 cc        4.0                  4.0  FWD (Front Wheel Drive)   \n",
       "1255      1461 cc        4.0                  3.0  FWD (Front Wheel Drive)   \n",
       "749       2199 cc        4.0                  4.0  FWD (Front Wheel Drive)   \n",
       "\n",
       "     Cylinder_Configuration Emission_Norm  ... Automatic_Headlamps  \\\n",
       "532                 In-line         BS IV  ...                 NaN   \n",
       "801                 In-line         BS IV  ...                 Yes   \n",
       "896                 In-line         BS IV  ...                 NaN   \n",
       "1255                In-line         BS IV  ...                 NaN   \n",
       "749                 In-line          BS 6  ...                 Yes   \n",
       "\n",
       "     Engine_Type ASR_/_Traction_Control Cruise_Control USB_Ports  \\\n",
       "532          NaN                    NaN            NaN       NaN   \n",
       "801          NaN                    Yes            Yes       NaN   \n",
       "896          NaN                    NaN            NaN       NaN   \n",
       "1255         NaN                    NaN            NaN       NaN   \n",
       "749         CRDi                    Yes            Yes       NaN   \n",
       "\n",
       "     Heads-Up_Display Welcome_Lights Battery  Electric_Range  \\\n",
       "532               NaN            NaN     NaN             NaN   \n",
       "801               NaN            NaN     NaN             NaN   \n",
       "896               NaN            NaN     NaN             NaN   \n",
       "1255              NaN            NaN     NaN             NaN   \n",
       "749               NaN            Yes     NaN             NaN   \n",
       "\n",
       "                        car name  \n",
       "532   Mahindra-Bolero Power Plus  \n",
       "801                   Volvo-Xc60  \n",
       "896                    Ford-Figo  \n",
       "1255             Mahindra-Verito  \n",
       "749                 Kia-Carnival  \n",
       "\n",
       "[5 rows x 141 columns]"
      ]
     },
     "execution_count": 8,
     "metadata": {},
     "output_type": "execute_result"
    }
   ],
   "source": [
    "df.sample(5)"
   ]
  },
  {
   "cell_type": "code",
   "execution_count": 9,
   "metadata": {
    "id": "o9Q60ZhDu9dN"
   },
   "outputs": [],
   "source": [
    "df['Ex-Showroom_Price'] = df['Ex-Showroom_Price'].str.replace(',','')"
   ]
  },
  {
   "cell_type": "code",
   "execution_count": 10,
   "metadata": {
    "colab": {
     "base_uri": "https://localhost:8080/"
    },
    "executionInfo": {
     "elapsed": 410,
     "status": "ok",
     "timestamp": 1704896381038,
     "user": {
      "displayName": "Rushikesh Konapure",
      "userId": "14876714731917346122"
     },
     "user_tz": -330
    },
    "id": "mJkRKj7UvWmz",
    "outputId": "17086afa-0392-4d9d-cdeb-7650fa3e241f"
   },
   "outputs": [],
   "source": [
    "df['Ex-Showroom_Price'] = df['Ex-Showroom_Price'].str.replace('Rs. ','')"
   ]
  },
  {
   "cell_type": "code",
   "execution_count": 11,
   "metadata": {
    "colab": {
     "base_uri": "https://localhost:8080/"
    },
    "executionInfo": {
     "elapsed": 407,
     "status": "ok",
     "timestamp": 1704896597650,
     "user": {
      "displayName": "Rushikesh Konapure",
      "userId": "14876714731917346122"
     },
     "user_tz": -330
    },
    "id": "IUP8GfPWvko9",
    "outputId": "d59a1bff-52bf-40ef-cf40-f17ac59096aa"
   },
   "outputs": [
    {
     "data": {
      "text/plain": [
       "dtype('O')"
      ]
     },
     "execution_count": 11,
     "metadata": {},
     "output_type": "execute_result"
    }
   ],
   "source": [
    "df['Ex-Showroom_Price'].dtype"
   ]
  },
  {
   "cell_type": "code",
   "execution_count": 12,
   "metadata": {
    "id": "pIHprwg6vxPr"
   },
   "outputs": [],
   "source": [
    "df['Ex-Showroom_Price'] = df['Ex-Showroom_Price'].astype(int)"
   ]
  },
  {
   "cell_type": "code",
   "execution_count": 13,
   "metadata": {
    "id": "ZHFLz7CIvxwy"
   },
   "outputs": [],
   "source": [
    "import seaborn as sns"
   ]
  },
  {
   "cell_type": "code",
   "execution_count": 14,
   "metadata": {
    "colab": {
     "base_uri": "https://localhost:8080/",
     "height": 543
    },
    "executionInfo": {
     "elapsed": 4398,
     "status": "ok",
     "timestamp": 1704897603129,
     "user": {
      "displayName": "Rushikesh Konapure",
      "userId": "14876714731917346122"
     },
     "user_tz": -330
    },
    "id": "wiz027pHwtXc",
    "outputId": "c6590d9b-d0f5-4105-d68e-f537187fa1c2"
   },
   "outputs": [
    {
     "name": "stderr",
     "output_type": "stream",
     "text": [
      "C:\\Users\\komak\\anaconda3\\lib\\site-packages\\seaborn\\_oldcore.py:1498: FutureWarning: is_categorical_dtype is deprecated and will be removed in a future version. Use isinstance(dtype, CategoricalDtype) instead\n",
      "  if pd.api.types.is_categorical_dtype(vector):\n",
      "C:\\Users\\komak\\anaconda3\\lib\\site-packages\\seaborn\\_oldcore.py:1119: FutureWarning: use_inf_as_na option is deprecated and will be removed in a future version. Convert inf values to NaN before operating instead.\n",
      "  with pd.option_context('mode.use_inf_as_na', True):\n",
      "C:\\Users\\komak\\anaconda3\\lib\\site-packages\\seaborn\\axisgrid.py:118: UserWarning: The figure layout has changed to tight\n",
      "  self._figure.tight_layout(*args, **kwargs)\n"
     ]
    },
    {
     "data": {
      "text/plain": [
       "<seaborn.axisgrid.FacetGrid at 0x254c34fe1f0>"
      ]
     },
     "execution_count": 14,
     "metadata": {},
     "output_type": "execute_result"
    },
    {
     "data": {
      "image/png": "[encoded data removed]",
      "text/plain": [
       "<Figure size 500x500 with 1 Axes>"
      ]
     },
     "metadata": {},
     "output_type": "display_data"
    }
   ],
   "source": [
    "sns.displot(df['Ex-Showroom_Price'])"
   ]
  },
  {
   "cell_type": "code",
   "execution_count": 15,
   "metadata": {
    "colab": {
     "base_uri": "https://localhost:8080/",
     "height": 316
    },
    "executionInfo": {
     "elapsed": 877,
     "status": "ok",
     "timestamp": 1704897434414,
     "user": {
      "displayName": "Rushikesh Konapure",
      "userId": "14876714731917346122"
     },
     "user_tz": -330
    },
    "id": "_8e9BAGLwtQT",
    "outputId": "a6e486fd-8420-4cc4-9416-dd76d78aa634"
   },
   "outputs": [
    {
     "data": {
      "text/html": [
       "<div>\n",
       "<style scoped>\n",
       "    .dataframe tbody tr th:only-of-type {\n",
       "        vertical-align: middle;\n",
       "    }\n",
       "\n",
       "    .dataframe tbody tr th {\n",
       "        vertical-align: top;\n",
       "    }\n",
       "\n",
       "    .dataframe thead th {\n",
       "        text-align: right;\n",
       "    }\n",
       "</style>\n",
       "<table border=\"1\" class=\"dataframe\">\n",
       "  <thead>\n",
       "    <tr style=\"text-align: right;\">\n",
       "      <th></th>\n",
       "      <th>Ex-Showroom_Price</th>\n",
       "      <th>Cylinders</th>\n",
       "      <th>Valves_Per_Cylinder</th>\n",
       "      <th>Doors</th>\n",
       "      <th>Seating_Capacity</th>\n",
       "      <th>Number_of_Airbags</th>\n",
       "      <th>USB_Ports</th>\n",
       "    </tr>\n",
       "  </thead>\n",
       "  <tbody>\n",
       "    <tr>\n",
       "      <th>count</th>\n",
       "      <td>1.276000e+03</td>\n",
       "      <td>1210.000000</td>\n",
       "      <td>1174.000000</td>\n",
       "      <td>1272.000000</td>\n",
       "      <td>1270.000000</td>\n",
       "      <td>1141.000000</td>\n",
       "      <td>29.000000</td>\n",
       "    </tr>\n",
       "    <tr>\n",
       "      <th>mean</th>\n",
       "      <td>4.596538e+06</td>\n",
       "      <td>4.380992</td>\n",
       "      <td>3.977853</td>\n",
       "      <td>4.550314</td>\n",
       "      <td>5.270079</td>\n",
       "      <td>3.787029</td>\n",
       "      <td>1.793103</td>\n",
       "    </tr>\n",
       "    <tr>\n",
       "      <th>std</th>\n",
       "      <td>1.214735e+07</td>\n",
       "      <td>1.660957</td>\n",
       "      <td>0.833763</td>\n",
       "      <td>0.747816</td>\n",
       "      <td>1.145231</td>\n",
       "      <td>2.522399</td>\n",
       "      <td>0.773642</td>\n",
       "    </tr>\n",
       "    <tr>\n",
       "      <th>min</th>\n",
       "      <td>2.364470e+05</td>\n",
       "      <td>2.000000</td>\n",
       "      <td>1.000000</td>\n",
       "      <td>2.000000</td>\n",
       "      <td>2.000000</td>\n",
       "      <td>1.000000</td>\n",
       "      <td>1.000000</td>\n",
       "    </tr>\n",
       "    <tr>\n",
       "      <th>25%</th>\n",
       "      <td>7.438760e+05</td>\n",
       "      <td>4.000000</td>\n",
       "      <td>4.000000</td>\n",
       "      <td>4.000000</td>\n",
       "      <td>5.000000</td>\n",
       "      <td>2.000000</td>\n",
       "      <td>1.000000</td>\n",
       "    </tr>\n",
       "    <tr>\n",
       "      <th>50%</th>\n",
       "      <td>1.060064e+06</td>\n",
       "      <td>4.000000</td>\n",
       "      <td>4.000000</td>\n",
       "      <td>5.000000</td>\n",
       "      <td>5.000000</td>\n",
       "      <td>2.000000</td>\n",
       "      <td>2.000000</td>\n",
       "    </tr>\n",
       "    <tr>\n",
       "      <th>75%</th>\n",
       "      <td>2.979828e+06</td>\n",
       "      <td>4.000000</td>\n",
       "      <td>4.000000</td>\n",
       "      <td>5.000000</td>\n",
       "      <td>5.000000</td>\n",
       "      <td>6.000000</td>\n",
       "      <td>2.000000</td>\n",
       "    </tr>\n",
       "    <tr>\n",
       "      <th>max</th>\n",
       "      <td>2.121554e+08</td>\n",
       "      <td>16.000000</td>\n",
       "      <td>16.000000</td>\n",
       "      <td>5.000000</td>\n",
       "      <td>16.000000</td>\n",
       "      <td>14.000000</td>\n",
       "      <td>3.000000</td>\n",
       "    </tr>\n",
       "  </tbody>\n",
       "</table>\n",
       "</div>"
      ],
      "text/plain": [
       "       Ex-Showroom_Price    Cylinders  Valves_Per_Cylinder        Doors  \\\n",
       "count       1.276000e+03  1210.000000          1174.000000  1272.000000   \n",
       "mean        4.596538e+06     4.380992             3.977853     4.550314   \n",
       "std         1.214735e+07     1.660957             0.833763     0.747816   \n",
       "min         2.364470e+05     2.000000             1.000000     2.000000   \n",
       "25%         7.438760e+05     4.000000             4.000000     4.000000   \n",
       "50%         1.060064e+06     4.000000             4.000000     5.000000   \n",
       "75%         2.979828e+06     4.000000             4.000000     5.000000   \n",
       "max         2.121554e+08    16.000000            16.000000     5.000000   \n",
       "\n",
       "       Seating_Capacity  Number_of_Airbags  USB_Ports  \n",
       "count       1270.000000        1141.000000  29.000000  \n",
       "mean           5.270079           3.787029   1.793103  \n",
       "std            1.145231           2.522399   0.773642  \n",
       "min            2.000000           1.000000   1.000000  \n",
       "25%            5.000000           2.000000   1.000000  \n",
       "50%            5.000000           2.000000   2.000000  \n",
       "75%            5.000000           6.000000   2.000000  \n",
       "max           16.000000          14.000000   3.000000  "
      ]
     },
     "execution_count": 15,
     "metadata": {},
     "output_type": "execute_result"
    }
   ],
   "source": [
    "df.describe()"
   ]
  },
  {
   "cell_type": "code",
   "execution_count": null,
   "metadata": {
    "id": "ICji3lSPy84t"
   },
   "outputs": [],
   "source": []
  },
  {
   "cell_type": "code",
   "execution_count": 16,
   "metadata": {
    "colab": {
     "base_uri": "https://localhost:8080/",
     "height": 492
    },
    "executionInfo": {
     "elapsed": 2101,
     "status": "ok",
     "timestamp": 1704897426363,
     "user": {
      "displayName": "Rushikesh Konapure",
      "userId": "14876714731917346122"
     },
     "user_tz": -330
    },
    "id": "w6ONADPqx2oh",
    "outputId": "0972844e-e793-4753-b652-ec010df6d16c"
   },
   "outputs": [
    {
     "name": "stderr",
     "output_type": "stream",
     "text": [
      "C:\\Users\\komak\\anaconda3\\lib\\site-packages\\seaborn\\_oldcore.py:1498: FutureWarning: is_categorical_dtype is deprecated and will be removed in a future version. Use isinstance(dtype, CategoricalDtype) instead\n",
      "  if pd.api.types.is_categorical_dtype(vector):\n",
      "C:\\Users\\komak\\anaconda3\\lib\\site-packages\\seaborn\\_oldcore.py:1119: FutureWarning: use_inf_as_na option is deprecated and will be removed in a future version. Convert inf values to NaN before operating instead.\n",
      "  with pd.option_context('mode.use_inf_as_na', True):\n"
     ]
    },
    {
     "data": {
      "image/png": "[encoded data removed]",
      "text/plain": [
       "<Figure size 640x480 with 1 Axes>"
      ]
     },
     "metadata": {},
     "output_type": "display_data"
    }
   ],
   "source": [
    "import seaborn as sns\n",
    "import matplotlib.pyplot as plt\n",
    "plt.ticklabel_format(style='plain')\n",
    "\n",
    "sns.histplot(df['Ex-Showroom_Price'], kde=True)\n",
    "plt.xlabel('Ex-showroom Price')\n",
    "plt.title('Histogram Plot')\n",
    "plt.show()"
   ]
  },
  {
   "cell_type": "code",
   "execution_count": 17,
   "metadata": {
    "colab": {
     "base_uri": "https://localhost:8080/"
    },
    "executionInfo": {
     "elapsed": 716,
     "status": "ok",
     "timestamp": 1704895570205,
     "user": {
      "displayName": "Rushikesh Konapure",
      "userId": "14876714731917346122"
     },
     "user_tz": -330
    },
    "id": "yn0zKK_bsbU3",
    "outputId": "1f8a692b-752c-4489-8555-31101f27a68f"
   },
   "outputs": [
    {
     "data": {
      "text/plain": [
       "Drivetrain\n",
       "FWD (Front Wheel Drive)    887\n",
       "RWD (Rear Wheel Drive)     170\n",
       "AWD (All Wheel Drive)      153\n",
       "4WD                         59\n",
       "Name: count, dtype: int64"
      ]
     },
     "execution_count": 17,
     "metadata": {},
     "output_type": "execute_result"
    }
   ],
   "source": [
    "df['Drivetrain'].value_counts()"
   ]
  },
  {
   "cell_type": "code",
   "execution_count": 18,
   "metadata": {
    "colab": {
     "base_uri": "https://localhost:8080/"
    },
    "executionInfo": {
     "elapsed": 699,
     "status": "ok",
     "timestamp": 1704895615997,
     "user": {
      "displayName": "Rushikesh Konapure",
      "userId": "14876714731917346122"
     },
     "user_tz": -330
    },
    "id": "v7GzbEJ7sj4z",
    "outputId": "1a337e97-3446-4019-d9a3-4834551377da"
   },
   "outputs": [
    {
     "data": {
      "text/plain": [
       "Cylinder_Configuration\n",
       "In-line    1077\n",
       "V           176\n",
       "W             6\n",
       "Flat          4\n",
       "Name: count, dtype: int64"
      ]
     },
     "execution_count": 18,
     "metadata": {},
     "output_type": "execute_result"
    }
   ],
   "source": [
    "df['Cylinder_Configuration'].value_counts()"
   ]
  },
  {
   "cell_type": "code",
   "execution_count": 19,
   "metadata": {
    "colab": {
     "base_uri": "https://localhost:8080/"
    },
    "executionInfo": {
     "elapsed": 443,
     "status": "ok",
     "timestamp": 1704895405727,
     "user": {
      "displayName": "Rushikesh Konapure",
      "userId": "14876714731917346122"
     },
     "user_tz": -330
    },
    "id": "F3ONrjX9r0ry",
    "outputId": "4928685e-66a5-460e-aff4-a8436a5abe0b"
   },
   "outputs": [
    {
     "data": {
      "text/plain": [
       "(1276, 141)"
      ]
     },
     "execution_count": 19,
     "metadata": {},
     "output_type": "execute_result"
    }
   ],
   "source": [
    "df.shape"
   ]
  },
  {
   "cell_type": "markdown",
   "metadata": {
    "id": "sZ1iBevtrXEg"
   },
   "source": [
    "Min, Max, Mean, 25%, 50%, Count, std - Numerical columns"
   ]
  },
  {
   "cell_type": "code",
   "execution_count": 20,
   "metadata": {
    "colab": {
     "base_uri": "https://localhost:8080/",
     "height": 316
    },
    "executionInfo": {
     "elapsed": 840,
     "status": "ok",
     "timestamp": 1704895339917,
     "user": {
      "displayName": "Rushikesh Konapure",
      "userId": "14876714731917346122"
     },
     "user_tz": -330
    },
    "id": "gB_l-zwVrUle",
    "outputId": "cff2df79-6729-476f-a078-acf35b4fb90b"
   },
   "outputs": [
    {
     "data": {
      "text/html": [
       "<div>\n",
       "<style scoped>\n",
       "    .dataframe tbody tr th:only-of-type {\n",
       "        vertical-align: middle;\n",
       "    }\n",
       "\n",
       "    .dataframe tbody tr th {\n",
       "        vertical-align: top;\n",
       "    }\n",
       "\n",
       "    .dataframe thead th {\n",
       "        text-align: right;\n",
       "    }\n",
       "</style>\n",
       "<table border=\"1\" class=\"dataframe\">\n",
       "  <thead>\n",
       "    <tr style=\"text-align: right;\">\n",
       "      <th></th>\n",
       "      <th>Ex-Showroom_Price</th>\n",
       "      <th>Cylinders</th>\n",
       "      <th>Valves_Per_Cylinder</th>\n",
       "      <th>Doors</th>\n",
       "      <th>Seating_Capacity</th>\n",
       "      <th>Number_of_Airbags</th>\n",
       "      <th>USB_Ports</th>\n",
       "    </tr>\n",
       "  </thead>\n",
       "  <tbody>\n",
       "    <tr>\n",
       "      <th>count</th>\n",
       "      <td>1.276000e+03</td>\n",
       "      <td>1210.000000</td>\n",
       "      <td>1174.000000</td>\n",
       "      <td>1272.000000</td>\n",
       "      <td>1270.000000</td>\n",
       "      <td>1141.000000</td>\n",
       "      <td>29.000000</td>\n",
       "    </tr>\n",
       "    <tr>\n",
       "      <th>mean</th>\n",
       "      <td>4.596538e+06</td>\n",
       "      <td>4.380992</td>\n",
       "      <td>3.977853</td>\n",
       "      <td>4.550314</td>\n",
       "      <td>5.270079</td>\n",
       "      <td>3.787029</td>\n",
       "      <td>1.793103</td>\n",
       "    </tr>\n",
       "    <tr>\n",
       "      <th>std</th>\n",
       "      <td>1.214735e+07</td>\n",
       "      <td>1.660957</td>\n",
       "      <td>0.833763</td>\n",
       "      <td>0.747816</td>\n",
       "      <td>1.145231</td>\n",
       "      <td>2.522399</td>\n",
       "      <td>0.773642</td>\n",
       "    </tr>\n",
       "    <tr>\n",
       "      <th>min</th>\n",
       "      <td>2.364470e+05</td>\n",
       "      <td>2.000000</td>\n",
       "      <td>1.000000</td>\n",
       "      <td>2.000000</td>\n",
       "      <td>2.000000</td>\n",
       "      <td>1.000000</td>\n",
       "      <td>1.000000</td>\n",
       "    </tr>\n",
       "    <tr>\n",
       "      <th>25%</th>\n",
       "      <td>7.438760e+05</td>\n",
       "      <td>4.000000</td>\n",
       "      <td>4.000000</td>\n",
       "      <td>4.000000</td>\n",
       "      <td>5.000000</td>\n",
       "      <td>2.000000</td>\n",
       "      <td>1.000000</td>\n",
       "    </tr>\n",
       "    <tr>\n",
       "      <th>50%</th>\n",
       "      <td>1.060064e+06</td>\n",
       "      <td>4.000000</td>\n",
       "      <td>4.000000</td>\n",
       "      <td>5.000000</td>\n",
       "      <td>5.000000</td>\n",
       "      <td>2.000000</td>\n",
       "      <td>2.000000</td>\n",
       "    </tr>\n",
       "    <tr>\n",
       "      <th>75%</th>\n",
       "      <td>2.979828e+06</td>\n",
       "      <td>4.000000</td>\n",
       "      <td>4.000000</td>\n",
       "      <td>5.000000</td>\n",
       "      <td>5.000000</td>\n",
       "      <td>6.000000</td>\n",
       "      <td>2.000000</td>\n",
       "    </tr>\n",
       "    <tr>\n",
       "      <th>max</th>\n",
       "      <td>2.121554e+08</td>\n",
       "      <td>16.000000</td>\n",
       "      <td>16.000000</td>\n",
       "      <td>5.000000</td>\n",
       "      <td>16.000000</td>\n",
       "      <td>14.000000</td>\n",
       "      <td>3.000000</td>\n",
       "    </tr>\n",
       "  </tbody>\n",
       "</table>\n",
       "</div>"
      ],
      "text/plain": [
       "       Ex-Showroom_Price    Cylinders  Valves_Per_Cylinder        Doors  \\\n",
       "count       1.276000e+03  1210.000000          1174.000000  1272.000000   \n",
       "mean        4.596538e+06     4.380992             3.977853     4.550314   \n",
       "std         1.214735e+07     1.660957             0.833763     0.747816   \n",
       "min         2.364470e+05     2.000000             1.000000     2.000000   \n",
       "25%         7.438760e+05     4.000000             4.000000     4.000000   \n",
       "50%         1.060064e+06     4.000000             4.000000     5.000000   \n",
       "75%         2.979828e+06     4.000000             4.000000     5.000000   \n",
       "max         2.121554e+08    16.000000            16.000000     5.000000   \n",
       "\n",
       "       Seating_Capacity  Number_of_Airbags  USB_Ports  \n",
       "count       1270.000000        1141.000000  29.000000  \n",
       "mean           5.270079           3.787029   1.793103  \n",
       "std            1.145231           2.522399   0.773642  \n",
       "min            2.000000           1.000000   1.000000  \n",
       "25%            5.000000           2.000000   1.000000  \n",
       "50%            5.000000           2.000000   2.000000  \n",
       "75%            5.000000           6.000000   2.000000  \n",
       "max           16.000000          14.000000   3.000000  "
      ]
     },
     "execution_count": 20,
     "metadata": {},
     "output_type": "execute_result"
    }
   ],
   "source": [
    "df.describe()"
   ]
  },
  {
   "cell_type": "code",
   "execution_count": 21,
   "metadata": {
    "colab": {
     "base_uri": "https://localhost:8080/",
     "height": 467
    },
    "executionInfo": {
     "elapsed": 1594,
     "status": "ok",
     "timestamp": 1704896193136,
     "user": {
      "displayName": "Rushikesh Konapure",
      "userId": "14876714731917346122"
     },
     "user_tz": -330
    },
    "id": "CmjzuktzuYte",
    "outputId": "17113d40-a05b-4eff-cf24-a7d116f15a5f"
   },
   "outputs": [
    {
     "data": {
      "text/plain": [
       "<Axes: ylabel='Density'>"
      ]
     },
     "execution_count": 21,
     "metadata": {},
     "output_type": "execute_result"
    },
    {
     "data": {
      "image/png": "[encoded data removed]",
      "text/plain": [
       "<Figure size 640x480 with 1 Axes>"
      ]
     },
     "metadata": {},
     "output_type": "display_data"
    }
   ],
   "source": [
    "df['Doors'].plot(kind='kde')"
   ]
  },
  {
   "cell_type": "code",
   "execution_count": 22,
   "metadata": {
    "colab": {
     "base_uri": "https://localhost:8080/"
    },
    "executionInfo": {
     "elapsed": 704,
     "status": "ok",
     "timestamp": 1704895237854,
     "user": {
      "displayName": "Rushikesh Konapure",
      "userId": "14876714731917346122"
     },
     "user_tz": -330
    },
    "id": "QehW7FTdrLYr",
    "outputId": "e0991e6f-e374-458c-be4e-73e9926200e5"
   },
   "outputs": [
    {
     "data": {
      "text/plain": [
       "0        292667\n",
       "1        236447\n",
       "2        296661\n",
       "3        334768\n",
       "4        272223\n",
       "         ...   \n",
       "1271    1302000\n",
       "1272    1421000\n",
       "1273    1431000\n",
       "1274    1201000\n",
       "1275    6862560\n",
       "Name: Ex-Showroom_Price, Length: 1276, dtype: int32"
      ]
     },
     "execution_count": 22,
     "metadata": {},
     "output_type": "execute_result"
    }
   ],
   "source": [
    "df['Ex-Showroom_Price']"
   ]
  },
  {
   "cell_type": "code",
   "execution_count": 23,
   "metadata": {
    "colab": {
     "base_uri": "https://localhost:8080/"
    },
    "executionInfo": {
     "elapsed": 401,
     "status": "ok",
     "timestamp": 1704894185523,
     "user": {
      "displayName": "Rushikesh Konapure",
      "userId": "14876714731917346122"
     },
     "user_tz": -330
    },
    "id": "9DLIYSybnJZ4",
    "outputId": "52244058-509e-4062-a2a9-544e6b09f04a"
   },
   "outputs": [
    {
     "data": {
      "text/plain": [
       "(1276, 141)"
      ]
     },
     "execution_count": 23,
     "metadata": {},
     "output_type": "execute_result"
    }
   ],
   "source": [
    "df.shape"
   ]
  },
  {
   "cell_type": "code",
   "execution_count": 24,
   "metadata": {
    "colab": {
     "base_uri": "https://localhost:8080/"
    },
    "executionInfo": {
     "elapsed": 432,
     "status": "ok",
     "timestamp": 1704894434778,
     "user": {
      "displayName": "Rushikesh Konapure",
      "userId": "14876714731917346122"
     },
     "user_tz": -330
    },
    "id": "HQmzje0zn4at",
    "outputId": "002da4a0-a635-44a6-9ad0-421a6e1b29c0"
   },
   "outputs": [
    {
     "data": {
      "text/plain": [
       "Make                   75\n",
       "Model                   0\n",
       "Variant                 0\n",
       "Ex-Showroom_Price       0\n",
       "Displacement           12\n",
       "                     ... \n",
       "Heads-Up_Display     1225\n",
       "Welcome_Lights       1207\n",
       "Battery              1263\n",
       "Electric_Range       1259\n",
       "car name               75\n",
       "Length: 141, dtype: int64"
      ]
     },
     "execution_count": 24,
     "metadata": {},
     "output_type": "execute_result"
    }
   ],
   "source": [
    "df.isna().sum()"
   ]
  },
  {
   "cell_type": "code",
   "execution_count": 25,
   "metadata": {
    "colab": {
     "base_uri": "https://localhost:8080/"
    },
    "executionInfo": {
     "elapsed": 943,
     "status": "ok",
     "timestamp": 1704894315592,
     "user": {
      "displayName": "Rushikesh Konapure",
      "userId": "14876714731917346122"
     },
     "user_tz": -330
    },
    "id": "CJ4fB56mnLjt",
    "outputId": "800d548b-05d6-435c-daf9-eff44ee9a768"
   },
   "outputs": [
    {
     "name": "stdout",
     "output_type": "stream",
     "text": [
      "<class 'pandas.core.frame.DataFrame'>\n",
      "Index: 1276 entries, 0 to 1275\n",
      "Data columns (total 141 columns):\n",
      " #    Column                                     Dtype  \n",
      "---   ------                                     -----  \n",
      " 0    Make                                       object \n",
      " 1    Model                                      object \n",
      " 2    Variant                                    object \n",
      " 3    Ex-Showroom_Price                          int32  \n",
      " 4    Displacement                               object \n",
      " 5    Cylinders                                  float64\n",
      " 6    Valves_Per_Cylinder                        float64\n",
      " 7    Drivetrain                                 object \n",
      " 8    Cylinder_Configuration                     object \n",
      " 9    Emission_Norm                              object \n",
      " 10   Engine_Location                            object \n",
      " 11   Fuel_System                                object \n",
      " 12   Fuel_Tank_Capacity                         object \n",
      " 13   Fuel_Type                                  object \n",
      " 14   Height                                     object \n",
      " 15   Length                                     object \n",
      " 16   Width                                      object \n",
      " 17   Body_Type                                  object \n",
      " 18   Doors                                      float64\n",
      " 19   City_Mileage                               object \n",
      " 20   Highway_Mileage                            object \n",
      " 21   ARAI_Certified_Mileage                     object \n",
      " 22   ARAI_Certified_Mileage_for_CNG             object \n",
      " 23   Kerb_Weight                                object \n",
      " 24   Gears                                      object \n",
      " 25   Ground_Clearance                           object \n",
      " 26   Front_Brakes                               object \n",
      " 27   Rear_Brakes                                object \n",
      " 28   Front_Suspension                           object \n",
      " 29   Rear_Suspension                            object \n",
      " 30   Front_Track                                object \n",
      " 31   Rear_Track                                 object \n",
      " 32   Front_Tyre_&_Rim                           object \n",
      " 33   Rear_Tyre_&_Rim                            object \n",
      " 34   Power_Steering                             object \n",
      " 35   Power_Windows                              object \n",
      " 36   Power_Seats                                object \n",
      " 37   Keyless_Entry                              object \n",
      " 38   Power                                      object \n",
      " 39   Torque                                     object \n",
      " 40   Odometer                                   object \n",
      " 41   Speedometer                                object \n",
      " 42   Tachometer                                 object \n",
      " 43   Tripmeter                                  object \n",
      " 44   Seating_Capacity                           float64\n",
      " 45   Seats_Material                             object \n",
      " 46   Type                                       object \n",
      " 47   Wheelbase                                  object \n",
      " 48   Wheels_Size                                object \n",
      " 49   Start_/_Stop_Button                        object \n",
      " 50   12v_Power_Outlet                           object \n",
      " 51   Audiosystem                                object \n",
      " 52   Aux-in_Compatibility                       object \n",
      " 53   Average_Fuel_Consumption                   object \n",
      " 54   Basic_Warranty                             object \n",
      " 55   Bluetooth                                  object \n",
      " 56   Boot-lid_Opener                            object \n",
      " 57   Boot_Space                                 object \n",
      " 58   CD_/_MP3_/_DVD_Player                      object \n",
      " 59   Central_Locking                            object \n",
      " 60   Child_Safety_Locks                         object \n",
      " 61   Clock                                      object \n",
      " 62   Cup_Holders                                object \n",
      " 63   Distance_to_Empty                          object \n",
      " 64   Door_Pockets                               object \n",
      " 65   Engine_Malfunction_Light                   object \n",
      " 66   Extended_Warranty                          object \n",
      " 67   FM_Radio                                   object \n",
      " 68   Fuel-lid_Opener                            object \n",
      " 69   Fuel_Gauge                                 object \n",
      " 70   Handbrake                                  object \n",
      " 71   Instrument_Console                         object \n",
      " 72   Low_Fuel_Warning                           object \n",
      " 73   Minimum_Turning_Radius                     object \n",
      " 74   Multifunction_Display                      object \n",
      " 75   Sun_Visor                                  object \n",
      " 76   Third_Row_AC_Vents                         object \n",
      " 77   Ventilation_System                         object \n",
      " 78   Auto-Dimming_Rear-View_Mirror              object \n",
      " 79   Hill_Assist                                object \n",
      " 80   Gear_Indicator                             object \n",
      " 81   3_Point_Seat-Belt_in_Middle_Rear_Seat      object \n",
      " 82   Ambient_Lightning                          object \n",
      " 83   Cargo/Boot_Lights                          object \n",
      " 84   Drive_Modes                                object \n",
      " 85   Engine_Immobilizer                         object \n",
      " 86   High_Speed_Alert_System                    object \n",
      " 87   Lane_Watch_Camera/_Side_Mirror_Camera      object \n",
      " 88   Passenger_Side_Seat-Belt_Reminder          object \n",
      " 89   Seat_Back_Pockets                          object \n",
      " 90   Voice_Recognition                          object \n",
      " 91   Walk_Away_Auto_Car_Lock                    object \n",
      " 92   ABS_(Anti-lock_Braking_System)             object \n",
      " 93   Headlight_Reminder                         object \n",
      " 94   Adjustable_Headrests                       object \n",
      " 95   Gross_Vehicle_Weight                       object \n",
      " 96   Airbags                                    object \n",
      " 97   Door_Ajar_Warning                          object \n",
      " 98   EBD_(Electronic_Brake-force_Distribution)  object \n",
      " 99   Fasten_Seat_Belt_Warning                   object \n",
      " 100  Gear_Shift_Reminder                        object \n",
      " 101  Number_of_Airbags                          float64\n",
      " 102  Compression_Ratio                          object \n",
      " 103  Adjustable_Steering_Column                 object \n",
      " 104  Other_Specs                                object \n",
      " 105  Other_specs                                object \n",
      " 106  Parking_Assistance                         object \n",
      " 107  Key_Off_Reminder                           object \n",
      " 108  USB_Compatibility                          object \n",
      " 109  Android_Auto                               object \n",
      " 110  Apple_CarPlay                              object \n",
      " 111  Cigarette_Lighter                          object \n",
      " 112  Infotainment_Screen                        object \n",
      " 113  Multifunction_Steering_Wheel               object \n",
      " 114  Average_Speed                              object \n",
      " 115  EBA_(Electronic_Brake_Assist)              object \n",
      " 116  Seat_Height_Adjustment                     object \n",
      " 117  Navigation_System                          object \n",
      " 118  Second_Row_AC_Vents                        object \n",
      " 119  Tyre_Pressure_Monitoring_System            object \n",
      " 120  Rear_Center_Armrest                        object \n",
      " 121  iPod_Compatibility                         object \n",
      " 122  ESP_(Electronic_Stability_Program)         object \n",
      " 123  Cooled_Glove_Box                           object \n",
      " 124  Recommended_Tyre_Pressure                  object \n",
      " 125  Heated_Seats                               object \n",
      " 126  Turbocharger                               object \n",
      " 127  ISOFIX_(Child-Seat_Mount)                  object \n",
      " 128  Rain_Sensing_Wipers                        object \n",
      " 129  Paddle_Shifters                            object \n",
      " 130  Leather_Wrapped_Steering                   object \n",
      " 131  Automatic_Headlamps                        object \n",
      " 132  Engine_Type                                object \n",
      " 133  ASR_/_Traction_Control                     object \n",
      " 134  Cruise_Control                             object \n",
      " 135  USB_Ports                                  float64\n",
      " 136  Heads-Up_Display                           object \n",
      " 137  Welcome_Lights                             object \n",
      " 138  Battery                                    object \n",
      " 139  Electric_Range                             object \n",
      " 140  car name                                   object \n",
      "dtypes: float64(6), int32(1), object(134)\n",
      "memory usage: 1.4+ MB\n"
     ]
    }
   ],
   "source": [
    "df.info(verbose=True)"
   ]
  },
  {
   "cell_type": "code",
   "execution_count": 26,
   "metadata": {
    "colab": {
     "base_uri": "https://localhost:8080/"
    },
    "executionInfo": {
     "elapsed": 6,
     "status": "ok",
     "timestamp": 1704894224078,
     "user": {
      "displayName": "Rushikesh Konapure",
      "userId": "14876714731917346122"
     },
     "user_tz": -330
    },
    "id": "fYjc9Q1tnPCS",
    "outputId": "9009cad0-c00b-4783-af3a-174157036259"
   },
   "outputs": [
    {
     "data": {
      "text/plain": [
       "Make                 object\n",
       "Model                object\n",
       "Variant              object\n",
       "Ex-Showroom_Price     int32\n",
       "Displacement         object\n",
       "                      ...  \n",
       "Heads-Up_Display     object\n",
       "Welcome_Lights       object\n",
       "Battery              object\n",
       "Electric_Range       object\n",
       "car name             object\n",
       "Length: 141, dtype: object"
      ]
     },
     "execution_count": 26,
     "metadata": {},
     "output_type": "execute_result"
    }
   ],
   "source": [
    "df.dtypes"
   ]
  },
  {
   "cell_type": "code",
   "execution_count": 27,
   "metadata": {
    "colab": {
     "base_uri": "https://localhost:8080/"
    },
    "executionInfo": {
     "elapsed": 669,
     "status": "ok",
     "timestamp": 1704894483962,
     "user": {
      "displayName": "Rushikesh Konapure",
      "userId": "14876714731917346122"
     },
     "user_tz": -330
    },
    "id": "HiDM9JDInVOa",
    "outputId": "9f192985-5a7e-4e16-e8b0-84205d85ced2"
   },
   "outputs": [
    {
     "data": {
      "text/plain": [
       "USB_Ports\n",
       "1.0    12\n",
       "2.0    11\n",
       "3.0     6\n",
       "Name: count, dtype: int64"
      ]
     },
     "execution_count": 27,
     "metadata": {},
     "output_type": "execute_result"
    }
   ],
   "source": [
    "df['USB_Ports'].value_counts()"
   ]
  },
  {
   "cell_type": "code",
   "execution_count": 28,
   "metadata": {
    "colab": {
     "base_uri": "https://localhost:8080/"
    },
    "executionInfo": {
     "elapsed": 10,
     "status": "ok",
     "timestamp": 1704894573253,
     "user": {
      "displayName": "Rushikesh Konapure",
      "userId": "14876714731917346122"
     },
     "user_tz": -330
    },
    "id": "2oX5oKBroUUw",
    "outputId": "d6b1f4ef-b13d-4abc-b515-e4e2112377de"
   },
   "outputs": [
    {
     "data": {
      "text/plain": [
       "Battery\n",
       "21.5 kWh,Battery Placed Under Rear Seats                                                 3\n",
       "200 ampere-hour                                                                          3\n",
       "30.2 kWh* Advanced Li-ion polymer, liquid cooled battery pack with IP67 certification    3\n",
       "210 ampere-hour                                                                          2\n",
       "44.5 (kWh), Lithium Ion                                                                  2\n",
       "Name: count, dtype: int64"
      ]
     },
     "execution_count": 28,
     "metadata": {},
     "output_type": "execute_result"
    }
   ],
   "source": [
    "df['Battery'].value_counts()"
   ]
  },
  {
   "cell_type": "code",
   "execution_count": 29,
   "metadata": {
    "colab": {
     "base_uri": "https://localhost:8080/",
     "height": 1000
    },
    "executionInfo": {
     "elapsed": 577,
     "status": "ok",
     "timestamp": 1704895037920,
     "user": {
      "displayName": "Rushikesh Konapure",
      "userId": "14876714731917346122"
     },
     "user_tz": -330
    },
    "id": "f0pb-CyFonGh",
    "outputId": "ee71f0ba-5708-4c47-f045-8139de4e4bf4"
   },
   "outputs": [
    {
     "data": {
      "text/html": [
       "<div>\n",
       "<style scoped>\n",
       "    .dataframe tbody tr th:only-of-type {\n",
       "        vertical-align: middle;\n",
       "    }\n",
       "\n",
       "    .dataframe tbody tr th {\n",
       "        vertical-align: top;\n",
       "    }\n",
       "\n",
       "    .dataframe thead th {\n",
       "        text-align: right;\n",
       "    }\n",
       "</style>\n",
       "<table border=\"1\" class=\"dataframe\">\n",
       "  <thead>\n",
       "    <tr style=\"text-align: right;\">\n",
       "      <th></th>\n",
       "      <th>Make</th>\n",
       "      <th>Model</th>\n",
       "      <th>Variant</th>\n",
       "      <th>Ex-Showroom_Price</th>\n",
       "      <th>Displacement</th>\n",
       "      <th>Cylinders</th>\n",
       "      <th>Valves_Per_Cylinder</th>\n",
       "      <th>Drivetrain</th>\n",
       "      <th>Cylinder_Configuration</th>\n",
       "      <th>Emission_Norm</th>\n",
       "      <th>...</th>\n",
       "      <th>Automatic_Headlamps</th>\n",
       "      <th>Engine_Type</th>\n",
       "      <th>ASR_/_Traction_Control</th>\n",
       "      <th>Cruise_Control</th>\n",
       "      <th>USB_Ports</th>\n",
       "      <th>Heads-Up_Display</th>\n",
       "      <th>Welcome_Lights</th>\n",
       "      <th>Battery</th>\n",
       "      <th>Electric_Range</th>\n",
       "      <th>car name</th>\n",
       "    </tr>\n",
       "  </thead>\n",
       "  <tbody>\n",
       "    <tr>\n",
       "      <th>615</th>\n",
       "      <td>Mahindra</td>\n",
       "      <td>E2O Plus</td>\n",
       "      <td>P4</td>\n",
       "      <td>881425</td>\n",
       "      <td>NaN</td>\n",
       "      <td>NaN</td>\n",
       "      <td>NaN</td>\n",
       "      <td>RWD (Rear Wheel Drive)</td>\n",
       "      <td>In-line</td>\n",
       "      <td>BS IV</td>\n",
       "      <td>...</td>\n",
       "      <td>NaN</td>\n",
       "      <td>NaN</td>\n",
       "      <td>NaN</td>\n",
       "      <td>NaN</td>\n",
       "      <td>NaN</td>\n",
       "      <td>NaN</td>\n",
       "      <td>NaN</td>\n",
       "      <td>210 ampere-hour</td>\n",
       "      <td>110 km/full charge</td>\n",
       "      <td>Mahindra-E2O Plus</td>\n",
       "    </tr>\n",
       "    <tr>\n",
       "      <th>616</th>\n",
       "      <td>Mahindra</td>\n",
       "      <td>E2O Plus</td>\n",
       "      <td>P6</td>\n",
       "      <td>957177</td>\n",
       "      <td>NaN</td>\n",
       "      <td>NaN</td>\n",
       "      <td>NaN</td>\n",
       "      <td>RWD (Rear Wheel Drive)</td>\n",
       "      <td>In-line</td>\n",
       "      <td>BS IV</td>\n",
       "      <td>...</td>\n",
       "      <td>NaN</td>\n",
       "      <td>NaN</td>\n",
       "      <td>NaN</td>\n",
       "      <td>NaN</td>\n",
       "      <td>NaN</td>\n",
       "      <td>NaN</td>\n",
       "      <td>NaN</td>\n",
       "      <td>210 ampere-hour</td>\n",
       "      <td>110 km/full charge</td>\n",
       "      <td>Mahindra-E2O Plus</td>\n",
       "    </tr>\n",
       "    <tr>\n",
       "      <th>617</th>\n",
       "      <td>Tata</td>\n",
       "      <td>Tigor Ev</td>\n",
       "      <td>Xm+</td>\n",
       "      <td>960868</td>\n",
       "      <td>NaN</td>\n",
       "      <td>NaN</td>\n",
       "      <td>NaN</td>\n",
       "      <td>FWD (Front Wheel Drive)</td>\n",
       "      <td>NaN</td>\n",
       "      <td>BS VI</td>\n",
       "      <td>...</td>\n",
       "      <td>NaN</td>\n",
       "      <td>M1 Category</td>\n",
       "      <td>NaN</td>\n",
       "      <td>NaN</td>\n",
       "      <td>NaN</td>\n",
       "      <td>NaN</td>\n",
       "      <td>NaN</td>\n",
       "      <td>21.5 kWh,Battery Placed Under Rear Seats</td>\n",
       "      <td>213 km/full charge</td>\n",
       "      <td>Tata-Tigor Ev</td>\n",
       "    </tr>\n",
       "    <tr>\n",
       "      <th>618</th>\n",
       "      <td>Tata</td>\n",
       "      <td>Tigor Ev</td>\n",
       "      <td>Xt+</td>\n",
       "      <td>975868</td>\n",
       "      <td>NaN</td>\n",
       "      <td>NaN</td>\n",
       "      <td>NaN</td>\n",
       "      <td>FWD (Front Wheel Drive)</td>\n",
       "      <td>NaN</td>\n",
       "      <td>BS VI</td>\n",
       "      <td>...</td>\n",
       "      <td>NaN</td>\n",
       "      <td>M1 Category</td>\n",
       "      <td>NaN</td>\n",
       "      <td>NaN</td>\n",
       "      <td>NaN</td>\n",
       "      <td>NaN</td>\n",
       "      <td>NaN</td>\n",
       "      <td>21.5 kWh,Battery Placed Under Rear Seats</td>\n",
       "      <td>213 km/full charge</td>\n",
       "      <td>Tata-Tigor Ev</td>\n",
       "    </tr>\n",
       "    <tr>\n",
       "      <th>619</th>\n",
       "      <td>Tata</td>\n",
       "      <td>Tigor Ev</td>\n",
       "      <td>Xe+</td>\n",
       "      <td>944175</td>\n",
       "      <td>NaN</td>\n",
       "      <td>NaN</td>\n",
       "      <td>NaN</td>\n",
       "      <td>FWD (Front Wheel Drive)</td>\n",
       "      <td>NaN</td>\n",
       "      <td>BS VI</td>\n",
       "      <td>...</td>\n",
       "      <td>NaN</td>\n",
       "      <td>M1 Category</td>\n",
       "      <td>NaN</td>\n",
       "      <td>NaN</td>\n",
       "      <td>NaN</td>\n",
       "      <td>NaN</td>\n",
       "      <td>NaN</td>\n",
       "      <td>21.5 kWh,Battery Placed Under Rear Seats</td>\n",
       "      <td>213 km/full charge</td>\n",
       "      <td>Tata-Tigor Ev</td>\n",
       "    </tr>\n",
       "    <tr>\n",
       "      <th>687</th>\n",
       "      <td>Mahindra</td>\n",
       "      <td>E Verito</td>\n",
       "      <td>D4</td>\n",
       "      <td>1293214</td>\n",
       "      <td>72 cc</td>\n",
       "      <td>NaN</td>\n",
       "      <td>NaN</td>\n",
       "      <td>FWD (Front Wheel Drive)</td>\n",
       "      <td>NaN</td>\n",
       "      <td>NaN</td>\n",
       "      <td>...</td>\n",
       "      <td>NaN</td>\n",
       "      <td>NaN</td>\n",
       "      <td>NaN</td>\n",
       "      <td>NaN</td>\n",
       "      <td>NaN</td>\n",
       "      <td>NaN</td>\n",
       "      <td>NaN</td>\n",
       "      <td>200 ampere-hour</td>\n",
       "      <td>110 km/full charge</td>\n",
       "      <td>Mahindra-E Verito</td>\n",
       "    </tr>\n",
       "    <tr>\n",
       "      <th>688</th>\n",
       "      <td>Mahindra</td>\n",
       "      <td>E Verito</td>\n",
       "      <td>D2</td>\n",
       "      <td>1267208</td>\n",
       "      <td>72 cc</td>\n",
       "      <td>NaN</td>\n",
       "      <td>NaN</td>\n",
       "      <td>FWD (Front Wheel Drive)</td>\n",
       "      <td>NaN</td>\n",
       "      <td>NaN</td>\n",
       "      <td>...</td>\n",
       "      <td>NaN</td>\n",
       "      <td>NaN</td>\n",
       "      <td>NaN</td>\n",
       "      <td>NaN</td>\n",
       "      <td>NaN</td>\n",
       "      <td>NaN</td>\n",
       "      <td>NaN</td>\n",
       "      <td>200 ampere-hour</td>\n",
       "      <td>110 km/full charge</td>\n",
       "      <td>Mahindra-E Verito</td>\n",
       "    </tr>\n",
       "    <tr>\n",
       "      <th>689</th>\n",
       "      <td>Mahindra</td>\n",
       "      <td>E Verito</td>\n",
       "      <td>D6</td>\n",
       "      <td>1303241</td>\n",
       "      <td>72 cc</td>\n",
       "      <td>NaN</td>\n",
       "      <td>NaN</td>\n",
       "      <td>FWD (Front Wheel Drive)</td>\n",
       "      <td>NaN</td>\n",
       "      <td>NaN</td>\n",
       "      <td>...</td>\n",
       "      <td>NaN</td>\n",
       "      <td>NaN</td>\n",
       "      <td>NaN</td>\n",
       "      <td>NaN</td>\n",
       "      <td>NaN</td>\n",
       "      <td>NaN</td>\n",
       "      <td>NaN</td>\n",
       "      <td>200 ampere-hour</td>\n",
       "      <td>110 km/full charge</td>\n",
       "      <td>Mahindra-E Verito</td>\n",
       "    </tr>\n",
       "    <tr>\n",
       "      <th>745</th>\n",
       "      <td>Mg</td>\n",
       "      <td>Zs Ev</td>\n",
       "      <td>Excite</td>\n",
       "      <td>2088000</td>\n",
       "      <td>NaN</td>\n",
       "      <td>NaN</td>\n",
       "      <td>NaN</td>\n",
       "      <td>RWD (Rear Wheel Drive)</td>\n",
       "      <td>In-line</td>\n",
       "      <td>BS 6</td>\n",
       "      <td>...</td>\n",
       "      <td>Yes</td>\n",
       "      <td>NaN</td>\n",
       "      <td>Yes</td>\n",
       "      <td>Yes</td>\n",
       "      <td>NaN</td>\n",
       "      <td>Yes</td>\n",
       "      <td>NaN</td>\n",
       "      <td>44.5 (kWh), Lithium Ion</td>\n",
       "      <td>340 km/full charge</td>\n",
       "      <td>Mg-Zs Ev</td>\n",
       "    </tr>\n",
       "    <tr>\n",
       "      <th>746</th>\n",
       "      <td>Mg</td>\n",
       "      <td>Zs Ev</td>\n",
       "      <td>Exclusive</td>\n",
       "      <td>2358000</td>\n",
       "      <td>NaN</td>\n",
       "      <td>NaN</td>\n",
       "      <td>NaN</td>\n",
       "      <td>RWD (Rear Wheel Drive)</td>\n",
       "      <td>In-line</td>\n",
       "      <td>BS 6</td>\n",
       "      <td>...</td>\n",
       "      <td>Yes</td>\n",
       "      <td>NaN</td>\n",
       "      <td>Yes</td>\n",
       "      <td>Yes</td>\n",
       "      <td>NaN</td>\n",
       "      <td>Yes</td>\n",
       "      <td>NaN</td>\n",
       "      <td>44.5 (kWh), Lithium Ion</td>\n",
       "      <td>340 km/full charge</td>\n",
       "      <td>Mg-Zs Ev</td>\n",
       "    </tr>\n",
       "    <tr>\n",
       "      <th>1006</th>\n",
       "      <td>Tata</td>\n",
       "      <td>Nexon Ev</td>\n",
       "      <td>Xm</td>\n",
       "      <td>1399000</td>\n",
       "      <td>NaN</td>\n",
       "      <td>NaN</td>\n",
       "      <td>NaN</td>\n",
       "      <td>FWD (Front Wheel Drive)</td>\n",
       "      <td>In-line</td>\n",
       "      <td>BS VI</td>\n",
       "      <td>...</td>\n",
       "      <td>NaN</td>\n",
       "      <td>NaN</td>\n",
       "      <td>Yes</td>\n",
       "      <td>NaN</td>\n",
       "      <td>NaN</td>\n",
       "      <td>Yes</td>\n",
       "      <td>NaN</td>\n",
       "      <td>30.2 kWh* Advanced Li-ion polymer, liquid cool...</td>\n",
       "      <td>312 km/full charge</td>\n",
       "      <td>Tata-Nexon Ev</td>\n",
       "    </tr>\n",
       "    <tr>\n",
       "      <th>1007</th>\n",
       "      <td>Tata</td>\n",
       "      <td>Nexon Ev</td>\n",
       "      <td>Xz Plus</td>\n",
       "      <td>1499000</td>\n",
       "      <td>NaN</td>\n",
       "      <td>NaN</td>\n",
       "      <td>NaN</td>\n",
       "      <td>FWD (Front Wheel Drive)</td>\n",
       "      <td>In-line</td>\n",
       "      <td>BS VI</td>\n",
       "      <td>...</td>\n",
       "      <td>NaN</td>\n",
       "      <td>NaN</td>\n",
       "      <td>Yes</td>\n",
       "      <td>NaN</td>\n",
       "      <td>NaN</td>\n",
       "      <td>Yes</td>\n",
       "      <td>NaN</td>\n",
       "      <td>30.2 kWh* Advanced Li-ion polymer, liquid cool...</td>\n",
       "      <td>312 km/full charge</td>\n",
       "      <td>Tata-Nexon Ev</td>\n",
       "    </tr>\n",
       "    <tr>\n",
       "      <th>1008</th>\n",
       "      <td>Tata</td>\n",
       "      <td>Nexon Ev</td>\n",
       "      <td>Xz Plus Lux</td>\n",
       "      <td>1599000</td>\n",
       "      <td>NaN</td>\n",
       "      <td>NaN</td>\n",
       "      <td>NaN</td>\n",
       "      <td>FWD (Front Wheel Drive)</td>\n",
       "      <td>In-line</td>\n",
       "      <td>BS VI</td>\n",
       "      <td>...</td>\n",
       "      <td>Yes</td>\n",
       "      <td>NaN</td>\n",
       "      <td>Yes</td>\n",
       "      <td>NaN</td>\n",
       "      <td>NaN</td>\n",
       "      <td>Yes</td>\n",
       "      <td>NaN</td>\n",
       "      <td>30.2 kWh* Advanced Li-ion polymer, liquid cool...</td>\n",
       "      <td>300 km/full charge</td>\n",
       "      <td>Tata-Nexon Ev</td>\n",
       "    </tr>\n",
       "  </tbody>\n",
       "</table>\n",
       "<p>13 rows × 141 columns</p>\n",
       "</div>"
      ],
      "text/plain": [
       "          Make     Model      Variant  Ex-Showroom_Price Displacement  \\\n",
       "615   Mahindra  E2O Plus           P4             881425          NaN   \n",
       "616   Mahindra  E2O Plus           P6             957177          NaN   \n",
       "617       Tata  Tigor Ev          Xm+             960868          NaN   \n",
       "618       Tata  Tigor Ev          Xt+             975868          NaN   \n",
       "619       Tata  Tigor Ev          Xe+             944175          NaN   \n",
       "687   Mahindra  E Verito           D4            1293214        72 cc   \n",
       "688   Mahindra  E Verito           D2            1267208        72 cc   \n",
       "689   Mahindra  E Verito           D6            1303241        72 cc   \n",
       "745         Mg     Zs Ev       Excite            2088000          NaN   \n",
       "746         Mg     Zs Ev    Exclusive            2358000          NaN   \n",
       "1006      Tata  Nexon Ev           Xm            1399000          NaN   \n",
       "1007      Tata  Nexon Ev      Xz Plus            1499000          NaN   \n",
       "1008      Tata  Nexon Ev  Xz Plus Lux            1599000          NaN   \n",
       "\n",
       "      Cylinders  Valves_Per_Cylinder               Drivetrain  \\\n",
       "615         NaN                  NaN   RWD (Rear Wheel Drive)   \n",
       "616         NaN                  NaN   RWD (Rear Wheel Drive)   \n",
       "617         NaN                  NaN  FWD (Front Wheel Drive)   \n",
       "618         NaN                  NaN  FWD (Front Wheel Drive)   \n",
       "619         NaN                  NaN  FWD (Front Wheel Drive)   \n",
       "687         NaN                  NaN  FWD (Front Wheel Drive)   \n",
       "688         NaN                  NaN  FWD (Front Wheel Drive)   \n",
       "689         NaN                  NaN  FWD (Front Wheel Drive)   \n",
       "745         NaN                  NaN   RWD (Rear Wheel Drive)   \n",
       "746         NaN                  NaN   RWD (Rear Wheel Drive)   \n",
       "1006        NaN                  NaN  FWD (Front Wheel Drive)   \n",
       "1007        NaN                  NaN  FWD (Front Wheel Drive)   \n",
       "1008        NaN                  NaN  FWD (Front Wheel Drive)   \n",
       "\n",
       "     Cylinder_Configuration Emission_Norm  ... Automatic_Headlamps  \\\n",
       "615                 In-line         BS IV  ...                 NaN   \n",
       "616                 In-line         BS IV  ...                 NaN   \n",
       "617                     NaN         BS VI  ...                 NaN   \n",
       "618                     NaN         BS VI  ...                 NaN   \n",
       "619                     NaN         BS VI  ...                 NaN   \n",
       "687                     NaN           NaN  ...                 NaN   \n",
       "688                     NaN           NaN  ...                 NaN   \n",
       "689                     NaN           NaN  ...                 NaN   \n",
       "745                 In-line          BS 6  ...                 Yes   \n",
       "746                 In-line          BS 6  ...                 Yes   \n",
       "1006                In-line         BS VI  ...                 NaN   \n",
       "1007                In-line         BS VI  ...                 NaN   \n",
       "1008                In-line         BS VI  ...                 Yes   \n",
       "\n",
       "      Engine_Type ASR_/_Traction_Control Cruise_Control USB_Ports  \\\n",
       "615           NaN                    NaN            NaN       NaN   \n",
       "616           NaN                    NaN            NaN       NaN   \n",
       "617   M1 Category                    NaN            NaN       NaN   \n",
       "618   M1 Category                    NaN            NaN       NaN   \n",
       "619   M1 Category                    NaN            NaN       NaN   \n",
       "687           NaN                    NaN            NaN       NaN   \n",
       "688           NaN                    NaN            NaN       NaN   \n",
       "689           NaN                    NaN            NaN       NaN   \n",
       "745           NaN                    Yes            Yes       NaN   \n",
       "746           NaN                    Yes            Yes       NaN   \n",
       "1006          NaN                    Yes            NaN       NaN   \n",
       "1007          NaN                    Yes            NaN       NaN   \n",
       "1008          NaN                    Yes            NaN       NaN   \n",
       "\n",
       "     Heads-Up_Display Welcome_Lights  \\\n",
       "615               NaN            NaN   \n",
       "616               NaN            NaN   \n",
       "617               NaN            NaN   \n",
       "618               NaN            NaN   \n",
       "619               NaN            NaN   \n",
       "687               NaN            NaN   \n",
       "688               NaN            NaN   \n",
       "689               NaN            NaN   \n",
       "745               Yes            NaN   \n",
       "746               Yes            NaN   \n",
       "1006              Yes            NaN   \n",
       "1007              Yes            NaN   \n",
       "1008              Yes            NaN   \n",
       "\n",
       "                                                Battery      Electric_Range  \\\n",
       "615                                     210 ampere-hour  110 km/full charge   \n",
       "616                                     210 ampere-hour  110 km/full charge   \n",
       "617            21.5 kWh,Battery Placed Under Rear Seats  213 km/full charge   \n",
       "618            21.5 kWh,Battery Placed Under Rear Seats  213 km/full charge   \n",
       "619            21.5 kWh,Battery Placed Under Rear Seats  213 km/full charge   \n",
       "687                                     200 ampere-hour  110 km/full charge   \n",
       "688                                     200 ampere-hour  110 km/full charge   \n",
       "689                                     200 ampere-hour  110 km/full charge   \n",
       "745                             44.5 (kWh), Lithium Ion  340 km/full charge   \n",
       "746                             44.5 (kWh), Lithium Ion  340 km/full charge   \n",
       "1006  30.2 kWh* Advanced Li-ion polymer, liquid cool...  312 km/full charge   \n",
       "1007  30.2 kWh* Advanced Li-ion polymer, liquid cool...  312 km/full charge   \n",
       "1008  30.2 kWh* Advanced Li-ion polymer, liquid cool...  300 km/full charge   \n",
       "\n",
       "               car name  \n",
       "615   Mahindra-E2O Plus  \n",
       "616   Mahindra-E2O Plus  \n",
       "617       Tata-Tigor Ev  \n",
       "618       Tata-Tigor Ev  \n",
       "619       Tata-Tigor Ev  \n",
       "687   Mahindra-E Verito  \n",
       "688   Mahindra-E Verito  \n",
       "689   Mahindra-E Verito  \n",
       "745            Mg-Zs Ev  \n",
       "746            Mg-Zs Ev  \n",
       "1006      Tata-Nexon Ev  \n",
       "1007      Tata-Nexon Ev  \n",
       "1008      Tata-Nexon Ev  \n",
       "\n",
       "[13 rows x 141 columns]"
      ]
     },
     "execution_count": 29,
     "metadata": {},
     "output_type": "execute_result"
    }
   ],
   "source": [
    "df[~df['Battery'].isna()]"
   ]
  },
  {
   "cell_type": "code",
   "execution_count": 30,
   "metadata": {
    "colab": {
     "base_uri": "https://localhost:8080/"
    },
    "executionInfo": {
     "elapsed": 686,
     "status": "ok",
     "timestamp": 1704895082259,
     "user": {
      "displayName": "Rushikesh Konapure",
      "userId": "14876714731917346122"
     },
     "user_tz": -330
    },
    "id": "r2cf9j3-ozAR",
    "outputId": "b16ca3a1-4821-419b-9262-84c383ae601e"
   },
   "outputs": [
    {
     "data": {
      "text/plain": [
       "13"
      ]
     },
     "execution_count": 30,
     "metadata": {},
     "output_type": "execute_result"
    }
   ],
   "source": [
    "1276 - 1263"
   ]
  },
  {
   "cell_type": "code",
   "execution_count": 38,
   "metadata": {},
   "outputs": [
    {
     "name": "stdout",
     "output_type": "stream",
     "text": [
      "Index(['Make', 'Model', 'Variant', 'Ex-Showroom_Price', 'Displacement',\n",
      "       'Cylinders', 'Valves_Per_Cylinder', 'Drivetrain',\n",
      "       'Cylinder_Configuration', 'Emission_Norm',\n",
      "       ...\n",
      "       'Automatic_Headlamps', 'Engine_Type', 'ASR_/_Traction_Control',\n",
      "       'Cruise_Control', 'USB_Ports', 'Heads-Up_Display', 'Welcome_Lights',\n",
      "       'Battery', 'Electric_Range', 'car name'],\n",
      "      dtype='object', length=141)\n"
     ]
    }
   ],
   "source": [
    "print(df.columns)"
   ]
  },
  {
   "cell_type": "markdown",
   "metadata": {
    "id": "J24NjPevtQ5Q"
   },
   "source": [
    "In order to get good resutls from an Ml model - WE need to have a data which is normally distributed."
   ]
  },
  {
   "cell_type": "code",
   "execution_count": 39,
   "metadata": {
    "id": "aE9eTp9Gqmmu",
    "scrolled": true
   },
   "outputs": [
    {
     "data": {
      "text/html": [
       "<div>\n",
       "<style scoped>\n",
       "    .dataframe tbody tr th:only-of-type {\n",
       "        vertical-align: middle;\n",
       "    }\n",
       "\n",
       "    .dataframe tbody tr th {\n",
       "        vertical-align: top;\n",
       "    }\n",
       "\n",
       "    .dataframe thead th {\n",
       "        text-align: right;\n",
       "    }\n",
       "</style>\n",
       "<table border=\"1\" class=\"dataframe\">\n",
       "  <thead>\n",
       "    <tr style=\"text-align: right;\">\n",
       "      <th></th>\n",
       "      <th>Log Scale</th>\n",
       "      <th>Numeric Scale</th>\n",
       "    </tr>\n",
       "  </thead>\n",
       "  <tbody>\n",
       "    <tr>\n",
       "      <th>0</th>\n",
       "      <td>12.586791</td>\n",
       "      <td>292667.0</td>\n",
       "    </tr>\n",
       "    <tr>\n",
       "      <th>1</th>\n",
       "      <td>12.373479</td>\n",
       "      <td>236447.0</td>\n",
       "    </tr>\n",
       "    <tr>\n",
       "      <th>2</th>\n",
       "      <td>12.600345</td>\n",
       "      <td>296661.0</td>\n",
       "    </tr>\n",
       "    <tr>\n",
       "      <th>3</th>\n",
       "      <td>12.721193</td>\n",
       "      <td>334768.0</td>\n",
       "    </tr>\n",
       "    <tr>\n",
       "      <th>4</th>\n",
       "      <td>12.514377</td>\n",
       "      <td>272223.0</td>\n",
       "    </tr>\n",
       "  </tbody>\n",
       "</table>\n",
       "</div>"
      ],
      "text/plain": [
       "   Log Scale  Numeric Scale\n",
       "0  12.586791       292667.0\n",
       "1  12.373479       236447.0\n",
       "2  12.600345       296661.0\n",
       "3  12.721193       334768.0\n",
       "4  12.514377       272223.0"
      ]
     },
     "execution_count": 39,
     "metadata": {},
     "output_type": "execute_result"
    }
   ],
   "source": [
    "log_scale_data = np.log(df['Ex-Showroom_Price'])\n",
    "numeric_scale_data = np.exp(log_scale_data)\n",
    "\n",
    "conversion_df = pd.DataFrame({'Log Scale': log_scale_data, 'Numeric Scale': numeric_scale_data})\n",
    "conversion_df.head()\n"
   ]
  },
  {
   "cell_type": "code",
   "execution_count": 42,
   "metadata": {
    "executionInfo": {
     "elapsed": 503,
     "status": "ok",
     "timestamp": 1704897912299,
     "user": {
      "displayName": "Rushikesh Konapure",
      "userId": "14876714731917346122"
     },
     "user_tz": -330
    },
    "id": "tl-pEVp41Pz8"
   },
   "outputs": [],
   "source": [
    "#df.to_csv('/content/sample_data/clean_data.csv')\n",
    "#df.to_csv('https://github.com/vignay21/Prepinsta-Winter-Internship/tree/main/PrepInsta-Week6/Indian%20Cars/clean_data.csv')\n",
    "df.to_csv('C:/Users/komak/OneDrive/Desktop/Prepinsta Winter Internship/PrepInsta-Week6/Indian Cars/clean_data.csv')"
   ]
  },
  {
   "cell_type": "code",
   "execution_count": null,
   "metadata": {
    "id": "J15yP4sA1eB0"
   },
   "outputs": [],
   "source": []
  }
 ],
 "metadata": {
  "colab": {
   "authorship_tag": "ABX9TyNM9bnNSrNsR0BNbfaM4Bbk",
   "mount_file_id": "1Rpzx7xlKQRI6ym01T7vXOfPASlB0a_hr",
   "provenance": []
  },
  "kernelspec": {
   "display_name": "Python 3 (ipykernel)",
   "language": "python",
   "name": "python3"
  },
  "language_info": {
   "codemirror_mode": {
    "name": "ipython",
    "version": 3
   },
   "file_extension": ".py",
   "mimetype": "text/x-python",
   "name": "python",
   "nbconvert_exporter": "python",
   "pygments_lexer": "ipython3",
   "version": "3.9.16"
  }
 },
 "nbformat": 4,
 "nbformat_minor": 1
}
